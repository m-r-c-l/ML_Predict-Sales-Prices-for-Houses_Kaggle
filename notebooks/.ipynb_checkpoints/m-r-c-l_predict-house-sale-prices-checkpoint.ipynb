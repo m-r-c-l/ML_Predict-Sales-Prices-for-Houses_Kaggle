{
 "cells": [
  {
   "cell_type": "markdown",
   "id": "e12213bb",
   "metadata": {},
   "source": [
    "# Kaggle Competition: Predict house sale prices"
   ]
  },
  {
   "cell_type": "markdown",
   "id": "5458b1c1",
   "metadata": {},
   "source": [
    "Link to Kaggle competition: [House Prices - Advanced Regression Techniques](https://www.kaggle.com/c/house-prices-advanced-regression-techniques/data)\n",
    "\n",
    "\n",
    "Goal:\n",
    "- It is your job to predict the sales price for each house. For each Id in the test set, you must predict the value of the SalePrice variable. \n",
    "\n",
    "Metric:\n",
    "- Submissions are evaluated on Root-Mean-Squared-Error (RMSE) between the logarithm of the predicted value and the logarithm of the observed sales price.\n",
    "- Taking logs means that errors in predicting expensive houses and cheap houses will affect the result equally.\n",
    "\n",
    "Submission File Format:\n",
    "- The file should contain a header and have the following format:\n",
    "```\n",
    "Id,SalePrice\n",
    "1461,169000.1\n",
    "1462,187724.1233\n",
    "1463,175221\n",
    "etc.\n",
    "```"
   ]
  },
  {
   "cell_type": "markdown",
   "id": "6dd4ffb3",
   "metadata": {},
   "source": [
    "# Imports"
   ]
  },
  {
   "cell_type": "markdown",
   "id": "62cb51eb",
   "metadata": {},
   "source": [
    "## Packages"
   ]
  },
  {
   "cell_type": "code",
   "execution_count": 10,
   "id": "48637c64",
   "metadata": {},
   "outputs": [],
   "source": [
    "import pandas as pd\n",
    "import numpy as np"
   ]
  },
  {
   "cell_type": "code",
   "execution_count": 11,
   "id": "535cfb34",
   "metadata": {},
   "outputs": [],
   "source": [
    "import matplotlib.pyplot as plt"
   ]
  },
  {
   "cell_type": "code",
   "execution_count": 111,
   "id": "477bd975",
   "metadata": {},
   "outputs": [],
   "source": [
    "from scipy.stats import skew, zscore"
   ]
  },
  {
   "cell_type": "markdown",
   "id": "f77d8e86",
   "metadata": {},
   "source": [
    "## Data"
   ]
  },
  {
   "cell_type": "code",
   "execution_count": 72,
   "id": "2e449042",
   "metadata": {
    "scrolled": true
   },
   "outputs": [
    {
     "data": {
      "text/html": [
       "<div>\n",
       "<style scoped>\n",
       "    .dataframe tbody tr th:only-of-type {\n",
       "        vertical-align: middle;\n",
       "    }\n",
       "\n",
       "    .dataframe tbody tr th {\n",
       "        vertical-align: top;\n",
       "    }\n",
       "\n",
       "    .dataframe thead th {\n",
       "        text-align: right;\n",
       "    }\n",
       "</style>\n",
       "<table border=\"1\" class=\"dataframe\">\n",
       "  <thead>\n",
       "    <tr style=\"text-align: right;\">\n",
       "      <th></th>\n",
       "      <th>MSSubClass</th>\n",
       "      <th>MSZoning</th>\n",
       "      <th>LotFrontage</th>\n",
       "      <th>LotArea</th>\n",
       "      <th>Street</th>\n",
       "      <th>Alley</th>\n",
       "      <th>LotShape</th>\n",
       "      <th>LandContour</th>\n",
       "      <th>Utilities</th>\n",
       "      <th>LotConfig</th>\n",
       "      <th>...</th>\n",
       "      <th>PoolArea</th>\n",
       "      <th>PoolQC</th>\n",
       "      <th>Fence</th>\n",
       "      <th>MiscFeature</th>\n",
       "      <th>MiscVal</th>\n",
       "      <th>MoSold</th>\n",
       "      <th>YrSold</th>\n",
       "      <th>SaleType</th>\n",
       "      <th>SaleCondition</th>\n",
       "      <th>SalePrice</th>\n",
       "    </tr>\n",
       "    <tr>\n",
       "      <th>Id</th>\n",
       "      <th></th>\n",
       "      <th></th>\n",
       "      <th></th>\n",
       "      <th></th>\n",
       "      <th></th>\n",
       "      <th></th>\n",
       "      <th></th>\n",
       "      <th></th>\n",
       "      <th></th>\n",
       "      <th></th>\n",
       "      <th></th>\n",
       "      <th></th>\n",
       "      <th></th>\n",
       "      <th></th>\n",
       "      <th></th>\n",
       "      <th></th>\n",
       "      <th></th>\n",
       "      <th></th>\n",
       "      <th></th>\n",
       "      <th></th>\n",
       "      <th></th>\n",
       "    </tr>\n",
       "  </thead>\n",
       "  <tbody>\n",
       "    <tr>\n",
       "      <th>1</th>\n",
       "      <td>60</td>\n",
       "      <td>RL</td>\n",
       "      <td>65.0</td>\n",
       "      <td>8450</td>\n",
       "      <td>Pave</td>\n",
       "      <td>NaN</td>\n",
       "      <td>Reg</td>\n",
       "      <td>Lvl</td>\n",
       "      <td>AllPub</td>\n",
       "      <td>Inside</td>\n",
       "      <td>...</td>\n",
       "      <td>0</td>\n",
       "      <td>NaN</td>\n",
       "      <td>NaN</td>\n",
       "      <td>NaN</td>\n",
       "      <td>0</td>\n",
       "      <td>2</td>\n",
       "      <td>2008</td>\n",
       "      <td>WD</td>\n",
       "      <td>Normal</td>\n",
       "      <td>208500</td>\n",
       "    </tr>\n",
       "    <tr>\n",
       "      <th>2</th>\n",
       "      <td>20</td>\n",
       "      <td>RL</td>\n",
       "      <td>80.0</td>\n",
       "      <td>9600</td>\n",
       "      <td>Pave</td>\n",
       "      <td>NaN</td>\n",
       "      <td>Reg</td>\n",
       "      <td>Lvl</td>\n",
       "      <td>AllPub</td>\n",
       "      <td>FR2</td>\n",
       "      <td>...</td>\n",
       "      <td>0</td>\n",
       "      <td>NaN</td>\n",
       "      <td>NaN</td>\n",
       "      <td>NaN</td>\n",
       "      <td>0</td>\n",
       "      <td>5</td>\n",
       "      <td>2007</td>\n",
       "      <td>WD</td>\n",
       "      <td>Normal</td>\n",
       "      <td>181500</td>\n",
       "    </tr>\n",
       "    <tr>\n",
       "      <th>3</th>\n",
       "      <td>60</td>\n",
       "      <td>RL</td>\n",
       "      <td>68.0</td>\n",
       "      <td>11250</td>\n",
       "      <td>Pave</td>\n",
       "      <td>NaN</td>\n",
       "      <td>IR1</td>\n",
       "      <td>Lvl</td>\n",
       "      <td>AllPub</td>\n",
       "      <td>Inside</td>\n",
       "      <td>...</td>\n",
       "      <td>0</td>\n",
       "      <td>NaN</td>\n",
       "      <td>NaN</td>\n",
       "      <td>NaN</td>\n",
       "      <td>0</td>\n",
       "      <td>9</td>\n",
       "      <td>2008</td>\n",
       "      <td>WD</td>\n",
       "      <td>Normal</td>\n",
       "      <td>223500</td>\n",
       "    </tr>\n",
       "    <tr>\n",
       "      <th>4</th>\n",
       "      <td>70</td>\n",
       "      <td>RL</td>\n",
       "      <td>60.0</td>\n",
       "      <td>9550</td>\n",
       "      <td>Pave</td>\n",
       "      <td>NaN</td>\n",
       "      <td>IR1</td>\n",
       "      <td>Lvl</td>\n",
       "      <td>AllPub</td>\n",
       "      <td>Corner</td>\n",
       "      <td>...</td>\n",
       "      <td>0</td>\n",
       "      <td>NaN</td>\n",
       "      <td>NaN</td>\n",
       "      <td>NaN</td>\n",
       "      <td>0</td>\n",
       "      <td>2</td>\n",
       "      <td>2006</td>\n",
       "      <td>WD</td>\n",
       "      <td>Abnorml</td>\n",
       "      <td>140000</td>\n",
       "    </tr>\n",
       "    <tr>\n",
       "      <th>5</th>\n",
       "      <td>60</td>\n",
       "      <td>RL</td>\n",
       "      <td>84.0</td>\n",
       "      <td>14260</td>\n",
       "      <td>Pave</td>\n",
       "      <td>NaN</td>\n",
       "      <td>IR1</td>\n",
       "      <td>Lvl</td>\n",
       "      <td>AllPub</td>\n",
       "      <td>FR2</td>\n",
       "      <td>...</td>\n",
       "      <td>0</td>\n",
       "      <td>NaN</td>\n",
       "      <td>NaN</td>\n",
       "      <td>NaN</td>\n",
       "      <td>0</td>\n",
       "      <td>12</td>\n",
       "      <td>2008</td>\n",
       "      <td>WD</td>\n",
       "      <td>Normal</td>\n",
       "      <td>250000</td>\n",
       "    </tr>\n",
       "    <tr>\n",
       "      <th>...</th>\n",
       "      <td>...</td>\n",
       "      <td>...</td>\n",
       "      <td>...</td>\n",
       "      <td>...</td>\n",
       "      <td>...</td>\n",
       "      <td>...</td>\n",
       "      <td>...</td>\n",
       "      <td>...</td>\n",
       "      <td>...</td>\n",
       "      <td>...</td>\n",
       "      <td>...</td>\n",
       "      <td>...</td>\n",
       "      <td>...</td>\n",
       "      <td>...</td>\n",
       "      <td>...</td>\n",
       "      <td>...</td>\n",
       "      <td>...</td>\n",
       "      <td>...</td>\n",
       "      <td>...</td>\n",
       "      <td>...</td>\n",
       "      <td>...</td>\n",
       "    </tr>\n",
       "    <tr>\n",
       "      <th>1456</th>\n",
       "      <td>60</td>\n",
       "      <td>RL</td>\n",
       "      <td>62.0</td>\n",
       "      <td>7917</td>\n",
       "      <td>Pave</td>\n",
       "      <td>NaN</td>\n",
       "      <td>Reg</td>\n",
       "      <td>Lvl</td>\n",
       "      <td>AllPub</td>\n",
       "      <td>Inside</td>\n",
       "      <td>...</td>\n",
       "      <td>0</td>\n",
       "      <td>NaN</td>\n",
       "      <td>NaN</td>\n",
       "      <td>NaN</td>\n",
       "      <td>0</td>\n",
       "      <td>8</td>\n",
       "      <td>2007</td>\n",
       "      <td>WD</td>\n",
       "      <td>Normal</td>\n",
       "      <td>175000</td>\n",
       "    </tr>\n",
       "    <tr>\n",
       "      <th>1457</th>\n",
       "      <td>20</td>\n",
       "      <td>RL</td>\n",
       "      <td>85.0</td>\n",
       "      <td>13175</td>\n",
       "      <td>Pave</td>\n",
       "      <td>NaN</td>\n",
       "      <td>Reg</td>\n",
       "      <td>Lvl</td>\n",
       "      <td>AllPub</td>\n",
       "      <td>Inside</td>\n",
       "      <td>...</td>\n",
       "      <td>0</td>\n",
       "      <td>NaN</td>\n",
       "      <td>MnPrv</td>\n",
       "      <td>NaN</td>\n",
       "      <td>0</td>\n",
       "      <td>2</td>\n",
       "      <td>2010</td>\n",
       "      <td>WD</td>\n",
       "      <td>Normal</td>\n",
       "      <td>210000</td>\n",
       "    </tr>\n",
       "    <tr>\n",
       "      <th>1458</th>\n",
       "      <td>70</td>\n",
       "      <td>RL</td>\n",
       "      <td>66.0</td>\n",
       "      <td>9042</td>\n",
       "      <td>Pave</td>\n",
       "      <td>NaN</td>\n",
       "      <td>Reg</td>\n",
       "      <td>Lvl</td>\n",
       "      <td>AllPub</td>\n",
       "      <td>Inside</td>\n",
       "      <td>...</td>\n",
       "      <td>0</td>\n",
       "      <td>NaN</td>\n",
       "      <td>GdPrv</td>\n",
       "      <td>Shed</td>\n",
       "      <td>2500</td>\n",
       "      <td>5</td>\n",
       "      <td>2010</td>\n",
       "      <td>WD</td>\n",
       "      <td>Normal</td>\n",
       "      <td>266500</td>\n",
       "    </tr>\n",
       "    <tr>\n",
       "      <th>1459</th>\n",
       "      <td>20</td>\n",
       "      <td>RL</td>\n",
       "      <td>68.0</td>\n",
       "      <td>9717</td>\n",
       "      <td>Pave</td>\n",
       "      <td>NaN</td>\n",
       "      <td>Reg</td>\n",
       "      <td>Lvl</td>\n",
       "      <td>AllPub</td>\n",
       "      <td>Inside</td>\n",
       "      <td>...</td>\n",
       "      <td>0</td>\n",
       "      <td>NaN</td>\n",
       "      <td>NaN</td>\n",
       "      <td>NaN</td>\n",
       "      <td>0</td>\n",
       "      <td>4</td>\n",
       "      <td>2010</td>\n",
       "      <td>WD</td>\n",
       "      <td>Normal</td>\n",
       "      <td>142125</td>\n",
       "    </tr>\n",
       "    <tr>\n",
       "      <th>1460</th>\n",
       "      <td>20</td>\n",
       "      <td>RL</td>\n",
       "      <td>75.0</td>\n",
       "      <td>9937</td>\n",
       "      <td>Pave</td>\n",
       "      <td>NaN</td>\n",
       "      <td>Reg</td>\n",
       "      <td>Lvl</td>\n",
       "      <td>AllPub</td>\n",
       "      <td>Inside</td>\n",
       "      <td>...</td>\n",
       "      <td>0</td>\n",
       "      <td>NaN</td>\n",
       "      <td>NaN</td>\n",
       "      <td>NaN</td>\n",
       "      <td>0</td>\n",
       "      <td>6</td>\n",
       "      <td>2008</td>\n",
       "      <td>WD</td>\n",
       "      <td>Normal</td>\n",
       "      <td>147500</td>\n",
       "    </tr>\n",
       "  </tbody>\n",
       "</table>\n",
       "<p>1460 rows × 80 columns</p>\n",
       "</div>"
      ],
      "text/plain": [
       "      MSSubClass MSZoning  LotFrontage  LotArea Street Alley LotShape  \\\n",
       "Id                                                                      \n",
       "1             60       RL         65.0     8450   Pave   NaN      Reg   \n",
       "2             20       RL         80.0     9600   Pave   NaN      Reg   \n",
       "3             60       RL         68.0    11250   Pave   NaN      IR1   \n",
       "4             70       RL         60.0     9550   Pave   NaN      IR1   \n",
       "5             60       RL         84.0    14260   Pave   NaN      IR1   \n",
       "...          ...      ...          ...      ...    ...   ...      ...   \n",
       "1456          60       RL         62.0     7917   Pave   NaN      Reg   \n",
       "1457          20       RL         85.0    13175   Pave   NaN      Reg   \n",
       "1458          70       RL         66.0     9042   Pave   NaN      Reg   \n",
       "1459          20       RL         68.0     9717   Pave   NaN      Reg   \n",
       "1460          20       RL         75.0     9937   Pave   NaN      Reg   \n",
       "\n",
       "     LandContour Utilities LotConfig  ... PoolArea PoolQC  Fence MiscFeature  \\\n",
       "Id                                    ...                                      \n",
       "1            Lvl    AllPub    Inside  ...        0    NaN    NaN         NaN   \n",
       "2            Lvl    AllPub       FR2  ...        0    NaN    NaN         NaN   \n",
       "3            Lvl    AllPub    Inside  ...        0    NaN    NaN         NaN   \n",
       "4            Lvl    AllPub    Corner  ...        0    NaN    NaN         NaN   \n",
       "5            Lvl    AllPub       FR2  ...        0    NaN    NaN         NaN   \n",
       "...          ...       ...       ...  ...      ...    ...    ...         ...   \n",
       "1456         Lvl    AllPub    Inside  ...        0    NaN    NaN         NaN   \n",
       "1457         Lvl    AllPub    Inside  ...        0    NaN  MnPrv         NaN   \n",
       "1458         Lvl    AllPub    Inside  ...        0    NaN  GdPrv        Shed   \n",
       "1459         Lvl    AllPub    Inside  ...        0    NaN    NaN         NaN   \n",
       "1460         Lvl    AllPub    Inside  ...        0    NaN    NaN         NaN   \n",
       "\n",
       "     MiscVal MoSold  YrSold  SaleType  SaleCondition  SalePrice  \n",
       "Id                                                               \n",
       "1          0      2    2008        WD         Normal     208500  \n",
       "2          0      5    2007        WD         Normal     181500  \n",
       "3          0      9    2008        WD         Normal     223500  \n",
       "4          0      2    2006        WD        Abnorml     140000  \n",
       "5          0     12    2008        WD         Normal     250000  \n",
       "...      ...    ...     ...       ...            ...        ...  \n",
       "1456       0      8    2007        WD         Normal     175000  \n",
       "1457       0      2    2010        WD         Normal     210000  \n",
       "1458    2500      5    2010        WD         Normal     266500  \n",
       "1459       0      4    2010        WD         Normal     142125  \n",
       "1460       0      6    2008        WD         Normal     147500  \n",
       "\n",
       "[1460 rows x 80 columns]"
      ]
     },
     "execution_count": 72,
     "metadata": {},
     "output_type": "execute_result"
    }
   ],
   "source": [
    "data = pd.read_csv('../data/train.csv', index_col='Id')\n",
    "data"
   ]
  },
  {
   "cell_type": "code",
   "execution_count": 13,
   "id": "8272e081",
   "metadata": {},
   "outputs": [
    {
     "name": "stdout",
     "output_type": "stream",
     "text": [
      "MSSubClass: Identifies the type of dwelling involved in the sale.\t\n",
      "\n",
      "        20\t1-STORY 1946 & NEWER ALL STYLES\n",
      "        30\t1-STORY 1945 & OLDER\n",
      "        40\t1-STORY W/FINISHED ATTIC ALL AGES\n",
      "        45\t1-1/2 STORY - UNFINISHED ALL AGES\n",
      "        50\t1-1/2 STORY FINISHED ALL AGES\n",
      "        60\t2-STORY 1946 & NEWER\n",
      "        70\t2-STORY 1945 & OLDER\n",
      "        75\t2-1/2 STORY ALL AGES\n",
      "        80\tSPLIT OR MULTI-LEVEL\n",
      "        85\tSPLIT FOYER\n",
      "        90\tDUPLEX - ALL STYLES AND AGES\n",
      "       120\t1-STORY PUD (Planned Unit Development) - 1946 & NEWER\n",
      "       150\t1-1/2 STORY PUD - ALL AGES\n",
      "       160\t2-STORY PUD - 1946 & NEWER\n",
      "       180\tPUD - MULTILEVEL - INCL SPLIT LEV/FOYER\n",
      "       190\t2 FAMILY CONVERSION - ALL STYLES AND AGES\n",
      "\n",
      "MSZoning: Identifies the general zoning classification of the sale.\n",
      "\t\t\n",
      "       A\tAgriculture\n",
      "       C\tCommercial\n",
      "       FV\tFloating Village Residential\n",
      "       I\tIndustrial\n",
      "       RH\tResidential High Density\n",
      "       RL\tResidential Low Density\n",
      "       RP\tResidential Low Density Park \n",
      "       RM\tResidential Medium Density\n",
      "\t\n",
      "LotFrontage: Linear feet of street connected to property\n",
      "\n",
      "LotArea: Lot size in square feet\n",
      "\n",
      "Street: Type of road access to property\n",
      "\n",
      "       Grvl\tGravel\t\n",
      "       Pave\tPaved\n",
      "       \t\n",
      "Alley: Type of alley access to property\n",
      "\n",
      "       Grvl\tGravel\n",
      "       Pave\tPaved\n",
      "       NA \tNo alley access\n",
      "\t\t\n",
      "LotShape: General shape of property\n",
      "\n",
      "       Reg\tRegular\t\n",
      "       IR1\tSlightly irregular\n",
      "       IR2\tModerately Irregular\n",
      "       IR3\tIrregular\n",
      "       \n",
      "LandContour: Flatness of the property\n",
      "\n",
      "       Lvl\tNear Flat/Level\t\n",
      "       Bnk\tBanked - Quick and significant rise from street grade to building\n",
      "       HLS\tHillside - Significant slope from side to side\n",
      "       Low\tDepression\n",
      "\t\t\n",
      "Utilities: Type of utilities available\n",
      "\t\t\n",
      "       AllPub\tAll public Utilities (E,G,W,& S)\t\n",
      "       NoSewr\tElectricity, Gas, and Water (Septic Tank)\n",
      "       NoSeWa\tElectricity and Gas Only\n",
      "       ELO\tElectricity only\t\n",
      "\t\n",
      "LotConfig: Lot configuration\n",
      "\n",
      "       Inside\tInside lot\n",
      "       Corner\tCorner lot\n",
      "       CulDSac\tCul-de-sac\n",
      "       FR2\tFrontage on 2 sides of property\n",
      "       FR3\tFrontage on 3 sides of property\n",
      "\t\n",
      "LandSlope: Slope of property\n",
      "\t\t\n",
      "       Gtl\tGentle slope\n",
      "       Mod\tModerate Slope\t\n",
      "       Sev\tSevere Slope\n",
      "\t\n",
      "Neighborhood: Physical locations within Ames city limits\n",
      "\n",
      "       Blmngtn\tBloomington Heights\n",
      "       Blueste\tBluestem\n",
      "       BrDale\tBriardale\n",
      "       BrkSide\tBrookside\n",
      "       ClearCr\tClear Creek\n",
      "       CollgCr\tCollege Creek\n",
      "       Crawfor\tCrawford\n",
      "       Edwards\tEdwards\n",
      "       Gilbert\tGilbert\n",
      "       IDOTRR\tIowa DOT and Rail Road\n",
      "       MeadowV\tMeadow Village\n",
      "       Mitchel\tMitchell\n",
      "       Names\tNorth Ames\n",
      "       NoRidge\tNorthridge\n",
      "       NPkVill\tNorthpark Villa\n",
      "       NridgHt\tNorthridge Heights\n",
      "       NWAmes\tNorthwest Ames\n",
      "       OldTown\tOld Town\n",
      "       SWISU\tSouth & West of Iowa State University\n",
      "       Sawyer\tSawyer\n",
      "       SawyerW\tSawyer West\n",
      "       Somerst\tSomerset\n",
      "       StoneBr\tStone Brook\n",
      "       Timber\tTimberland\n",
      "       Veenker\tVeenker\n",
      "\t\t\t\n",
      "Condition1: Proximity to various conditions\n",
      "\t\n",
      "       Artery\tAdjacent to arterial street\n",
      "       Feedr\tAdjacent to feeder street\t\n",
      "       Norm\tNormal\t\n",
      "       RRNn\tWithin 200' of North-South Railroad\n",
      "       RRAn\tAdjacent to North-South Railroad\n",
      "       PosN\tNear positive off-site feature--park, greenbelt, etc.\n",
      "       PosA\tAdjacent to postive off-site feature\n",
      "       RRNe\tWithin 200' of East-West Railroad\n",
      "       RRAe\tAdjacent to East-West Railroad\n",
      "\t\n",
      "Condition2: Proximity to various conditions (if more than one is present)\n",
      "\t\t\n",
      "       Artery\tAdjacent to arterial street\n",
      "       Feedr\tAdjacent to feeder street\t\n",
      "       Norm\tNormal\t\n",
      "       RRNn\tWithin 200' of North-South Railroad\n",
      "       RRAn\tAdjacent to North-South Railroad\n",
      "       PosN\tNear positive off-site feature--park, greenbelt, etc.\n",
      "       PosA\tAdjacent to postive off-site feature\n",
      "       RRNe\tWithin 200' of East-West Railroad\n",
      "       RRAe\tAdjacent to East-West Railroad\n",
      "\t\n",
      "BldgType: Type of dwelling\n",
      "\t\t\n",
      "       1Fam\tSingle-family Detached\t\n",
      "       2FmCon\tTwo-family Conversion; originally built as one-family dwelling\n",
      "       Duplx\tDuplex\n",
      "       TwnhsE\tTownhouse End Unit\n",
      "       TwnhsI\tTownhouse Inside Unit\n",
      "\t\n",
      "HouseStyle: Style of dwelling\n",
      "\t\n",
      "       1Story\tOne story\n",
      "       1.5Fin\tOne and one-half story: 2nd level finished\n",
      "       1.5Unf\tOne and one-half story: 2nd level unfinished\n",
      "       2Story\tTwo story\n",
      "       2.5Fin\tTwo and one-half story: 2nd level finished\n",
      "       2.5Unf\tTwo and one-half story: 2nd level unfinished\n",
      "       SFoyer\tSplit Foyer\n",
      "       SLvl\tSplit Level\n",
      "\t\n",
      "OverallQual: Rates the overall material and finish of the house\n",
      "\n",
      "       10\tVery Excellent\n",
      "       9\tExcellent\n",
      "       8\tVery Good\n",
      "       7\tGood\n",
      "       6\tAbove Average\n",
      "       5\tAverage\n",
      "       4\tBelow Average\n",
      "       3\tFair\n",
      "       2\tPoor\n",
      "       1\tVery Poor\n",
      "\t\n",
      "OverallCond: Rates the overall condition of the house\n",
      "\n",
      "       10\tVery Excellent\n",
      "       9\tExcellent\n",
      "       8\tVery Good\n",
      "       7\tGood\n",
      "       6\tAbove Average\t\n",
      "       5\tAverage\n",
      "       4\tBelow Average\t\n",
      "       3\tFair\n",
      "       2\tPoor\n",
      "       1\tVery Poor\n",
      "\t\t\n",
      "YearBuilt: Original construction date\n",
      "\n",
      "YearRemodAdd: Remodel date (same as construction date if no remodeling or additions)\n",
      "\n",
      "RoofStyle: Type of roof\n",
      "\n",
      "       Flat\tFlat\n",
      "       Gable\tGable\n",
      "       Gambrel\tGabrel (Barn)\n",
      "       Hip\tHip\n",
      "       Mansard\tMansard\n",
      "       Shed\tShed\n",
      "\t\t\n",
      "RoofMatl: Roof material\n",
      "\n",
      "       ClyTile\tClay or Tile\n",
      "       CompShg\tStandard (Composite) Shingle\n",
      "       Membran\tMembrane\n",
      "       Metal\tMetal\n",
      "       Roll\tRoll\n",
      "       Tar&Grv\tGravel & Tar\n",
      "       WdShake\tWood Shakes\n",
      "       WdShngl\tWood Shingles\n",
      "\t\t\n",
      "Exterior1st: Exterior covering on house\n",
      "\n",
      "       AsbShng\tAsbestos Shingles\n",
      "       AsphShn\tAsphalt Shingles\n",
      "       BrkComm\tBrick Common\n",
      "       BrkFace\tBrick Face\n",
      "       CBlock\tCinder Block\n",
      "       CemntBd\tCement Board\n",
      "       HdBoard\tHard Board\n",
      "       ImStucc\tImitation Stucco\n",
      "       MetalSd\tMetal Siding\n",
      "       Other\tOther\n",
      "       Plywood\tPlywood\n",
      "       PreCast\tPreCast\t\n",
      "       Stone\tStone\n",
      "       Stucco\tStucco\n",
      "       VinylSd\tVinyl Siding\n",
      "       Wd Sdng\tWood Siding\n",
      "       WdShing\tWood Shingles\n",
      "\t\n",
      "Exterior2nd: Exterior covering on house (if more than one material)\n",
      "\n",
      "       AsbShng\tAsbestos Shingles\n",
      "       AsphShn\tAsphalt Shingles\n",
      "       BrkComm\tBrick Common\n",
      "       BrkFace\tBrick Face\n",
      "       CBlock\tCinder Block\n",
      "       CemntBd\tCement Board\n",
      "       HdBoard\tHard Board\n",
      "       ImStucc\tImitation Stucco\n",
      "       MetalSd\tMetal Siding\n",
      "       Other\tOther\n",
      "       Plywood\tPlywood\n",
      "       PreCast\tPreCast\n",
      "       Stone\tStone\n",
      "       Stucco\tStucco\n",
      "       VinylSd\tVinyl Siding\n",
      "       Wd Sdng\tWood Siding\n",
      "       WdShing\tWood Shingles\n",
      "\t\n",
      "MasVnrType: Masonry veneer type\n",
      "\n",
      "       BrkCmn\tBrick Common\n",
      "       BrkFace\tBrick Face\n",
      "       CBlock\tCinder Block\n",
      "       None\tNone\n",
      "       Stone\tStone\n",
      "\t\n",
      "MasVnrArea: Masonry veneer area in square feet\n",
      "\n",
      "ExterQual: Evaluates the quality of the material on the exterior \n",
      "\t\t\n",
      "       Ex\tExcellent\n",
      "       Gd\tGood\n",
      "       TA\tAverage/Typical\n",
      "       Fa\tFair\n",
      "       Po\tPoor\n",
      "\t\t\n",
      "ExterCond: Evaluates the present condition of the material on the exterior\n",
      "\t\t\n",
      "       Ex\tExcellent\n",
      "       Gd\tGood\n",
      "       TA\tAverage/Typical\n",
      "       Fa\tFair\n",
      "       Po\tPoor\n",
      "\t\t\n",
      "Foundation: Type of foundation\n",
      "\t\t\n",
      "       BrkTil\tBrick & Tile\n",
      "       CBlock\tCinder Block\n",
      "       PConc\tPoured Contrete\t\n",
      "       Slab\tSlab\n",
      "       Stone\tStone\n",
      "       Wood\tWood\n",
      "\t\t\n",
      "BsmtQual: Evaluates the height of the basement\n",
      "\n",
      "       Ex\tExcellent (100+ inches)\t\n",
      "       Gd\tGood (90-99 inches)\n",
      "       TA\tTypical (80-89 inches)\n",
      "       Fa\tFair (70-79 inches)\n",
      "       Po\tPoor (<70 inches\n",
      "       NA\tNo Basement\n",
      "\t\t\n",
      "BsmtCond: Evaluates the general condition of the basement\n",
      "\n",
      "       Ex\tExcellent\n",
      "       Gd\tGood\n",
      "       TA\tTypical - slight dampness allowed\n",
      "       Fa\tFair - dampness or some cracking or settling\n",
      "       Po\tPoor - Severe cracking, settling, or wetness\n",
      "       NA\tNo Basement\n",
      "\t\n",
      "BsmtExposure: Refers to walkout or garden level walls\n",
      "\n",
      "       Gd\tGood Exposure\n",
      "       Av\tAverage Exposure (split levels or foyers typically score average or above)\t\n",
      "       Mn\tMimimum Exposure\n",
      "       No\tNo Exposure\n",
      "       NA\tNo Basement\n",
      "\t\n",
      "BsmtFinType1: Rating of basement finished area\n",
      "\n",
      "       GLQ\tGood Living Quarters\n",
      "       ALQ\tAverage Living Quarters\n",
      "       BLQ\tBelow Average Living Quarters\t\n",
      "       Rec\tAverage Rec Room\n",
      "       LwQ\tLow Quality\n",
      "       Unf\tUnfinshed\n",
      "       NA\tNo Basement\n",
      "\t\t\n",
      "BsmtFinSF1: Type 1 finished square feet\n",
      "\n",
      "BsmtFinType2: Rating of basement finished area (if multiple types)\n",
      "\n",
      "       GLQ\tGood Living Quarters\n",
      "       ALQ\tAverage Living Quarters\n",
      "       BLQ\tBelow Average Living Quarters\t\n",
      "       Rec\tAverage Rec Room\n",
      "       LwQ\tLow Quality\n",
      "       Unf\tUnfinshed\n",
      "       NA\tNo Basement\n",
      "\n",
      "BsmtFinSF2: Type 2 finished square feet\n",
      "\n",
      "BsmtUnfSF: Unfinished square feet of basement area\n",
      "\n",
      "TotalBsmtSF: Total square feet of basement area\n",
      "\n",
      "Heating: Type of heating\n",
      "\t\t\n",
      "       Floor\tFloor Furnace\n",
      "       GasA\tGas forced warm air furnace\n",
      "       GasW\tGas hot water or steam heat\n",
      "       Grav\tGravity furnace\t\n",
      "       OthW\tHot water or steam heat other than gas\n",
      "       Wall\tWall furnace\n",
      "\t\t\n",
      "HeatingQC: Heating quality and condition\n",
      "\n",
      "       Ex\tExcellent\n",
      "       Gd\tGood\n",
      "       TA\tAverage/Typical\n",
      "       Fa\tFair\n",
      "       Po\tPoor\n",
      "\t\t\n",
      "CentralAir: Central air conditioning\n",
      "\n",
      "       N\tNo\n",
      "       Y\tYes\n",
      "\t\t\n",
      "Electrical: Electrical system\n",
      "\n",
      "       SBrkr\tStandard Circuit Breakers & Romex\n",
      "       FuseA\tFuse Box over 60 AMP and all Romex wiring (Average)\t\n",
      "       FuseF\t60 AMP Fuse Box and mostly Romex wiring (Fair)\n",
      "       FuseP\t60 AMP Fuse Box and mostly knob & tube wiring (poor)\n",
      "       Mix\tMixed\n",
      "\t\t\n",
      "1stFlrSF: First Floor square feet\n",
      " \n",
      "2ndFlrSF: Second floor square feet\n",
      "\n",
      "LowQualFinSF: Low quality finished square feet (all floors)\n",
      "\n",
      "GrLivArea: Above grade (ground) living area square feet\n",
      "\n",
      "BsmtFullBath: Basement full bathrooms\n",
      "\n",
      "BsmtHalfBath: Basement half bathrooms\n",
      "\n",
      "FullBath: Full bathrooms above grade\n",
      "\n",
      "HalfBath: Half baths above grade\n",
      "\n",
      "Bedroom: Bedrooms above grade (does NOT include basement bedrooms)\n",
      "\n",
      "Kitchen: Kitchens above grade\n",
      "\n",
      "KitchenQual: Kitchen quality\n",
      "\n",
      "       Ex\tExcellent\n",
      "       Gd\tGood\n",
      "       TA\tTypical/Average\n",
      "       Fa\tFair\n",
      "       Po\tPoor\n",
      "       \t\n",
      "TotRmsAbvGrd: Total rooms above grade (does not include bathrooms)\n",
      "\n",
      "Functional: Home functionality (Assume typical unless deductions are warranted)\n",
      "\n",
      "       Typ\tTypical Functionality\n",
      "       Min1\tMinor Deductions 1\n",
      "       Min2\tMinor Deductions 2\n",
      "       Mod\tModerate Deductions\n",
      "       Maj1\tMajor Deductions 1\n",
      "       Maj2\tMajor Deductions 2\n",
      "       Sev\tSeverely Damaged\n",
      "       Sal\tSalvage only\n",
      "\t\t\n",
      "Fireplaces: Number of fireplaces\n",
      "\n",
      "FireplaceQu: Fireplace quality\n",
      "\n",
      "       Ex\tExcellent - Exceptional Masonry Fireplace\n",
      "       Gd\tGood - Masonry Fireplace in main level\n",
      "       TA\tAverage - Prefabricated Fireplace in main living area or Masonry Fireplace in basement\n",
      "       Fa\tFair - Prefabricated Fireplace in basement\n",
      "       Po\tPoor - Ben Franklin Stove\n",
      "       NA\tNo Fireplace\n",
      "\t\t\n",
      "GarageType: Garage location\n",
      "\t\t\n",
      "       2Types\tMore than one type of garage\n",
      "       Attchd\tAttached to home\n",
      "       Basment\tBasement Garage\n",
      "       BuiltIn\tBuilt-In (Garage part of house - typically has room above garage)\n",
      "       CarPort\tCar Port\n",
      "       Detchd\tDetached from home\n",
      "       NA\tNo Garage\n",
      "\t\t\n",
      "GarageYrBlt: Year garage was built\n",
      "\t\t\n",
      "GarageFinish: Interior finish of the garage\n",
      "\n",
      "       Fin\tFinished\n",
      "       RFn\tRough Finished\t\n",
      "       Unf\tUnfinished\n",
      "       NA\tNo Garage\n",
      "\t\t\n",
      "GarageCars: Size of garage in car capacity\n",
      "\n",
      "GarageArea: Size of garage in square feet\n",
      "\n",
      "GarageQual: Garage quality\n",
      "\n",
      "       Ex\tExcellent\n",
      "       Gd\tGood\n",
      "       TA\tTypical/Average\n",
      "       Fa\tFair\n",
      "       Po\tPoor\n",
      "       NA\tNo Garage\n",
      "\t\t\n",
      "GarageCond: Garage condition\n",
      "\n",
      "       Ex\tExcellent\n",
      "       Gd\tGood\n",
      "       TA\tTypical/Average\n",
      "       Fa\tFair\n",
      "       Po\tPoor\n",
      "       NA\tNo Garage\n",
      "\t\t\n",
      "PavedDrive: Paved driveway\n",
      "\n",
      "       Y\tPaved \n",
      "       P\tPartial Pavement\n",
      "       N\tDirt/Gravel\n",
      "\t\t\n",
      "WoodDeckSF: Wood deck area in square feet\n",
      "\n",
      "OpenPorchSF: Open porch area in square feet\n",
      "\n",
      "EnclosedPorch: Enclosed porch area in square feet\n",
      "\n",
      "3SsnPorch: Three season porch area in square feet\n",
      "\n",
      "ScreenPorch: Screen porch area in square feet\n",
      "\n",
      "PoolArea: Pool area in square feet\n",
      "\n",
      "PoolQC: Pool quality\n",
      "\t\t\n",
      "       Ex\tExcellent\n",
      "       Gd\tGood\n",
      "       TA\tAverage/Typical\n",
      "       Fa\tFair\n",
      "       NA\tNo Pool\n",
      "\t\t\n",
      "Fence: Fence quality\n",
      "\t\t\n",
      "       GdPrv\tGood Privacy\n",
      "       MnPrv\tMinimum Privacy\n",
      "       GdWo\tGood Wood\n",
      "       MnWw\tMinimum Wood/Wire\n",
      "       NA\tNo Fence\n",
      "\t\n",
      "MiscFeature: Miscellaneous feature not covered in other categories\n",
      "\t\t\n",
      "       Elev\tElevator\n",
      "       Gar2\t2nd Garage (if not described in garage section)\n",
      "       Othr\tOther\n",
      "       Shed\tShed (over 100 SF)\n",
      "       TenC\tTennis Court\n",
      "       NA\tNone\n",
      "\t\t\n",
      "MiscVal: $Value of miscellaneous feature\n",
      "\n",
      "MoSold: Month Sold (MM)\n",
      "\n",
      "YrSold: Year Sold (YYYY)\n",
      "\n",
      "SaleType: Type of sale\n",
      "\t\t\n",
      "       WD \tWarranty Deed - Conventional\n",
      "       CWD\tWarranty Deed - Cash\n",
      "       VWD\tWarranty Deed - VA Loan\n",
      "       New\tHome just constructed and sold\n",
      "       COD\tCourt Officer Deed/Estate\n",
      "       Con\tContract 15% Down payment regular terms\n",
      "       ConLw\tContract Low Down payment and low interest\n",
      "       ConLI\tContract Low Interest\n",
      "       ConLD\tContract Low Down\n",
      "       Oth\tOther\n",
      "\t\t\n",
      "SaleCondition: Condition of sale\n",
      "\n",
      "       Normal\tNormal Sale\n",
      "       Abnorml\tAbnormal Sale -  trade, foreclosure, short sale\n",
      "       AdjLand\tAdjoining Land Purchase\n",
      "       Alloca\tAllocation - two linked properties with separate deeds, typically condo with a garage unit\t\n",
      "       Family\tSale between family members\n",
      "       Partial\tHome was not completed when last assessed (associated with New Homes)\n",
      "\n"
     ]
    }
   ],
   "source": [
    "def show_documentation():\n",
    "    with open('../data/data_description.txt', 'r') as documentation:\n",
    "        print(documentation.read())\n",
    "        \n",
    "show_documentation()"
   ]
  },
  {
   "cell_type": "markdown",
   "id": "f03d76ab",
   "metadata": {},
   "source": [
    "# Inspect"
   ]
  },
  {
   "cell_type": "markdown",
   "id": "1e72bf9f",
   "metadata": {
    "heading_collapsed": true
   },
   "source": [
    "## General"
   ]
  },
  {
   "cell_type": "code",
   "execution_count": 14,
   "id": "7ce47516",
   "metadata": {
    "hidden": true,
    "scrolled": true
   },
   "outputs": [
    {
     "name": "stdout",
     "output_type": "stream",
     "text": [
      "<class 'pandas.core.frame.DataFrame'>\n",
      "Int64Index: 1460 entries, 1 to 1460\n",
      "Data columns (total 80 columns):\n",
      " #   Column         Non-Null Count  Dtype  \n",
      "---  ------         --------------  -----  \n",
      " 0   MSSubClass     1460 non-null   int64  \n",
      " 1   MSZoning       1460 non-null   object \n",
      " 2   LotFrontage    1201 non-null   float64\n",
      " 3   LotArea        1460 non-null   int64  \n",
      " 4   Street         1460 non-null   object \n",
      " 5   Alley          91 non-null     object \n",
      " 6   LotShape       1460 non-null   object \n",
      " 7   LandContour    1460 non-null   object \n",
      " 8   Utilities      1460 non-null   object \n",
      " 9   LotConfig      1460 non-null   object \n",
      " 10  LandSlope      1460 non-null   object \n",
      " 11  Neighborhood   1460 non-null   object \n",
      " 12  Condition1     1460 non-null   object \n",
      " 13  Condition2     1460 non-null   object \n",
      " 14  BldgType       1460 non-null   object \n",
      " 15  HouseStyle     1460 non-null   object \n",
      " 16  OverallQual    1460 non-null   int64  \n",
      " 17  OverallCond    1460 non-null   int64  \n",
      " 18  YearBuilt      1460 non-null   int64  \n",
      " 19  YearRemodAdd   1460 non-null   int64  \n",
      " 20  RoofStyle      1460 non-null   object \n",
      " 21  RoofMatl       1460 non-null   object \n",
      " 22  Exterior1st    1460 non-null   object \n",
      " 23  Exterior2nd    1460 non-null   object \n",
      " 24  MasVnrType     1452 non-null   object \n",
      " 25  MasVnrArea     1452 non-null   float64\n",
      " 26  ExterQual      1460 non-null   object \n",
      " 27  ExterCond      1460 non-null   object \n",
      " 28  Foundation     1460 non-null   object \n",
      " 29  BsmtQual       1423 non-null   object \n",
      " 30  BsmtCond       1423 non-null   object \n",
      " 31  BsmtExposure   1422 non-null   object \n",
      " 32  BsmtFinType1   1423 non-null   object \n",
      " 33  BsmtFinSF1     1460 non-null   int64  \n",
      " 34  BsmtFinType2   1422 non-null   object \n",
      " 35  BsmtFinSF2     1460 non-null   int64  \n",
      " 36  BsmtUnfSF      1460 non-null   int64  \n",
      " 37  TotalBsmtSF    1460 non-null   int64  \n",
      " 38  Heating        1460 non-null   object \n",
      " 39  HeatingQC      1460 non-null   object \n",
      " 40  CentralAir     1460 non-null   object \n",
      " 41  Electrical     1459 non-null   object \n",
      " 42  1stFlrSF       1460 non-null   int64  \n",
      " 43  2ndFlrSF       1460 non-null   int64  \n",
      " 44  LowQualFinSF   1460 non-null   int64  \n",
      " 45  GrLivArea      1460 non-null   int64  \n",
      " 46  BsmtFullBath   1460 non-null   int64  \n",
      " 47  BsmtHalfBath   1460 non-null   int64  \n",
      " 48  FullBath       1460 non-null   int64  \n",
      " 49  HalfBath       1460 non-null   int64  \n",
      " 50  BedroomAbvGr   1460 non-null   int64  \n",
      " 51  KitchenAbvGr   1460 non-null   int64  \n",
      " 52  KitchenQual    1460 non-null   object \n",
      " 53  TotRmsAbvGrd   1460 non-null   int64  \n",
      " 54  Functional     1460 non-null   object \n",
      " 55  Fireplaces     1460 non-null   int64  \n",
      " 56  FireplaceQu    770 non-null    object \n",
      " 57  GarageType     1379 non-null   object \n",
      " 58  GarageYrBlt    1379 non-null   float64\n",
      " 59  GarageFinish   1379 non-null   object \n",
      " 60  GarageCars     1460 non-null   int64  \n",
      " 61  GarageArea     1460 non-null   int64  \n",
      " 62  GarageQual     1379 non-null   object \n",
      " 63  GarageCond     1379 non-null   object \n",
      " 64  PavedDrive     1460 non-null   object \n",
      " 65  WoodDeckSF     1460 non-null   int64  \n",
      " 66  OpenPorchSF    1460 non-null   int64  \n",
      " 67  EnclosedPorch  1460 non-null   int64  \n",
      " 68  3SsnPorch      1460 non-null   int64  \n",
      " 69  ScreenPorch    1460 non-null   int64  \n",
      " 70  PoolArea       1460 non-null   int64  \n",
      " 71  PoolQC         7 non-null      object \n",
      " 72  Fence          281 non-null    object \n",
      " 73  MiscFeature    54 non-null     object \n",
      " 74  MiscVal        1460 non-null   int64  \n",
      " 75  MoSold         1460 non-null   int64  \n",
      " 76  YrSold         1460 non-null   int64  \n",
      " 77  SaleType       1460 non-null   object \n",
      " 78  SaleCondition  1460 non-null   object \n",
      " 79  SalePrice      1460 non-null   int64  \n",
      "dtypes: float64(3), int64(34), object(43)\n",
      "memory usage: 923.9+ KB\n"
     ]
    }
   ],
   "source": [
    "data.info()"
   ]
  },
  {
   "cell_type": "markdown",
   "id": "f0820221",
   "metadata": {
    "heading_collapsed": true
   },
   "source": [
    "## Duplicates"
   ]
  },
  {
   "cell_type": "code",
   "execution_count": 15,
   "id": "46c25fa4",
   "metadata": {
    "hidden": true
   },
   "outputs": [
    {
     "data": {
      "text/plain": [
       "0"
      ]
     },
     "execution_count": 15,
     "metadata": {},
     "output_type": "execute_result"
    }
   ],
   "source": [
    "data.duplicated().sum()"
   ]
  },
  {
   "cell_type": "markdown",
   "id": "776867d3",
   "metadata": {
    "heading_collapsed": true
   },
   "source": [
    "## Missing data"
   ]
  },
  {
   "cell_type": "markdown",
   "id": "ff69ff5c",
   "metadata": {
    "hidden": true
   },
   "source": [
    "### Overview"
   ]
  },
  {
   "cell_type": "code",
   "execution_count": 16,
   "id": "e8887c95",
   "metadata": {
    "hidden": true,
    "scrolled": true
   },
   "outputs": [
    {
     "data": {
      "text/plain": [
       "PoolQC          1453\n",
       "MiscFeature     1406\n",
       "Alley           1369\n",
       "Fence           1179\n",
       "FireplaceQu      690\n",
       "LotFrontage      259\n",
       "GarageYrBlt       81\n",
       "GarageCond        81\n",
       "GarageType        81\n",
       "GarageFinish      81\n",
       "GarageQual        81\n",
       "BsmtExposure      38\n",
       "BsmtFinType2      38\n",
       "BsmtCond          37\n",
       "BsmtQual          37\n",
       "BsmtFinType1      37\n",
       "MasVnrArea         8\n",
       "MasVnrType         8\n",
       "Electrical         1\n",
       "MSSubClass         0\n",
       "Fireplaces         0\n",
       "Functional         0\n",
       "KitchenQual        0\n",
       "KitchenAbvGr       0\n",
       "BedroomAbvGr       0\n",
       "dtype: int64"
      ]
     },
     "execution_count": 16,
     "metadata": {},
     "output_type": "execute_result"
    }
   ],
   "source": [
    "# First view\n",
    "na_overview = data.isna().sum().sort_values(ascending=False)\n",
    "\n",
    "na_overview.head(25)"
   ]
  },
  {
   "cell_type": "code",
   "execution_count": 17,
   "id": "eeca2b2c",
   "metadata": {
    "hidden": true,
    "scrolled": false
   },
   "outputs": [
    {
     "data": {
      "image/png": "[encoded data removed]",
      "text/plain": [
       "<Figure size 1000x800 with 1 Axes>"
      ]
     },
     "metadata": {},
     "output_type": "display_data"
    }
   ],
   "source": [
    "# Filter out columns with no missing values\n",
    "missing_values = na_overview[na_overview > 0]\n",
    "\n",
    "# Plot\n",
    "plt.figure(figsize=(10, 8))\n",
    "missing_values.plot(kind='bar')\n",
    "plt.xlabel('Columns')\n",
    "plt.ylabel('Number of Missing Values')\n",
    "plt.title('Missing Values per Column')\n",
    "plt.xticks(rotation=90)\n",
    "plt.show()\n"
   ]
  },
  {
   "cell_type": "code",
   "execution_count": 18,
   "id": "08ed4974",
   "metadata": {
    "hidden": true
   },
   "outputs": [
    {
     "data": {
      "text/plain": [
       "19"
      ]
     },
     "execution_count": 18,
     "metadata": {},
     "output_type": "execute_result"
    }
   ],
   "source": [
    "len(missing_values)"
   ]
  },
  {
   "cell_type": "markdown",
   "id": "e8bacf9d",
   "metadata": {
    "heading_collapsed": true,
    "hidden": true
   },
   "source": [
    "### Instanciate lists to track strategies"
   ]
  },
  {
   "cell_type": "code",
   "execution_count": 19,
   "id": "d059e27c",
   "metadata": {
    "hidden": true
   },
   "outputs": [],
   "source": [
    "na_strategy_fill = set()\n",
    "na_strategy_impute = set()"
   ]
  },
  {
   "cell_type": "markdown",
   "id": "a4e77071",
   "metadata": {
    "heading_collapsed": true,
    "hidden": true
   },
   "source": [
    "### PoolQC"
   ]
  },
  {
   "cell_type": "code",
   "execution_count": 20,
   "id": "938c9975",
   "metadata": {
    "hidden": true
   },
   "outputs": [
    {
     "data": {
      "text/plain": [
       "NaN    1453\n",
       "Gd        3\n",
       "Ex        2\n",
       "Fa        2\n",
       "Name: PoolQC, dtype: int64"
      ]
     },
     "execution_count": 20,
     "metadata": {},
     "output_type": "execute_result"
    }
   ],
   "source": [
    "data['PoolQC'].value_counts(dropna=False, ascending=False)"
   ]
  },
  {
   "cell_type": "markdown",
   "id": "dae08df3",
   "metadata": {
    "hidden": true
   },
   "source": [
    "__Documentation__\n",
    "\n",
    "PoolQC: Pool quality\n",
    "```\n",
    "Ex\tExcellent\n",
    "Gd\tGood\n",
    "TA\tAverage/Typical\n",
    "Fa\tFair\n",
    "NA\tNo Pool\n",
    "```"
   ]
  },
  {
   "cell_type": "markdown",
   "id": "98ea4338",
   "metadata": {
    "hidden": true
   },
   "source": [
    "__Strategy__\n",
    "- fillna(0)"
   ]
  },
  {
   "cell_type": "code",
   "execution_count": 21,
   "id": "3605e080",
   "metadata": {
    "hidden": true
   },
   "outputs": [
    {
     "data": {
      "text/plain": [
       "{'PoolQC'}"
      ]
     },
     "execution_count": 21,
     "metadata": {},
     "output_type": "execute_result"
    }
   ],
   "source": [
    "# Track strategy\n",
    "na_strategy_fill.add('PoolQC')\n",
    "na_strategy_fill"
   ]
  },
  {
   "cell_type": "markdown",
   "id": "376261d8",
   "metadata": {
    "heading_collapsed": true,
    "hidden": true
   },
   "source": [
    "### MiscFeature"
   ]
  },
  {
   "cell_type": "code",
   "execution_count": 22,
   "id": "009ac98a",
   "metadata": {
    "hidden": true,
    "scrolled": true
   },
   "outputs": [
    {
     "data": {
      "text/plain": [
       "NaN     1406\n",
       "Shed      49\n",
       "Gar2       2\n",
       "Othr       2\n",
       "TenC       1\n",
       "Name: MiscFeature, dtype: int64"
      ]
     },
     "execution_count": 22,
     "metadata": {},
     "output_type": "execute_result"
    }
   ],
   "source": [
    "data['MiscFeature'].value_counts(dropna=False, ascending=False)"
   ]
  },
  {
   "cell_type": "markdown",
   "id": "6d736c62",
   "metadata": {
    "hidden": true
   },
   "source": [
    "__Documentation__\n",
    "\n",
    "MiscFeature: Miscellaneous feature not covered in other categories\n",
    "```\t\n",
    "Elev\tElevator\n",
    "Gar2\t2nd Garage (if not described in garage section)\n",
    "Othr\tOther\n",
    "Shed\tShed (over 100 SF)\n",
    "TenC\tTennis Court\n",
    "NA\tNone\n",
    "```"
   ]
  },
  {
   "cell_type": "markdown",
   "id": "13e468f5",
   "metadata": {
    "hidden": true
   },
   "source": [
    "__Strategy__\n",
    "- fillna(0)"
   ]
  },
  {
   "cell_type": "code",
   "execution_count": 23,
   "id": "a130cd22",
   "metadata": {
    "hidden": true
   },
   "outputs": [
    {
     "data": {
      "text/plain": [
       "{'MiscFeature', 'PoolQC'}"
      ]
     },
     "execution_count": 23,
     "metadata": {},
     "output_type": "execute_result"
    }
   ],
   "source": [
    "# Track strategy\n",
    "na_strategy_fill.add('MiscFeature')\n",
    "na_strategy_fill"
   ]
  },
  {
   "cell_type": "markdown",
   "id": "cadd8ec0",
   "metadata": {
    "heading_collapsed": true,
    "hidden": true
   },
   "source": [
    "### Alley"
   ]
  },
  {
   "cell_type": "code",
   "execution_count": 24,
   "id": "7122d8e5",
   "metadata": {
    "hidden": true
   },
   "outputs": [
    {
     "data": {
      "text/plain": [
       "NaN     1369\n",
       "Grvl      50\n",
       "Pave      41\n",
       "Name: Alley, dtype: int64"
      ]
     },
     "execution_count": 24,
     "metadata": {},
     "output_type": "execute_result"
    }
   ],
   "source": [
    "data['Alley'].value_counts(dropna=False, ascending=False)"
   ]
  },
  {
   "cell_type": "markdown",
   "id": "14051125",
   "metadata": {
    "hidden": true
   },
   "source": [
    "__Documentation__\n",
    "\n",
    "Alley: Type of alley access to property\n",
    "    \n",
    "```\n",
    "Grvl\tGravel\n",
    "Pave\tPaved\n",
    "NA \tNo alley access\n",
    "```"
   ]
  },
  {
   "cell_type": "markdown",
   "id": "02a4db09",
   "metadata": {
    "hidden": true
   },
   "source": [
    "__Strategy__\n",
    "- fillna(0)"
   ]
  },
  {
   "cell_type": "code",
   "execution_count": 25,
   "id": "6b3442ab",
   "metadata": {
    "hidden": true
   },
   "outputs": [
    {
     "data": {
      "text/plain": [
       "{'Alley', 'MiscFeature', 'PoolQC'}"
      ]
     },
     "execution_count": 25,
     "metadata": {},
     "output_type": "execute_result"
    }
   ],
   "source": [
    "# Track strategy\n",
    "na_strategy_fill.add('Alley')\n",
    "na_strategy_fill"
   ]
  },
  {
   "cell_type": "markdown",
   "id": "aaeefcc1",
   "metadata": {
    "heading_collapsed": true,
    "hidden": true
   },
   "source": [
    "### Fence"
   ]
  },
  {
   "cell_type": "code",
   "execution_count": 26,
   "id": "238c69dc",
   "metadata": {
    "hidden": true
   },
   "outputs": [
    {
     "data": {
      "text/plain": [
       "NaN      1179\n",
       "MnPrv     157\n",
       "GdPrv      59\n",
       "GdWo       54\n",
       "MnWw       11\n",
       "Name: Fence, dtype: int64"
      ]
     },
     "execution_count": 26,
     "metadata": {},
     "output_type": "execute_result"
    }
   ],
   "source": [
    "data['Fence'].value_counts(dropna=False, ascending=False)"
   ]
  },
  {
   "cell_type": "markdown",
   "id": "d306694c",
   "metadata": {
    "hidden": true
   },
   "source": [
    "__Documentation__\n",
    "\n",
    "Fence: Fence quality\n",
    "    \n",
    "```\n",
    "GdPrv\tGood Privacy\n",
    "MnPrv\tMinimum Privacy\n",
    "GdWo\tGood Wood\n",
    "MnWw\tMinimum Wood/Wire\n",
    "NA\tNo Fence\n",
    "```"
   ]
  },
  {
   "cell_type": "markdown",
   "id": "f76727d7",
   "metadata": {
    "hidden": true
   },
   "source": [
    "__Strategy__\n",
    "- fillna(0)"
   ]
  },
  {
   "cell_type": "code",
   "execution_count": 27,
   "id": "47b21d5b",
   "metadata": {
    "hidden": true,
    "scrolled": true
   },
   "outputs": [
    {
     "data": {
      "text/plain": [
       "{'Alley', 'Fence', 'MiscFeature', 'PoolQC'}"
      ]
     },
     "execution_count": 27,
     "metadata": {},
     "output_type": "execute_result"
    }
   ],
   "source": [
    "# Track strategy\n",
    "na_strategy_fill.add('Fence')\n",
    "na_strategy_fill"
   ]
  },
  {
   "cell_type": "markdown",
   "id": "7ee7fd88",
   "metadata": {
    "heading_collapsed": true,
    "hidden": true
   },
   "source": [
    "### FireplaceQu"
   ]
  },
  {
   "cell_type": "code",
   "execution_count": 28,
   "id": "bf46f018",
   "metadata": {
    "hidden": true,
    "scrolled": true
   },
   "outputs": [
    {
     "data": {
      "text/plain": [
       "NaN    690\n",
       "Gd     380\n",
       "TA     313\n",
       "Fa      33\n",
       "Ex      24\n",
       "Po      20\n",
       "Name: FireplaceQu, dtype: int64"
      ]
     },
     "execution_count": 28,
     "metadata": {},
     "output_type": "execute_result"
    }
   ],
   "source": [
    "data['FireplaceQu'].value_counts(dropna=False, ascending=False)"
   ]
  },
  {
   "cell_type": "markdown",
   "id": "0d9fb34e",
   "metadata": {
    "hidden": true
   },
   "source": [
    "__Documentation__\n",
    "\n",
    "FireplaceQu: Fireplace quality\n",
    "    \n",
    "```\n",
    "Ex\tExcellent - Exceptional Masonry Fireplace\n",
    "Gd\tGood - Masonry Fireplace in main level\n",
    "TA\tAverage - Prefabricated Fireplace in main living area or Masonry Fireplace in basement\n",
    "Fa\tFair - Prefabricated Fireplace in basement\n",
    "Po\tPoor - Ben Franklin Stove\n",
    "NA\tNo Fireplace\n",
    "```"
   ]
  },
  {
   "cell_type": "markdown",
   "id": "0a2a58a7",
   "metadata": {
    "hidden": true
   },
   "source": [
    "__Strategy__\n",
    "- fillna(0)"
   ]
  },
  {
   "cell_type": "code",
   "execution_count": 29,
   "id": "2df97a10",
   "metadata": {
    "hidden": true
   },
   "outputs": [
    {
     "data": {
      "text/plain": [
       "{'Alley', 'Fence', 'FireplaceQu', 'MiscFeature', 'PoolQC'}"
      ]
     },
     "execution_count": 29,
     "metadata": {},
     "output_type": "execute_result"
    }
   ],
   "source": [
    "# Track strategy\n",
    "na_strategy_fill.add('FireplaceQu')\n",
    "na_strategy_fill"
   ]
  },
  {
   "cell_type": "markdown",
   "id": "f8d40177",
   "metadata": {
    "heading_collapsed": true,
    "hidden": true
   },
   "source": [
    "### LotFrontage "
   ]
  },
  {
   "cell_type": "code",
   "execution_count": 30,
   "id": "0bafaea0",
   "metadata": {
    "hidden": true,
    "scrolled": true
   },
   "outputs": [
    {
     "data": {
      "text/plain": [
       "NaN      259\n",
       "60.0     143\n",
       "70.0      70\n",
       "80.0      69\n",
       "50.0      57\n",
       "        ... \n",
       "137.0      1\n",
       "38.0       1\n",
       "33.0       1\n",
       "150.0      1\n",
       "46.0       1\n",
       "Name: LotFrontage, Length: 111, dtype: int64"
      ]
     },
     "execution_count": 30,
     "metadata": {},
     "output_type": "execute_result"
    }
   ],
   "source": [
    "data['LotFrontage'].value_counts(dropna=False, ascending=False)"
   ]
  },
  {
   "cell_type": "markdown",
   "id": "69779b10",
   "metadata": {
    "hidden": true
   },
   "source": [
    "__Documentation__\n",
    "\n",
    "LotFrontage: Linear feet of street connected to property"
   ]
  },
  {
   "cell_type": "code",
   "execution_count": 31,
   "id": "d1a01a0d",
   "metadata": {
    "hidden": true
   },
   "outputs": [
    {
     "data": {
      "text/plain": [
       "0"
      ]
     },
     "execution_count": 31,
     "metadata": {},
     "output_type": "execute_result"
    }
   ],
   "source": [
    "# Check if there're any houses with 0 feet of street connected to property\n",
    "(data['LotFrontage'] == 0).sum()\n",
    "\n",
    "# Assumption: NA's might be 0 values"
   ]
  },
  {
   "cell_type": "code",
   "execution_count": 32,
   "id": "aac0ae57",
   "metadata": {
    "hidden": true,
    "scrolled": true
   },
   "outputs": [
    {
     "data": {
      "text/plain": [
       "Pave    1454\n",
       "Grvl       6\n",
       "Name: Street, dtype: int64"
      ]
     },
     "execution_count": 32,
     "metadata": {},
     "output_type": "execute_result"
    }
   ],
   "source": [
    "# Check if the Street column (type of road access to property) provides more insights on how to deal with missing values\n",
    "data['Street'].value_counts(dropna=False, ascending=False)"
   ]
  },
  {
   "cell_type": "code",
   "execution_count": 33,
   "id": "649fd0fd",
   "metadata": {
    "hidden": true
   },
   "outputs": [
    {
     "data": {
      "text/plain": [
       "Y    1340\n",
       "N      90\n",
       "P      30\n",
       "Name: PavedDrive, dtype: int64"
      ]
     },
     "execution_count": 33,
     "metadata": {},
     "output_type": "execute_result"
    }
   ],
   "source": [
    "# Check if the PavedDrive column (paved driveway) provides more insights on how to deal with missing values\n",
    "data['PavedDrive'].value_counts(dropna=False, ascending=False)"
   ]
  },
  {
   "cell_type": "markdown",
   "id": "77c14138",
   "metadata": {
    "hidden": true
   },
   "source": [
    "__Findings__\n",
    "- According to Street and PavedDrive columns it seems like there're no properties not connected to a street\n",
    "- Assumption: NA's are true NA's and not 0 values\n"
   ]
  },
  {
   "cell_type": "markdown",
   "id": "5c318dc6",
   "metadata": {
    "hidden": true
   },
   "source": [
    "__Strategy__\n",
    "- Impute"
   ]
  },
  {
   "cell_type": "code",
   "execution_count": 34,
   "id": "c1f32afc",
   "metadata": {
    "hidden": true
   },
   "outputs": [
    {
     "data": {
      "text/plain": [
       "{'LotFrontage'}"
      ]
     },
     "execution_count": 34,
     "metadata": {},
     "output_type": "execute_result"
    }
   ],
   "source": [
    "# Track strategy\n",
    "na_strategy_impute.add('LotFrontage')\n",
    "na_strategy_impute"
   ]
  },
  {
   "cell_type": "markdown",
   "id": "6eb68ecf",
   "metadata": {
    "heading_collapsed": true,
    "hidden": true
   },
   "source": [
    "### GarageYrBlt"
   ]
  },
  {
   "cell_type": "code",
   "execution_count": 35,
   "id": "5647c79c",
   "metadata": {
    "hidden": true,
    "scrolled": true
   },
   "outputs": [
    {
     "data": {
      "text/plain": [
       "NaN       81\n",
       "2005.0    65\n",
       "2006.0    59\n",
       "2004.0    53\n",
       "2003.0    50\n",
       "          ..\n",
       "1927.0     1\n",
       "1900.0     1\n",
       "1906.0     1\n",
       "1908.0     1\n",
       "1933.0     1\n",
       "Name: GarageYrBlt, Length: 98, dtype: int64"
      ]
     },
     "execution_count": 35,
     "metadata": {},
     "output_type": "execute_result"
    }
   ],
   "source": [
    "data['GarageYrBlt'].value_counts(dropna=False, ascending=False)"
   ]
  },
  {
   "cell_type": "markdown",
   "id": "e4797175",
   "metadata": {
    "hidden": true
   },
   "source": [
    "__Documentation__\n",
    "\n",
    "GarageYrBlt: Year garage was built"
   ]
  },
  {
   "cell_type": "markdown",
   "id": "fb93e2ce",
   "metadata": {
    "hidden": true
   },
   "source": [
    "__Strategy__\n",
    "- Impute"
   ]
  },
  {
   "cell_type": "code",
   "execution_count": 36,
   "id": "6182f32a",
   "metadata": {
    "hidden": true
   },
   "outputs": [
    {
     "data": {
      "text/plain": [
       "{'GarageYrBlt', 'LotFrontage'}"
      ]
     },
     "execution_count": 36,
     "metadata": {},
     "output_type": "execute_result"
    }
   ],
   "source": [
    "# Track strategy\n",
    "na_strategy_impute.add('GarageYrBlt')\n",
    "na_strategy_impute"
   ]
  },
  {
   "cell_type": "markdown",
   "id": "e73d1182",
   "metadata": {
    "heading_collapsed": true,
    "hidden": true
   },
   "source": [
    "### GarageCond"
   ]
  },
  {
   "cell_type": "code",
   "execution_count": 37,
   "id": "511ac267",
   "metadata": {
    "hidden": true,
    "scrolled": true
   },
   "outputs": [
    {
     "data": {
      "text/plain": [
       "TA     1326\n",
       "NaN      81\n",
       "Fa       35\n",
       "Gd        9\n",
       "Po        7\n",
       "Ex        2\n",
       "Name: GarageCond, dtype: int64"
      ]
     },
     "execution_count": 37,
     "metadata": {},
     "output_type": "execute_result"
    }
   ],
   "source": [
    "data['GarageCond'].value_counts(dropna=False, ascending=False)"
   ]
  },
  {
   "cell_type": "markdown",
   "id": "842888bb",
   "metadata": {
    "hidden": true
   },
   "source": [
    "__Documentation__\n",
    "\n",
    "GarageCond: Garage condition\n",
    "    \n",
    "```\n",
    "Ex\tExcellent\n",
    "Gd\tGood\n",
    "TA\tTypical/Average\n",
    "Fa\tFair\n",
    "Po\tPoor\n",
    "NA\tNo Garage\n",
    "```"
   ]
  },
  {
   "cell_type": "markdown",
   "id": "516d1dde",
   "metadata": {
    "hidden": true
   },
   "source": [
    "__Strategy__\n",
    "- fillna(0)"
   ]
  },
  {
   "cell_type": "code",
   "execution_count": 38,
   "id": "2ef24b95",
   "metadata": {
    "hidden": true
   },
   "outputs": [
    {
     "data": {
      "text/plain": [
       "{'Alley', 'Fence', 'FireplaceQu', 'GarageCond', 'MiscFeature', 'PoolQC'}"
      ]
     },
     "execution_count": 38,
     "metadata": {},
     "output_type": "execute_result"
    }
   ],
   "source": [
    "# Track strategy\n",
    "na_strategy_fill.add('GarageCond')\n",
    "na_strategy_fill"
   ]
  },
  {
   "cell_type": "markdown",
   "id": "97059503",
   "metadata": {
    "heading_collapsed": true,
    "hidden": true
   },
   "source": [
    "### GarageType"
   ]
  },
  {
   "cell_type": "code",
   "execution_count": 39,
   "id": "f8830ac8",
   "metadata": {
    "hidden": true
   },
   "outputs": [
    {
     "data": {
      "text/plain": [
       "Attchd     870\n",
       "Detchd     387\n",
       "BuiltIn     88\n",
       "NaN         81\n",
       "Basment     19\n",
       "CarPort      9\n",
       "2Types       6\n",
       "Name: GarageType, dtype: int64"
      ]
     },
     "execution_count": 39,
     "metadata": {},
     "output_type": "execute_result"
    }
   ],
   "source": [
    "data['GarageType'].value_counts(dropna=False, ascending=False)"
   ]
  },
  {
   "cell_type": "markdown",
   "id": "5d2694fe",
   "metadata": {
    "hidden": true
   },
   "source": [
    "__Documentation__\n",
    "\n",
    "GarageType: Garage location\n",
    "    \n",
    "```\n",
    "2Types\tMore than one type of garage\n",
    "Attchd\tAttached to home\n",
    "Basment\tBasement Garage\n",
    "BuiltIn\tBuilt-In (Garage part of house - typically has room above garage)\n",
    "CarPort\tCar Port\n",
    "Detchd\tDetached from home\n",
    "NA\tNo Garage\n",
    "```"
   ]
  },
  {
   "cell_type": "markdown",
   "id": "dbf1c496",
   "metadata": {
    "hidden": true
   },
   "source": [
    "__Strategy__\n",
    "- fillna(0)"
   ]
  },
  {
   "cell_type": "code",
   "execution_count": 40,
   "id": "16df066b",
   "metadata": {
    "hidden": true
   },
   "outputs": [
    {
     "data": {
      "text/plain": [
       "{'Alley',\n",
       " 'Fence',\n",
       " 'FireplaceQu',\n",
       " 'GarageCond',\n",
       " 'GarageType',\n",
       " 'MiscFeature',\n",
       " 'PoolQC'}"
      ]
     },
     "execution_count": 40,
     "metadata": {},
     "output_type": "execute_result"
    }
   ],
   "source": [
    "# Track strategy\n",
    "na_strategy_fill.add('GarageType')\n",
    "na_strategy_fill"
   ]
  },
  {
   "cell_type": "markdown",
   "id": "a9f2dad9",
   "metadata": {
    "heading_collapsed": true,
    "hidden": true
   },
   "source": [
    "### GarageFinish"
   ]
  },
  {
   "cell_type": "code",
   "execution_count": 41,
   "id": "ab9a896d",
   "metadata": {
    "hidden": true
   },
   "outputs": [
    {
     "data": {
      "text/plain": [
       "Unf    605\n",
       "RFn    422\n",
       "Fin    352\n",
       "NaN     81\n",
       "Name: GarageFinish, dtype: int64"
      ]
     },
     "execution_count": 41,
     "metadata": {},
     "output_type": "execute_result"
    }
   ],
   "source": [
    "data['GarageFinish'].value_counts(dropna=False, ascending=False)"
   ]
  },
  {
   "cell_type": "markdown",
   "id": "7ef93f51",
   "metadata": {
    "hidden": true
   },
   "source": [
    "__Documentation__\n",
    "\n",
    "GarageFinish: Interior finish of the garage\n",
    "    \n",
    "```\n",
    "Fin\tFinished\n",
    "RFn\tRough Finished\t\n",
    "Unf\tUnfinished\n",
    "NA\tNo Garage\n",
    "```"
   ]
  },
  {
   "cell_type": "markdown",
   "id": "b96d1df5",
   "metadata": {
    "hidden": true
   },
   "source": [
    "__Strategy__\n",
    "- fillna(0)"
   ]
  },
  {
   "cell_type": "code",
   "execution_count": 42,
   "id": "12aa67d0",
   "metadata": {
    "hidden": true,
    "scrolled": true
   },
   "outputs": [
    {
     "data": {
      "text/plain": [
       "{'Alley',\n",
       " 'Fence',\n",
       " 'FireplaceQu',\n",
       " 'GarageCond',\n",
       " 'GarageFinish',\n",
       " 'GarageType',\n",
       " 'MiscFeature',\n",
       " 'PoolQC'}"
      ]
     },
     "execution_count": 42,
     "metadata": {},
     "output_type": "execute_result"
    }
   ],
   "source": [
    "# Track strategy\n",
    "na_strategy_fill.add('GarageFinish')\n",
    "na_strategy_fill"
   ]
  },
  {
   "cell_type": "markdown",
   "id": "8173918d",
   "metadata": {
    "heading_collapsed": true,
    "hidden": true
   },
   "source": [
    "### GarageQual"
   ]
  },
  {
   "cell_type": "code",
   "execution_count": 43,
   "id": "e72b2393",
   "metadata": {
    "hidden": true,
    "scrolled": true
   },
   "outputs": [
    {
     "data": {
      "text/plain": [
       "TA     1311\n",
       "NaN      81\n",
       "Fa       48\n",
       "Gd       14\n",
       "Ex        3\n",
       "Po        3\n",
       "Name: GarageQual, dtype: int64"
      ]
     },
     "execution_count": 43,
     "metadata": {},
     "output_type": "execute_result"
    }
   ],
   "source": [
    "data['GarageQual'].value_counts(dropna=False, ascending=False)"
   ]
  },
  {
   "cell_type": "markdown",
   "id": "204f4987",
   "metadata": {
    "hidden": true
   },
   "source": [
    "__Documentation__\n",
    "\n",
    "GarageQual: Garage quality\n",
    "    \n",
    "```\n",
    "Ex\tExcellent\n",
    "Gd\tGood\n",
    "TA\tTypical/Average\n",
    "Fa\tFair\n",
    "Po\tPoor\n",
    "NA\tNo Garage\n",
    "```"
   ]
  },
  {
   "cell_type": "markdown",
   "id": "73687002",
   "metadata": {
    "hidden": true
   },
   "source": [
    "__Strategy__\n",
    "- fillna(0)"
   ]
  },
  {
   "cell_type": "code",
   "execution_count": 44,
   "id": "99ff0609",
   "metadata": {
    "hidden": true
   },
   "outputs": [
    {
     "data": {
      "text/plain": [
       "{'Alley',\n",
       " 'Fence',\n",
       " 'FireplaceQu',\n",
       " 'GarageCond',\n",
       " 'GarageFinish',\n",
       " 'GarageQual',\n",
       " 'GarageType',\n",
       " 'MiscFeature',\n",
       " 'PoolQC'}"
      ]
     },
     "execution_count": 44,
     "metadata": {},
     "output_type": "execute_result"
    }
   ],
   "source": [
    "# Track strategy\n",
    "na_strategy_fill.add('GarageQual')\n",
    "na_strategy_fill"
   ]
  },
  {
   "cell_type": "markdown",
   "id": "6d83fda6",
   "metadata": {
    "heading_collapsed": true,
    "hidden": true
   },
   "source": [
    "### BsmtExposure  "
   ]
  },
  {
   "cell_type": "code",
   "execution_count": 45,
   "id": "7963aaf0",
   "metadata": {
    "hidden": true,
    "scrolled": true
   },
   "outputs": [
    {
     "data": {
      "text/plain": [
       "No     953\n",
       "Av     221\n",
       "Gd     134\n",
       "Mn     114\n",
       "NaN     38\n",
       "Name: BsmtExposure, dtype: int64"
      ]
     },
     "execution_count": 45,
     "metadata": {},
     "output_type": "execute_result"
    }
   ],
   "source": [
    "data['BsmtExposure'].value_counts(dropna=False, ascending=False)"
   ]
  },
  {
   "cell_type": "markdown",
   "id": "5b1f153d",
   "metadata": {
    "hidden": true
   },
   "source": [
    "__Documentation__\n",
    "\n",
    "BsmtExposure: Refers to walkout or garden level walls\n",
    "```\n",
    "Gd\tGood Exposure\n",
    "Av\tAverage Exposure (split levels or foyers typically score average or above)\t\n",
    "Mn\tMimimum Exposure\n",
    "No\tNo Exposure\n",
    "NA\tNo Basement\n",
    "```"
   ]
  },
  {
   "cell_type": "markdown",
   "id": "47c084d6",
   "metadata": {
    "hidden": true
   },
   "source": [
    "__Strategy__\n",
    "- fillna(0)"
   ]
  },
  {
   "cell_type": "code",
   "execution_count": 46,
   "id": "ebb014c5",
   "metadata": {
    "hidden": true
   },
   "outputs": [
    {
     "data": {
      "text/plain": [
       "{'Alley',\n",
       " 'BsmtExposure',\n",
       " 'Fence',\n",
       " 'FireplaceQu',\n",
       " 'GarageCond',\n",
       " 'GarageFinish',\n",
       " 'GarageQual',\n",
       " 'GarageType',\n",
       " 'MiscFeature',\n",
       " 'PoolQC'}"
      ]
     },
     "execution_count": 46,
     "metadata": {},
     "output_type": "execute_result"
    }
   ],
   "source": [
    "# Track strategy\n",
    "na_strategy_fill.add('BsmtExposure')\n",
    "na_strategy_fill"
   ]
  },
  {
   "cell_type": "markdown",
   "id": "30334679",
   "metadata": {
    "heading_collapsed": true,
    "hidden": true
   },
   "source": [
    "### BsmtFinType2 "
   ]
  },
  {
   "cell_type": "code",
   "execution_count": 47,
   "id": "c0489d49",
   "metadata": {
    "hidden": true
   },
   "outputs": [
    {
     "data": {
      "text/plain": [
       "Unf    1256\n",
       "Rec      54\n",
       "LwQ      46\n",
       "NaN      38\n",
       "BLQ      33\n",
       "ALQ      19\n",
       "GLQ      14\n",
       "Name: BsmtFinType2, dtype: int64"
      ]
     },
     "execution_count": 47,
     "metadata": {},
     "output_type": "execute_result"
    }
   ],
   "source": [
    "data['BsmtFinType2'].value_counts(dropna=False, ascending=False)"
   ]
  },
  {
   "cell_type": "markdown",
   "id": "b75cb8a2",
   "metadata": {
    "hidden": true
   },
   "source": [
    "__Documentation__\n",
    "\n",
    "BsmtFinType2: Rating of basement finished area (if multiple types)\n",
    "\n",
    "```\n",
    "GLQ\tGood Living Quarters\n",
    "ALQ\tAverage Living Quarters\n",
    "BLQ\tBelow Average Living Quarters\t\n",
    "Rec\tAverage Rec Room\n",
    "LwQ\tLow Quality\n",
    "Unf\tUnfinshed\n",
    "NA\tNo Basement\n",
    "```"
   ]
  },
  {
   "cell_type": "markdown",
   "id": "087a0979",
   "metadata": {
    "hidden": true
   },
   "source": [
    "__Strategy__\n",
    "- fillna(0)"
   ]
  },
  {
   "cell_type": "code",
   "execution_count": 48,
   "id": "4de8e4dc",
   "metadata": {
    "hidden": true
   },
   "outputs": [
    {
     "data": {
      "text/plain": [
       "{'Alley',\n",
       " 'BsmtExposure',\n",
       " 'BsmtFinType2',\n",
       " 'Fence',\n",
       " 'FireplaceQu',\n",
       " 'GarageCond',\n",
       " 'GarageFinish',\n",
       " 'GarageQual',\n",
       " 'GarageType',\n",
       " 'MiscFeature',\n",
       " 'PoolQC'}"
      ]
     },
     "execution_count": 48,
     "metadata": {},
     "output_type": "execute_result"
    }
   ],
   "source": [
    "# Track strategy\n",
    "na_strategy_fill.add('BsmtFinType2')\n",
    "na_strategy_fill"
   ]
  },
  {
   "cell_type": "markdown",
   "id": "f26440a7",
   "metadata": {
    "heading_collapsed": true,
    "hidden": true
   },
   "source": [
    "### BsmtCond "
   ]
  },
  {
   "cell_type": "code",
   "execution_count": 49,
   "id": "fedb31d9",
   "metadata": {
    "hidden": true
   },
   "outputs": [
    {
     "data": {
      "text/plain": [
       "TA     1311\n",
       "Gd       65\n",
       "Fa       45\n",
       "NaN      37\n",
       "Po        2\n",
       "Name: BsmtCond, dtype: int64"
      ]
     },
     "execution_count": 49,
     "metadata": {},
     "output_type": "execute_result"
    }
   ],
   "source": [
    "data['BsmtCond'].value_counts(dropna=False, ascending=False)"
   ]
  },
  {
   "cell_type": "markdown",
   "id": "37267693",
   "metadata": {
    "hidden": true
   },
   "source": [
    "__Documentation__\n",
    "\n",
    "BsmtCond: Evaluates the general condition of the basement\n",
    "    \n",
    "```\n",
    "Ex\tExcellent\n",
    "Gd\tGood\n",
    "TA\tTypical - slight dampness allowed\n",
    "Fa\tFair - dampness or some cracking or settling\n",
    "Po\tPoor - Severe cracking, settling, or wetness\n",
    "NA\tNo Basement\n",
    "```"
   ]
  },
  {
   "cell_type": "markdown",
   "id": "e872f01a",
   "metadata": {
    "hidden": true
   },
   "source": [
    "__Strategy__\n",
    "- fillna(0)"
   ]
  },
  {
   "cell_type": "code",
   "execution_count": 50,
   "id": "c4f6a048",
   "metadata": {
    "hidden": true
   },
   "outputs": [
    {
     "data": {
      "text/plain": [
       "{'Alley',\n",
       " 'BsmtCond',\n",
       " 'BsmtExposure',\n",
       " 'BsmtFinType2',\n",
       " 'Fence',\n",
       " 'FireplaceQu',\n",
       " 'GarageCond',\n",
       " 'GarageFinish',\n",
       " 'GarageQual',\n",
       " 'GarageType',\n",
       " 'MiscFeature',\n",
       " 'PoolQC'}"
      ]
     },
     "execution_count": 50,
     "metadata": {},
     "output_type": "execute_result"
    }
   ],
   "source": [
    "# Track strategy\n",
    "na_strategy_fill.add('BsmtCond')\n",
    "na_strategy_fill"
   ]
  },
  {
   "cell_type": "markdown",
   "id": "dfad8e87",
   "metadata": {
    "heading_collapsed": true,
    "hidden": true
   },
   "source": [
    "### BsmtQual"
   ]
  },
  {
   "cell_type": "code",
   "execution_count": 51,
   "id": "5bd172e1",
   "metadata": {
    "hidden": true
   },
   "outputs": [
    {
     "data": {
      "text/plain": [
       "TA     649\n",
       "Gd     618\n",
       "Ex     121\n",
       "NaN     37\n",
       "Fa      35\n",
       "Name: BsmtQual, dtype: int64"
      ]
     },
     "execution_count": 51,
     "metadata": {},
     "output_type": "execute_result"
    }
   ],
   "source": [
    "data['BsmtQual'].value_counts(dropna=False, ascending=False)"
   ]
  },
  {
   "cell_type": "markdown",
   "id": "f940463a",
   "metadata": {
    "hidden": true
   },
   "source": [
    "__Documentation__\n",
    "\n",
    "BsmtQual: Evaluates the height of the basement\n",
    "```\n",
    "Ex\tExcellent (100+ inches)\t\n",
    "Gd\tGood (90-99 inches)\n",
    "TA\tTypical (80-89 inches)\n",
    "Fa\tFair (70-79 inches)\n",
    "Po\tPoor (<70 inches\n",
    "NA\tNo Basement\n",
    "```"
   ]
  },
  {
   "cell_type": "markdown",
   "id": "a1ef5bc4",
   "metadata": {
    "hidden": true
   },
   "source": [
    "__Strategy__\n",
    "- fillna(0)"
   ]
  },
  {
   "cell_type": "code",
   "execution_count": 52,
   "id": "7249cb02",
   "metadata": {
    "hidden": true
   },
   "outputs": [
    {
     "data": {
      "text/plain": [
       "{'Alley',\n",
       " 'BsmtCond',\n",
       " 'BsmtExposure',\n",
       " 'BsmtFinType2',\n",
       " 'BsmtQual',\n",
       " 'Fence',\n",
       " 'FireplaceQu',\n",
       " 'GarageCond',\n",
       " 'GarageFinish',\n",
       " 'GarageQual',\n",
       " 'GarageType',\n",
       " 'MiscFeature',\n",
       " 'PoolQC'}"
      ]
     },
     "execution_count": 52,
     "metadata": {},
     "output_type": "execute_result"
    }
   ],
   "source": [
    "# Track strategy\n",
    "na_strategy_fill.add('BsmtQual')\n",
    "na_strategy_fill"
   ]
  },
  {
   "cell_type": "markdown",
   "id": "05170b23",
   "metadata": {
    "heading_collapsed": true,
    "hidden": true
   },
   "source": [
    "### BsmtFinType1"
   ]
  },
  {
   "cell_type": "code",
   "execution_count": 53,
   "id": "54609ba1",
   "metadata": {
    "hidden": true
   },
   "outputs": [
    {
     "data": {
      "text/plain": [
       "Unf    430\n",
       "GLQ    418\n",
       "ALQ    220\n",
       "BLQ    148\n",
       "Rec    133\n",
       "LwQ     74\n",
       "NaN     37\n",
       "Name: BsmtFinType1, dtype: int64"
      ]
     },
     "execution_count": 53,
     "metadata": {},
     "output_type": "execute_result"
    }
   ],
   "source": [
    "data['BsmtFinType1'].value_counts(dropna=False, ascending=False)"
   ]
  },
  {
   "cell_type": "markdown",
   "id": "3986f361",
   "metadata": {
    "hidden": true
   },
   "source": [
    "__Documentation__\n",
    "\n",
    "BsmtFinType1: Rating of basement finished area\n",
    "\n",
    "```\n",
    "GLQ\tGood Living Quarters\n",
    "ALQ\tAverage Living Quarters\n",
    "BLQ\tBelow Average Living Quarters\t\n",
    "Rec\tAverage Rec Room\n",
    "LwQ\tLow Quality\n",
    "Unf\tUnfinshed\n",
    "NA\tNo Basement\n",
    "```"
   ]
  },
  {
   "cell_type": "markdown",
   "id": "2a86249e",
   "metadata": {
    "hidden": true
   },
   "source": [
    "__Strategy__\n",
    "- fillna(0)"
   ]
  },
  {
   "cell_type": "code",
   "execution_count": 54,
   "id": "47491d19",
   "metadata": {
    "hidden": true
   },
   "outputs": [
    {
     "data": {
      "text/plain": [
       "{'Alley',\n",
       " 'BsmtCond',\n",
       " 'BsmtExposure',\n",
       " 'BsmtFinType1',\n",
       " 'BsmtFinType2',\n",
       " 'BsmtQual',\n",
       " 'Fence',\n",
       " 'FireplaceQu',\n",
       " 'GarageCond',\n",
       " 'GarageFinish',\n",
       " 'GarageQual',\n",
       " 'GarageType',\n",
       " 'MiscFeature',\n",
       " 'PoolQC'}"
      ]
     },
     "execution_count": 54,
     "metadata": {},
     "output_type": "execute_result"
    }
   ],
   "source": [
    "# Track strategy\n",
    "na_strategy_fill.add('BsmtFinType1')\n",
    "na_strategy_fill"
   ]
  },
  {
   "cell_type": "markdown",
   "id": "6bfe2641",
   "metadata": {
    "heading_collapsed": true,
    "hidden": true
   },
   "source": [
    "### MasVnrArea"
   ]
  },
  {
   "cell_type": "code",
   "execution_count": 55,
   "id": "4bc70339",
   "metadata": {
    "hidden": true
   },
   "outputs": [
    {
     "data": {
      "text/plain": [
       "0.0      861\n",
       "NaN        8\n",
       "72.0       8\n",
       "108.0      8\n",
       "180.0      8\n",
       "        ... \n",
       "562.0      1\n",
       "89.0       1\n",
       "921.0      1\n",
       "762.0      1\n",
       "119.0      1\n",
       "Name: MasVnrArea, Length: 328, dtype: int64"
      ]
     },
     "execution_count": 55,
     "metadata": {},
     "output_type": "execute_result"
    }
   ],
   "source": [
    "data['MasVnrArea'].value_counts(dropna=False, ascending=False)"
   ]
  },
  {
   "cell_type": "markdown",
   "id": "9cc15e70",
   "metadata": {
    "hidden": true
   },
   "source": [
    "__Findings__\n",
    "- There're 0 values in the column, so most likely NA's are true NA's"
   ]
  },
  {
   "cell_type": "markdown",
   "id": "2adc61ba",
   "metadata": {
    "hidden": true
   },
   "source": [
    "__Strategy__\n",
    "- Impute"
   ]
  },
  {
   "cell_type": "code",
   "execution_count": 56,
   "id": "f83e5767",
   "metadata": {
    "hidden": true
   },
   "outputs": [
    {
     "data": {
      "text/plain": [
       "{'GarageYrBlt', 'LotFrontage', 'MasVnrArea'}"
      ]
     },
     "execution_count": 56,
     "metadata": {},
     "output_type": "execute_result"
    }
   ],
   "source": [
    "# Track strategy\n",
    "na_strategy_impute.add('MasVnrArea')\n",
    "na_strategy_impute"
   ]
  },
  {
   "cell_type": "markdown",
   "id": "cd0701f8",
   "metadata": {
    "heading_collapsed": true,
    "hidden": true
   },
   "source": [
    "### MasVnrType"
   ]
  },
  {
   "cell_type": "code",
   "execution_count": 57,
   "id": "0c49961d",
   "metadata": {
    "hidden": true
   },
   "outputs": [
    {
     "data": {
      "text/plain": [
       "None       864\n",
       "BrkFace    445\n",
       "Stone      128\n",
       "BrkCmn      15\n",
       "NaN          8\n",
       "Name: MasVnrType, dtype: int64"
      ]
     },
     "execution_count": 57,
     "metadata": {},
     "output_type": "execute_result"
    }
   ],
   "source": [
    "data['MasVnrType'].value_counts(dropna=False, ascending=False)"
   ]
  },
  {
   "cell_type": "markdown",
   "id": "ed2caca0",
   "metadata": {
    "hidden": true
   },
   "source": [
    "__Documentation__\n",
    "\n",
    "MasVnrType: Masonry veneer type\n",
    "```\n",
    "BrkCmn\tBrick Common\n",
    "BrkFace\tBrick Face\n",
    "CBlock\tCinder Block\n",
    "None\tNone\n",
    "Stone\tStone\n",
    "```"
   ]
  },
  {
   "cell_type": "code",
   "execution_count": 58,
   "id": "10f288ed",
   "metadata": {
    "hidden": true
   },
   "outputs": [
    {
     "data": {
      "text/html": [
       "<div>\n",
       "<style scoped>\n",
       "    .dataframe tbody tr th:only-of-type {\n",
       "        vertical-align: middle;\n",
       "    }\n",
       "\n",
       "    .dataframe tbody tr th {\n",
       "        vertical-align: top;\n",
       "    }\n",
       "\n",
       "    .dataframe thead th {\n",
       "        text-align: right;\n",
       "    }\n",
       "</style>\n",
       "<table border=\"1\" class=\"dataframe\">\n",
       "  <thead>\n",
       "    <tr style=\"text-align: right;\">\n",
       "      <th></th>\n",
       "      <th>MSSubClass</th>\n",
       "      <th>MSZoning</th>\n",
       "      <th>LotFrontage</th>\n",
       "      <th>LotArea</th>\n",
       "      <th>Street</th>\n",
       "      <th>Alley</th>\n",
       "      <th>LotShape</th>\n",
       "      <th>LandContour</th>\n",
       "      <th>Utilities</th>\n",
       "      <th>LotConfig</th>\n",
       "      <th>...</th>\n",
       "      <th>PoolArea</th>\n",
       "      <th>PoolQC</th>\n",
       "      <th>Fence</th>\n",
       "      <th>MiscFeature</th>\n",
       "      <th>MiscVal</th>\n",
       "      <th>MoSold</th>\n",
       "      <th>YrSold</th>\n",
       "      <th>SaleType</th>\n",
       "      <th>SaleCondition</th>\n",
       "      <th>SalePrice</th>\n",
       "    </tr>\n",
       "    <tr>\n",
       "      <th>Id</th>\n",
       "      <th></th>\n",
       "      <th></th>\n",
       "      <th></th>\n",
       "      <th></th>\n",
       "      <th></th>\n",
       "      <th></th>\n",
       "      <th></th>\n",
       "      <th></th>\n",
       "      <th></th>\n",
       "      <th></th>\n",
       "      <th></th>\n",
       "      <th></th>\n",
       "      <th></th>\n",
       "      <th></th>\n",
       "      <th></th>\n",
       "      <th></th>\n",
       "      <th></th>\n",
       "      <th></th>\n",
       "      <th></th>\n",
       "      <th></th>\n",
       "      <th></th>\n",
       "    </tr>\n",
       "  </thead>\n",
       "  <tbody>\n",
       "    <tr>\n",
       "      <th>235</th>\n",
       "      <td>60</td>\n",
       "      <td>RL</td>\n",
       "      <td>NaN</td>\n",
       "      <td>7851</td>\n",
       "      <td>Pave</td>\n",
       "      <td>NaN</td>\n",
       "      <td>Reg</td>\n",
       "      <td>Lvl</td>\n",
       "      <td>AllPub</td>\n",
       "      <td>Inside</td>\n",
       "      <td>...</td>\n",
       "      <td>0</td>\n",
       "      <td>NaN</td>\n",
       "      <td>NaN</td>\n",
       "      <td>NaN</td>\n",
       "      <td>0</td>\n",
       "      <td>5</td>\n",
       "      <td>2010</td>\n",
       "      <td>WD</td>\n",
       "      <td>Normal</td>\n",
       "      <td>216500</td>\n",
       "    </tr>\n",
       "    <tr>\n",
       "      <th>530</th>\n",
       "      <td>20</td>\n",
       "      <td>RL</td>\n",
       "      <td>NaN</td>\n",
       "      <td>32668</td>\n",
       "      <td>Pave</td>\n",
       "      <td>NaN</td>\n",
       "      <td>IR1</td>\n",
       "      <td>Lvl</td>\n",
       "      <td>AllPub</td>\n",
       "      <td>CulDSac</td>\n",
       "      <td>...</td>\n",
       "      <td>0</td>\n",
       "      <td>NaN</td>\n",
       "      <td>NaN</td>\n",
       "      <td>NaN</td>\n",
       "      <td>0</td>\n",
       "      <td>3</td>\n",
       "      <td>2007</td>\n",
       "      <td>WD</td>\n",
       "      <td>Alloca</td>\n",
       "      <td>200624</td>\n",
       "    </tr>\n",
       "    <tr>\n",
       "      <th>651</th>\n",
       "      <td>60</td>\n",
       "      <td>FV</td>\n",
       "      <td>65.0</td>\n",
       "      <td>8125</td>\n",
       "      <td>Pave</td>\n",
       "      <td>NaN</td>\n",
       "      <td>Reg</td>\n",
       "      <td>Lvl</td>\n",
       "      <td>AllPub</td>\n",
       "      <td>Inside</td>\n",
       "      <td>...</td>\n",
       "      <td>0</td>\n",
       "      <td>NaN</td>\n",
       "      <td>NaN</td>\n",
       "      <td>NaN</td>\n",
       "      <td>0</td>\n",
       "      <td>5</td>\n",
       "      <td>2008</td>\n",
       "      <td>WD</td>\n",
       "      <td>Normal</td>\n",
       "      <td>205950</td>\n",
       "    </tr>\n",
       "    <tr>\n",
       "      <th>937</th>\n",
       "      <td>20</td>\n",
       "      <td>RL</td>\n",
       "      <td>67.0</td>\n",
       "      <td>10083</td>\n",
       "      <td>Pave</td>\n",
       "      <td>NaN</td>\n",
       "      <td>Reg</td>\n",
       "      <td>Lvl</td>\n",
       "      <td>AllPub</td>\n",
       "      <td>Inside</td>\n",
       "      <td>...</td>\n",
       "      <td>0</td>\n",
       "      <td>NaN</td>\n",
       "      <td>NaN</td>\n",
       "      <td>NaN</td>\n",
       "      <td>0</td>\n",
       "      <td>8</td>\n",
       "      <td>2009</td>\n",
       "      <td>WD</td>\n",
       "      <td>Normal</td>\n",
       "      <td>184900</td>\n",
       "    </tr>\n",
       "    <tr>\n",
       "      <th>974</th>\n",
       "      <td>20</td>\n",
       "      <td>FV</td>\n",
       "      <td>95.0</td>\n",
       "      <td>11639</td>\n",
       "      <td>Pave</td>\n",
       "      <td>NaN</td>\n",
       "      <td>Reg</td>\n",
       "      <td>Lvl</td>\n",
       "      <td>AllPub</td>\n",
       "      <td>Corner</td>\n",
       "      <td>...</td>\n",
       "      <td>0</td>\n",
       "      <td>NaN</td>\n",
       "      <td>NaN</td>\n",
       "      <td>NaN</td>\n",
       "      <td>0</td>\n",
       "      <td>12</td>\n",
       "      <td>2008</td>\n",
       "      <td>New</td>\n",
       "      <td>Partial</td>\n",
       "      <td>182000</td>\n",
       "    </tr>\n",
       "    <tr>\n",
       "      <th>978</th>\n",
       "      <td>120</td>\n",
       "      <td>FV</td>\n",
       "      <td>35.0</td>\n",
       "      <td>4274</td>\n",
       "      <td>Pave</td>\n",
       "      <td>Pave</td>\n",
       "      <td>IR1</td>\n",
       "      <td>Lvl</td>\n",
       "      <td>AllPub</td>\n",
       "      <td>Inside</td>\n",
       "      <td>...</td>\n",
       "      <td>0</td>\n",
       "      <td>NaN</td>\n",
       "      <td>NaN</td>\n",
       "      <td>NaN</td>\n",
       "      <td>0</td>\n",
       "      <td>11</td>\n",
       "      <td>2007</td>\n",
       "      <td>New</td>\n",
       "      <td>Partial</td>\n",
       "      <td>199900</td>\n",
       "    </tr>\n",
       "    <tr>\n",
       "      <th>1244</th>\n",
       "      <td>20</td>\n",
       "      <td>RL</td>\n",
       "      <td>107.0</td>\n",
       "      <td>13891</td>\n",
       "      <td>Pave</td>\n",
       "      <td>NaN</td>\n",
       "      <td>Reg</td>\n",
       "      <td>Lvl</td>\n",
       "      <td>AllPub</td>\n",
       "      <td>Inside</td>\n",
       "      <td>...</td>\n",
       "      <td>0</td>\n",
       "      <td>NaN</td>\n",
       "      <td>NaN</td>\n",
       "      <td>NaN</td>\n",
       "      <td>0</td>\n",
       "      <td>9</td>\n",
       "      <td>2006</td>\n",
       "      <td>New</td>\n",
       "      <td>Partial</td>\n",
       "      <td>465000</td>\n",
       "    </tr>\n",
       "    <tr>\n",
       "      <th>1279</th>\n",
       "      <td>60</td>\n",
       "      <td>RL</td>\n",
       "      <td>75.0</td>\n",
       "      <td>9473</td>\n",
       "      <td>Pave</td>\n",
       "      <td>NaN</td>\n",
       "      <td>Reg</td>\n",
       "      <td>Lvl</td>\n",
       "      <td>AllPub</td>\n",
       "      <td>Inside</td>\n",
       "      <td>...</td>\n",
       "      <td>0</td>\n",
       "      <td>NaN</td>\n",
       "      <td>NaN</td>\n",
       "      <td>NaN</td>\n",
       "      <td>0</td>\n",
       "      <td>3</td>\n",
       "      <td>2008</td>\n",
       "      <td>WD</td>\n",
       "      <td>Normal</td>\n",
       "      <td>237000</td>\n",
       "    </tr>\n",
       "  </tbody>\n",
       "</table>\n",
       "<p>8 rows × 80 columns</p>\n",
       "</div>"
      ],
      "text/plain": [
       "      MSSubClass MSZoning  LotFrontage  LotArea Street Alley LotShape  \\\n",
       "Id                                                                      \n",
       "235           60       RL          NaN     7851   Pave   NaN      Reg   \n",
       "530           20       RL          NaN    32668   Pave   NaN      IR1   \n",
       "651           60       FV         65.0     8125   Pave   NaN      Reg   \n",
       "937           20       RL         67.0    10083   Pave   NaN      Reg   \n",
       "974           20       FV         95.0    11639   Pave   NaN      Reg   \n",
       "978          120       FV         35.0     4274   Pave  Pave      IR1   \n",
       "1244          20       RL        107.0    13891   Pave   NaN      Reg   \n",
       "1279          60       RL         75.0     9473   Pave   NaN      Reg   \n",
       "\n",
       "     LandContour Utilities LotConfig  ... PoolArea PoolQC Fence MiscFeature  \\\n",
       "Id                                    ...                                     \n",
       "235          Lvl    AllPub    Inside  ...        0    NaN   NaN         NaN   \n",
       "530          Lvl    AllPub   CulDSac  ...        0    NaN   NaN         NaN   \n",
       "651          Lvl    AllPub    Inside  ...        0    NaN   NaN         NaN   \n",
       "937          Lvl    AllPub    Inside  ...        0    NaN   NaN         NaN   \n",
       "974          Lvl    AllPub    Corner  ...        0    NaN   NaN         NaN   \n",
       "978          Lvl    AllPub    Inside  ...        0    NaN   NaN         NaN   \n",
       "1244         Lvl    AllPub    Inside  ...        0    NaN   NaN         NaN   \n",
       "1279         Lvl    AllPub    Inside  ...        0    NaN   NaN         NaN   \n",
       "\n",
       "     MiscVal MoSold  YrSold  SaleType  SaleCondition  SalePrice  \n",
       "Id                                                               \n",
       "235        0      5    2010        WD         Normal     216500  \n",
       "530        0      3    2007        WD         Alloca     200624  \n",
       "651        0      5    2008        WD         Normal     205950  \n",
       "937        0      8    2009        WD         Normal     184900  \n",
       "974        0     12    2008       New        Partial     182000  \n",
       "978        0     11    2007       New        Partial     199900  \n",
       "1244       0      9    2006       New        Partial     465000  \n",
       "1279       0      3    2008        WD         Normal     237000  \n",
       "\n",
       "[8 rows x 80 columns]"
      ]
     },
     "execution_count": 58,
     "metadata": {},
     "output_type": "execute_result"
    }
   ],
   "source": [
    "# Check if NA here are same as in MasVnrArena\n",
    "data[data['MasVnrType'].isna() & data['MasVnrArea'].isna()]"
   ]
  },
  {
   "cell_type": "markdown",
   "id": "f11bb241",
   "metadata": {
    "hidden": true
   },
   "source": [
    "__Strategy__\n",
    "- impute"
   ]
  },
  {
   "cell_type": "code",
   "execution_count": 59,
   "id": "3f63807c",
   "metadata": {
    "hidden": true
   },
   "outputs": [
    {
     "data": {
      "text/plain": [
       "{'GarageYrBlt', 'LotFrontage', 'MasVnrArea', 'MasVnrType'}"
      ]
     },
     "execution_count": 59,
     "metadata": {},
     "output_type": "execute_result"
    }
   ],
   "source": [
    "# Track strategy\n",
    "na_strategy_impute.add('MasVnrType')\n",
    "na_strategy_impute"
   ]
  },
  {
   "cell_type": "markdown",
   "id": "223729db",
   "metadata": {
    "heading_collapsed": true,
    "hidden": true
   },
   "source": [
    "### Electrical"
   ]
  },
  {
   "cell_type": "code",
   "execution_count": 60,
   "id": "8edc69b2",
   "metadata": {
    "hidden": true,
    "scrolled": false
   },
   "outputs": [
    {
     "data": {
      "text/plain": [
       "SBrkr    1334\n",
       "FuseA      94\n",
       "FuseF      27\n",
       "FuseP       3\n",
       "Mix         1\n",
       "NaN         1\n",
       "Name: Electrical, dtype: int64"
      ]
     },
     "execution_count": 60,
     "metadata": {},
     "output_type": "execute_result"
    }
   ],
   "source": [
    "data['Electrical'].value_counts(dropna=False, ascending=False)"
   ]
  },
  {
   "cell_type": "markdown",
   "id": "2e505ccb",
   "metadata": {
    "hidden": true
   },
   "source": [
    "__Documentation__\n",
    "\n",
    "Electrical: Electrical system\n",
    "```\n",
    "SBrkr\tStandard Circuit Breakers & Romex\n",
    "FuseA\tFuse Box over 60 AMP and all Romex wiring (Average)\t\n",
    "FuseF\t60 AMP Fuse Box and mostly Romex wiring (Fair)\n",
    "FuseP\t60 AMP Fuse Box and mostly knob & tube wiring (poor)\n",
    "Mix\tMixed\n",
    "```"
   ]
  },
  {
   "cell_type": "markdown",
   "id": "038fef69",
   "metadata": {
    "hidden": true
   },
   "source": [
    "__Strategy__\n",
    "- Impute"
   ]
  },
  {
   "cell_type": "code",
   "execution_count": 61,
   "id": "30f5b41e",
   "metadata": {
    "hidden": true,
    "scrolled": true
   },
   "outputs": [
    {
     "data": {
      "text/plain": [
       "{'Electrical', 'GarageYrBlt', 'LotFrontage', 'MasVnrArea', 'MasVnrType'}"
      ]
     },
     "execution_count": 61,
     "metadata": {},
     "output_type": "execute_result"
    }
   ],
   "source": [
    "# Track strategy\n",
    "na_strategy_impute.add('Electrical')\n",
    "na_strategy_impute"
   ]
  },
  {
   "cell_type": "markdown",
   "id": "2627bf34",
   "metadata": {
    "heading_collapsed": true,
    "hidden": true
   },
   "source": [
    "### Unit test"
   ]
  },
  {
   "cell_type": "code",
   "execution_count": 62,
   "id": "f6cf6fb4",
   "metadata": {
    "hidden": true,
    "scrolled": true
   },
   "outputs": [
    {
     "name": "stdout",
     "output_type": "stream",
     "text": [
      "Assertion passed: Sets match.\n"
     ]
    }
   ],
   "source": [
    "# Ensure we've a strategy for every column and there're no typos in the column names\n",
    "if set(missing_values.index) == na_strategy_fill | na_strategy_impute:\n",
    "    print(\"Assertion passed: Sets match.\")\n",
    "else:\n",
    "    print(\"Assertion failed: Sets do not match.\")"
   ]
  },
  {
   "cell_type": "markdown",
   "id": "2da8be08",
   "metadata": {},
   "source": [
    "## Data types"
   ]
  },
  {
   "cell_type": "code",
   "execution_count": 63,
   "id": "c5034168",
   "metadata": {},
   "outputs": [
    {
     "name": "stdout",
     "output_type": "stream",
     "text": [
      "<class 'pandas.core.frame.DataFrame'>\n",
      "Int64Index: 1460 entries, 1 to 1460\n",
      "Data columns (total 80 columns):\n",
      " #   Column         Non-Null Count  Dtype  \n",
      "---  ------         --------------  -----  \n",
      " 0   MSSubClass     1460 non-null   int64  \n",
      " 1   MSZoning       1460 non-null   object \n",
      " 2   LotFrontage    1201 non-null   float64\n",
      " 3   LotArea        1460 non-null   int64  \n",
      " 4   Street         1460 non-null   object \n",
      " 5   Alley          91 non-null     object \n",
      " 6   LotShape       1460 non-null   object \n",
      " 7   LandContour    1460 non-null   object \n",
      " 8   Utilities      1460 non-null   object \n",
      " 9   LotConfig      1460 non-null   object \n",
      " 10  LandSlope      1460 non-null   object \n",
      " 11  Neighborhood   1460 non-null   object \n",
      " 12  Condition1     1460 non-null   object \n",
      " 13  Condition2     1460 non-null   object \n",
      " 14  BldgType       1460 non-null   object \n",
      " 15  HouseStyle     1460 non-null   object \n",
      " 16  OverallQual    1460 non-null   int64  \n",
      " 17  OverallCond    1460 non-null   int64  \n",
      " 18  YearBuilt      1460 non-null   int64  \n",
      " 19  YearRemodAdd   1460 non-null   int64  \n",
      " 20  RoofStyle      1460 non-null   object \n",
      " 21  RoofMatl       1460 non-null   object \n",
      " 22  Exterior1st    1460 non-null   object \n",
      " 23  Exterior2nd    1460 non-null   object \n",
      " 24  MasVnrType     1452 non-null   object \n",
      " 25  MasVnrArea     1452 non-null   float64\n",
      " 26  ExterQual      1460 non-null   object \n",
      " 27  ExterCond      1460 non-null   object \n",
      " 28  Foundation     1460 non-null   object \n",
      " 29  BsmtQual       1423 non-null   object \n",
      " 30  BsmtCond       1423 non-null   object \n",
      " 31  BsmtExposure   1422 non-null   object \n",
      " 32  BsmtFinType1   1423 non-null   object \n",
      " 33  BsmtFinSF1     1460 non-null   int64  \n",
      " 34  BsmtFinType2   1422 non-null   object \n",
      " 35  BsmtFinSF2     1460 non-null   int64  \n",
      " 36  BsmtUnfSF      1460 non-null   int64  \n",
      " 37  TotalBsmtSF    1460 non-null   int64  \n",
      " 38  Heating        1460 non-null   object \n",
      " 39  HeatingQC      1460 non-null   object \n",
      " 40  CentralAir     1460 non-null   object \n",
      " 41  Electrical     1459 non-null   object \n",
      " 42  1stFlrSF       1460 non-null   int64  \n",
      " 43  2ndFlrSF       1460 non-null   int64  \n",
      " 44  LowQualFinSF   1460 non-null   int64  \n",
      " 45  GrLivArea      1460 non-null   int64  \n",
      " 46  BsmtFullBath   1460 non-null   int64  \n",
      " 47  BsmtHalfBath   1460 non-null   int64  \n",
      " 48  FullBath       1460 non-null   int64  \n",
      " 49  HalfBath       1460 non-null   int64  \n",
      " 50  BedroomAbvGr   1460 non-null   int64  \n",
      " 51  KitchenAbvGr   1460 non-null   int64  \n",
      " 52  KitchenQual    1460 non-null   object \n",
      " 53  TotRmsAbvGrd   1460 non-null   int64  \n",
      " 54  Functional     1460 non-null   object \n",
      " 55  Fireplaces     1460 non-null   int64  \n",
      " 56  FireplaceQu    770 non-null    object \n",
      " 57  GarageType     1379 non-null   object \n",
      " 58  GarageYrBlt    1379 non-null   float64\n",
      " 59  GarageFinish   1379 non-null   object \n",
      " 60  GarageCars     1460 non-null   int64  \n",
      " 61  GarageArea     1460 non-null   int64  \n",
      " 62  GarageQual     1379 non-null   object \n",
      " 63  GarageCond     1379 non-null   object \n",
      " 64  PavedDrive     1460 non-null   object \n",
      " 65  WoodDeckSF     1460 non-null   int64  \n",
      " 66  OpenPorchSF    1460 non-null   int64  \n",
      " 67  EnclosedPorch  1460 non-null   int64  \n",
      " 68  3SsnPorch      1460 non-null   int64  \n",
      " 69  ScreenPorch    1460 non-null   int64  \n",
      " 70  PoolArea       1460 non-null   int64  \n",
      " 71  PoolQC         7 non-null      object \n",
      " 72  Fence          281 non-null    object \n",
      " 73  MiscFeature    54 non-null     object \n",
      " 74  MiscVal        1460 non-null   int64  \n",
      " 75  MoSold         1460 non-null   int64  \n",
      " 76  YrSold         1460 non-null   int64  \n",
      " 77  SaleType       1460 non-null   object \n",
      " 78  SaleCondition  1460 non-null   object \n",
      " 79  SalePrice      1460 non-null   int64  \n",
      "dtypes: float64(3), int64(34), object(43)\n",
      "memory usage: 923.9+ KB\n"
     ]
    }
   ],
   "source": [
    "data.info()"
   ]
  },
  {
   "cell_type": "code",
   "execution_count": 64,
   "id": "3a7c445d",
   "metadata": {
    "scrolled": true
   },
   "outputs": [
    {
     "name": "stdout",
     "output_type": "stream",
     "text": [
      "MSSubClass: Identifies the type of dwelling involved in the sale.\t\n",
      "\n",
      "        20\t1-STORY 1946 & NEWER ALL STYLES\n",
      "        30\t1-STORY 1945 & OLDER\n",
      "        40\t1-STORY W/FINISHED ATTIC ALL AGES\n",
      "        45\t1-1/2 STORY - UNFINISHED ALL AGES\n",
      "        50\t1-1/2 STORY FINISHED ALL AGES\n",
      "        60\t2-STORY 1946 & NEWER\n",
      "        70\t2-STORY 1945 & OLDER\n",
      "        75\t2-1/2 STORY ALL AGES\n",
      "        80\tSPLIT OR MULTI-LEVEL\n",
      "        85\tSPLIT FOYER\n",
      "        90\tDUPLEX - ALL STYLES AND AGES\n",
      "       120\t1-STORY PUD (Planned Unit Development) - 1946 & NEWER\n",
      "       150\t1-1/2 STORY PUD - ALL AGES\n",
      "       160\t2-STORY PUD - 1946 & NEWER\n",
      "       180\tPUD - MULTILEVEL - INCL SPLIT LEV/FOYER\n",
      "       190\t2 FAMILY CONVERSION - ALL STYLES AND AGES\n",
      "\n",
      "MSZoning: Identifies the general zoning classification of the sale.\n",
      "\t\t\n",
      "       A\tAgriculture\n",
      "       C\tCommercial\n",
      "       FV\tFloating Village Residential\n",
      "       I\tIndustrial\n",
      "       RH\tResidential High Density\n",
      "       RL\tResidential Low Density\n",
      "       RP\tResidential Low Density Park \n",
      "       RM\tResidential Medium Density\n",
      "\t\n",
      "LotFrontage: Linear feet of street connected to property\n",
      "\n",
      "LotArea: Lot size in square feet\n",
      "\n",
      "Street: Type of road access to property\n",
      "\n",
      "       Grvl\tGravel\t\n",
      "       Pave\tPaved\n",
      "       \t\n",
      "Alley: Type of alley access to property\n",
      "\n",
      "       Grvl\tGravel\n",
      "       Pave\tPaved\n",
      "       NA \tNo alley access\n",
      "\t\t\n",
      "LotShape: General shape of property\n",
      "\n",
      "       Reg\tRegular\t\n",
      "       IR1\tSlightly irregular\n",
      "       IR2\tModerately Irregular\n",
      "       IR3\tIrregular\n",
      "       \n",
      "LandContour: Flatness of the property\n",
      "\n",
      "       Lvl\tNear Flat/Level\t\n",
      "       Bnk\tBanked - Quick and significant rise from street grade to building\n",
      "       HLS\tHillside - Significant slope from side to side\n",
      "       Low\tDepression\n",
      "\t\t\n",
      "Utilities: Type of utilities available\n",
      "\t\t\n",
      "       AllPub\tAll public Utilities (E,G,W,& S)\t\n",
      "       NoSewr\tElectricity, Gas, and Water (Septic Tank)\n",
      "       NoSeWa\tElectricity and Gas Only\n",
      "       ELO\tElectricity only\t\n",
      "\t\n",
      "LotConfig: Lot configuration\n",
      "\n",
      "       Inside\tInside lot\n",
      "       Corner\tCorner lot\n",
      "       CulDSac\tCul-de-sac\n",
      "       FR2\tFrontage on 2 sides of property\n",
      "       FR3\tFrontage on 3 sides of property\n",
      "\t\n",
      "LandSlope: Slope of property\n",
      "\t\t\n",
      "       Gtl\tGentle slope\n",
      "       Mod\tModerate Slope\t\n",
      "       Sev\tSevere Slope\n",
      "\t\n",
      "Neighborhood: Physical locations within Ames city limits\n",
      "\n",
      "       Blmngtn\tBloomington Heights\n",
      "       Blueste\tBluestem\n",
      "       BrDale\tBriardale\n",
      "       BrkSide\tBrookside\n",
      "       ClearCr\tClear Creek\n",
      "       CollgCr\tCollege Creek\n",
      "       Crawfor\tCrawford\n",
      "       Edwards\tEdwards\n",
      "       Gilbert\tGilbert\n",
      "       IDOTRR\tIowa DOT and Rail Road\n",
      "       MeadowV\tMeadow Village\n",
      "       Mitchel\tMitchell\n",
      "       Names\tNorth Ames\n",
      "       NoRidge\tNorthridge\n",
      "       NPkVill\tNorthpark Villa\n",
      "       NridgHt\tNorthridge Heights\n",
      "       NWAmes\tNorthwest Ames\n",
      "       OldTown\tOld Town\n",
      "       SWISU\tSouth & West of Iowa State University\n",
      "       Sawyer\tSawyer\n",
      "       SawyerW\tSawyer West\n",
      "       Somerst\tSomerset\n",
      "       StoneBr\tStone Brook\n",
      "       Timber\tTimberland\n",
      "       Veenker\tVeenker\n",
      "\t\t\t\n",
      "Condition1: Proximity to various conditions\n",
      "\t\n",
      "       Artery\tAdjacent to arterial street\n",
      "       Feedr\tAdjacent to feeder street\t\n",
      "       Norm\tNormal\t\n",
      "       RRNn\tWithin 200' of North-South Railroad\n",
      "       RRAn\tAdjacent to North-South Railroad\n",
      "       PosN\tNear positive off-site feature--park, greenbelt, etc.\n",
      "       PosA\tAdjacent to postive off-site feature\n",
      "       RRNe\tWithin 200' of East-West Railroad\n",
      "       RRAe\tAdjacent to East-West Railroad\n",
      "\t\n",
      "Condition2: Proximity to various conditions (if more than one is present)\n",
      "\t\t\n",
      "       Artery\tAdjacent to arterial street\n",
      "       Feedr\tAdjacent to feeder street\t\n",
      "       Norm\tNormal\t\n",
      "       RRNn\tWithin 200' of North-South Railroad\n",
      "       RRAn\tAdjacent to North-South Railroad\n",
      "       PosN\tNear positive off-site feature--park, greenbelt, etc.\n",
      "       PosA\tAdjacent to postive off-site feature\n",
      "       RRNe\tWithin 200' of East-West Railroad\n",
      "       RRAe\tAdjacent to East-West Railroad\n",
      "\t\n",
      "BldgType: Type of dwelling\n",
      "\t\t\n",
      "       1Fam\tSingle-family Detached\t\n",
      "       2FmCon\tTwo-family Conversion; originally built as one-family dwelling\n",
      "       Duplx\tDuplex\n",
      "       TwnhsE\tTownhouse End Unit\n",
      "       TwnhsI\tTownhouse Inside Unit\n",
      "\t\n",
      "HouseStyle: Style of dwelling\n",
      "\t\n",
      "       1Story\tOne story\n",
      "       1.5Fin\tOne and one-half story: 2nd level finished\n",
      "       1.5Unf\tOne and one-half story: 2nd level unfinished\n",
      "       2Story\tTwo story\n",
      "       2.5Fin\tTwo and one-half story: 2nd level finished\n",
      "       2.5Unf\tTwo and one-half story: 2nd level unfinished\n",
      "       SFoyer\tSplit Foyer\n",
      "       SLvl\tSplit Level\n",
      "\t\n",
      "OverallQual: Rates the overall material and finish of the house\n",
      "\n",
      "       10\tVery Excellent\n",
      "       9\tExcellent\n",
      "       8\tVery Good\n",
      "       7\tGood\n",
      "       6\tAbove Average\n",
      "       5\tAverage\n",
      "       4\tBelow Average\n",
      "       3\tFair\n",
      "       2\tPoor\n",
      "       1\tVery Poor\n",
      "\t\n",
      "OverallCond: Rates the overall condition of the house\n",
      "\n",
      "       10\tVery Excellent\n",
      "       9\tExcellent\n",
      "       8\tVery Good\n",
      "       7\tGood\n",
      "       6\tAbove Average\t\n",
      "       5\tAverage\n",
      "       4\tBelow Average\t\n",
      "       3\tFair\n",
      "       2\tPoor\n",
      "       1\tVery Poor\n",
      "\t\t\n",
      "YearBuilt: Original construction date\n",
      "\n",
      "YearRemodAdd: Remodel date (same as construction date if no remodeling or additions)\n",
      "\n",
      "RoofStyle: Type of roof\n",
      "\n",
      "       Flat\tFlat\n",
      "       Gable\tGable\n",
      "       Gambrel\tGabrel (Barn)\n",
      "       Hip\tHip\n",
      "       Mansard\tMansard\n",
      "       Shed\tShed\n",
      "\t\t\n",
      "RoofMatl: Roof material\n",
      "\n",
      "       ClyTile\tClay or Tile\n",
      "       CompShg\tStandard (Composite) Shingle\n",
      "       Membran\tMembrane\n",
      "       Metal\tMetal\n",
      "       Roll\tRoll\n",
      "       Tar&Grv\tGravel & Tar\n",
      "       WdShake\tWood Shakes\n",
      "       WdShngl\tWood Shingles\n",
      "\t\t\n",
      "Exterior1st: Exterior covering on house\n",
      "\n",
      "       AsbShng\tAsbestos Shingles\n",
      "       AsphShn\tAsphalt Shingles\n",
      "       BrkComm\tBrick Common\n",
      "       BrkFace\tBrick Face\n",
      "       CBlock\tCinder Block\n",
      "       CemntBd\tCement Board\n",
      "       HdBoard\tHard Board\n",
      "       ImStucc\tImitation Stucco\n",
      "       MetalSd\tMetal Siding\n",
      "       Other\tOther\n",
      "       Plywood\tPlywood\n",
      "       PreCast\tPreCast\t\n",
      "       Stone\tStone\n",
      "       Stucco\tStucco\n",
      "       VinylSd\tVinyl Siding\n",
      "       Wd Sdng\tWood Siding\n",
      "       WdShing\tWood Shingles\n",
      "\t\n",
      "Exterior2nd: Exterior covering on house (if more than one material)\n",
      "\n",
      "       AsbShng\tAsbestos Shingles\n",
      "       AsphShn\tAsphalt Shingles\n",
      "       BrkComm\tBrick Common\n",
      "       BrkFace\tBrick Face\n",
      "       CBlock\tCinder Block\n",
      "       CemntBd\tCement Board\n",
      "       HdBoard\tHard Board\n",
      "       ImStucc\tImitation Stucco\n",
      "       MetalSd\tMetal Siding\n",
      "       Other\tOther\n",
      "       Plywood\tPlywood\n",
      "       PreCast\tPreCast\n",
      "       Stone\tStone\n",
      "       Stucco\tStucco\n",
      "       VinylSd\tVinyl Siding\n",
      "       Wd Sdng\tWood Siding\n",
      "       WdShing\tWood Shingles\n",
      "\t\n",
      "MasVnrType: Masonry veneer type\n",
      "\n",
      "       BrkCmn\tBrick Common\n",
      "       BrkFace\tBrick Face\n",
      "       CBlock\tCinder Block\n",
      "       None\tNone\n",
      "       Stone\tStone\n",
      "\t\n",
      "MasVnrArea: Masonry veneer area in square feet\n",
      "\n",
      "ExterQual: Evaluates the quality of the material on the exterior \n",
      "\t\t\n",
      "       Ex\tExcellent\n",
      "       Gd\tGood\n",
      "       TA\tAverage/Typical\n",
      "       Fa\tFair\n",
      "       Po\tPoor\n",
      "\t\t\n",
      "ExterCond: Evaluates the present condition of the material on the exterior\n",
      "\t\t\n",
      "       Ex\tExcellent\n",
      "       Gd\tGood\n",
      "       TA\tAverage/Typical\n",
      "       Fa\tFair\n",
      "       Po\tPoor\n",
      "\t\t\n",
      "Foundation: Type of foundation\n",
      "\t\t\n",
      "       BrkTil\tBrick & Tile\n",
      "       CBlock\tCinder Block\n",
      "       PConc\tPoured Contrete\t\n",
      "       Slab\tSlab\n",
      "       Stone\tStone\n",
      "       Wood\tWood\n",
      "\t\t\n",
      "BsmtQual: Evaluates the height of the basement\n",
      "\n",
      "       Ex\tExcellent (100+ inches)\t\n",
      "       Gd\tGood (90-99 inches)\n",
      "       TA\tTypical (80-89 inches)\n",
      "       Fa\tFair (70-79 inches)\n",
      "       Po\tPoor (<70 inches\n",
      "       NA\tNo Basement\n",
      "\t\t\n",
      "BsmtCond: Evaluates the general condition of the basement\n",
      "\n",
      "       Ex\tExcellent\n",
      "       Gd\tGood\n",
      "       TA\tTypical - slight dampness allowed\n",
      "       Fa\tFair - dampness or some cracking or settling\n",
      "       Po\tPoor - Severe cracking, settling, or wetness\n",
      "       NA\tNo Basement\n",
      "\t\n",
      "BsmtExposure: Refers to walkout or garden level walls\n",
      "\n",
      "       Gd\tGood Exposure\n",
      "       Av\tAverage Exposure (split levels or foyers typically score average or above)\t\n",
      "       Mn\tMimimum Exposure\n",
      "       No\tNo Exposure\n",
      "       NA\tNo Basement\n",
      "\t\n",
      "BsmtFinType1: Rating of basement finished area\n",
      "\n",
      "       GLQ\tGood Living Quarters\n",
      "       ALQ\tAverage Living Quarters\n",
      "       BLQ\tBelow Average Living Quarters\t\n",
      "       Rec\tAverage Rec Room\n",
      "       LwQ\tLow Quality\n",
      "       Unf\tUnfinshed\n",
      "       NA\tNo Basement\n",
      "\t\t\n",
      "BsmtFinSF1: Type 1 finished square feet\n",
      "\n",
      "BsmtFinType2: Rating of basement finished area (if multiple types)\n",
      "\n",
      "       GLQ\tGood Living Quarters\n",
      "       ALQ\tAverage Living Quarters\n",
      "       BLQ\tBelow Average Living Quarters\t\n",
      "       Rec\tAverage Rec Room\n",
      "       LwQ\tLow Quality\n",
      "       Unf\tUnfinshed\n",
      "       NA\tNo Basement\n",
      "\n",
      "BsmtFinSF2: Type 2 finished square feet\n",
      "\n",
      "BsmtUnfSF: Unfinished square feet of basement area\n",
      "\n",
      "TotalBsmtSF: Total square feet of basement area\n",
      "\n",
      "Heating: Type of heating\n",
      "\t\t\n",
      "       Floor\tFloor Furnace\n",
      "       GasA\tGas forced warm air furnace\n",
      "       GasW\tGas hot water or steam heat\n",
      "       Grav\tGravity furnace\t\n",
      "       OthW\tHot water or steam heat other than gas\n",
      "       Wall\tWall furnace\n",
      "\t\t\n",
      "HeatingQC: Heating quality and condition\n",
      "\n",
      "       Ex\tExcellent\n",
      "       Gd\tGood\n",
      "       TA\tAverage/Typical\n",
      "       Fa\tFair\n",
      "       Po\tPoor\n",
      "\t\t\n",
      "CentralAir: Central air conditioning\n",
      "\n",
      "       N\tNo\n",
      "       Y\tYes\n",
      "\t\t\n",
      "Electrical: Electrical system\n",
      "\n",
      "       SBrkr\tStandard Circuit Breakers & Romex\n",
      "       FuseA\tFuse Box over 60 AMP and all Romex wiring (Average)\t\n",
      "       FuseF\t60 AMP Fuse Box and mostly Romex wiring (Fair)\n",
      "       FuseP\t60 AMP Fuse Box and mostly knob & tube wiring (poor)\n",
      "       Mix\tMixed\n",
      "\t\t\n",
      "1stFlrSF: First Floor square feet\n",
      " \n",
      "2ndFlrSF: Second floor square feet\n",
      "\n",
      "LowQualFinSF: Low quality finished square feet (all floors)\n",
      "\n",
      "GrLivArea: Above grade (ground) living area square feet\n",
      "\n",
      "BsmtFullBath: Basement full bathrooms\n",
      "\n",
      "BsmtHalfBath: Basement half bathrooms\n",
      "\n",
      "FullBath: Full bathrooms above grade\n",
      "\n",
      "HalfBath: Half baths above grade\n",
      "\n",
      "Bedroom: Bedrooms above grade (does NOT include basement bedrooms)\n",
      "\n",
      "Kitchen: Kitchens above grade\n",
      "\n",
      "KitchenQual: Kitchen quality\n",
      "\n",
      "       Ex\tExcellent\n",
      "       Gd\tGood\n",
      "       TA\tTypical/Average\n",
      "       Fa\tFair\n",
      "       Po\tPoor\n",
      "       \t\n",
      "TotRmsAbvGrd: Total rooms above grade (does not include bathrooms)\n",
      "\n",
      "Functional: Home functionality (Assume typical unless deductions are warranted)\n",
      "\n",
      "       Typ\tTypical Functionality\n",
      "       Min1\tMinor Deductions 1\n",
      "       Min2\tMinor Deductions 2\n",
      "       Mod\tModerate Deductions\n",
      "       Maj1\tMajor Deductions 1\n",
      "       Maj2\tMajor Deductions 2\n",
      "       Sev\tSeverely Damaged\n",
      "       Sal\tSalvage only\n",
      "\t\t\n",
      "Fireplaces: Number of fireplaces\n",
      "\n",
      "FireplaceQu: Fireplace quality\n",
      "\n",
      "       Ex\tExcellent - Exceptional Masonry Fireplace\n",
      "       Gd\tGood - Masonry Fireplace in main level\n",
      "       TA\tAverage - Prefabricated Fireplace in main living area or Masonry Fireplace in basement\n",
      "       Fa\tFair - Prefabricated Fireplace in basement\n",
      "       Po\tPoor - Ben Franklin Stove\n",
      "       NA\tNo Fireplace\n",
      "\t\t\n",
      "GarageType: Garage location\n",
      "\t\t\n",
      "       2Types\tMore than one type of garage\n",
      "       Attchd\tAttached to home\n",
      "       Basment\tBasement Garage\n",
      "       BuiltIn\tBuilt-In (Garage part of house - typically has room above garage)\n",
      "       CarPort\tCar Port\n",
      "       Detchd\tDetached from home\n",
      "       NA\tNo Garage\n",
      "\t\t\n",
      "GarageYrBlt: Year garage was built\n",
      "\t\t\n",
      "GarageFinish: Interior finish of the garage\n",
      "\n",
      "       Fin\tFinished\n",
      "       RFn\tRough Finished\t\n",
      "       Unf\tUnfinished\n",
      "       NA\tNo Garage\n",
      "\t\t\n",
      "GarageCars: Size of garage in car capacity\n",
      "\n",
      "GarageArea: Size of garage in square feet\n",
      "\n",
      "GarageQual: Garage quality\n",
      "\n",
      "       Ex\tExcellent\n",
      "       Gd\tGood\n",
      "       TA\tTypical/Average\n",
      "       Fa\tFair\n",
      "       Po\tPoor\n",
      "       NA\tNo Garage\n",
      "\t\t\n",
      "GarageCond: Garage condition\n",
      "\n",
      "       Ex\tExcellent\n",
      "       Gd\tGood\n",
      "       TA\tTypical/Average\n",
      "       Fa\tFair\n",
      "       Po\tPoor\n",
      "       NA\tNo Garage\n",
      "\t\t\n",
      "PavedDrive: Paved driveway\n",
      "\n",
      "       Y\tPaved \n",
      "       P\tPartial Pavement\n",
      "       N\tDirt/Gravel\n",
      "\t\t\n",
      "WoodDeckSF: Wood deck area in square feet\n",
      "\n",
      "OpenPorchSF: Open porch area in square feet\n",
      "\n",
      "EnclosedPorch: Enclosed porch area in square feet\n",
      "\n",
      "3SsnPorch: Three season porch area in square feet\n",
      "\n",
      "ScreenPorch: Screen porch area in square feet\n",
      "\n",
      "PoolArea: Pool area in square feet\n",
      "\n",
      "PoolQC: Pool quality\n",
      "\t\t\n",
      "       Ex\tExcellent\n",
      "       Gd\tGood\n",
      "       TA\tAverage/Typical\n",
      "       Fa\tFair\n",
      "       NA\tNo Pool\n",
      "\t\t\n",
      "Fence: Fence quality\n",
      "\t\t\n",
      "       GdPrv\tGood Privacy\n",
      "       MnPrv\tMinimum Privacy\n",
      "       GdWo\tGood Wood\n",
      "       MnWw\tMinimum Wood/Wire\n",
      "       NA\tNo Fence\n",
      "\t\n",
      "MiscFeature: Miscellaneous feature not covered in other categories\n",
      "\t\t\n",
      "       Elev\tElevator\n",
      "       Gar2\t2nd Garage (if not described in garage section)\n",
      "       Othr\tOther\n",
      "       Shed\tShed (over 100 SF)\n",
      "       TenC\tTennis Court\n",
      "       NA\tNone\n",
      "\t\t\n",
      "MiscVal: $Value of miscellaneous feature\n",
      "\n",
      "MoSold: Month Sold (MM)\n",
      "\n",
      "YrSold: Year Sold (YYYY)\n",
      "\n",
      "SaleType: Type of sale\n",
      "\t\t\n",
      "       WD \tWarranty Deed - Conventional\n",
      "       CWD\tWarranty Deed - Cash\n",
      "       VWD\tWarranty Deed - VA Loan\n",
      "       New\tHome just constructed and sold\n",
      "       COD\tCourt Officer Deed/Estate\n",
      "       Con\tContract 15% Down payment regular terms\n",
      "       ConLw\tContract Low Down payment and low interest\n",
      "       ConLI\tContract Low Interest\n",
      "       ConLD\tContract Low Down\n",
      "       Oth\tOther\n",
      "\t\t\n",
      "SaleCondition: Condition of sale\n",
      "\n",
      "       Normal\tNormal Sale\n",
      "       Abnorml\tAbnormal Sale -  trade, foreclosure, short sale\n",
      "       AdjLand\tAdjoining Land Purchase\n",
      "       Alloca\tAllocation - two linked properties with separate deeds, typically condo with a garage unit\t\n",
      "       Family\tSale between family members\n",
      "       Partial\tHome was not completed when last assessed (associated with New Homes)\n",
      "\n"
     ]
    }
   ],
   "source": [
    "show_documentation()"
   ]
  },
  {
   "cell_type": "markdown",
   "id": "0dfa42f5",
   "metadata": {},
   "source": [
    "__Findings__\n",
    "- Data types are not always reflecting the actual, inherent data types\n",
    "    "
   ]
  },
  {
   "cell_type": "code",
   "execution_count": 65,
   "id": "6edaba0e",
   "metadata": {},
   "outputs": [],
   "source": [
    "# Define dictionary with inherent dtypes and tags for preprocessing pipeline based on documentation\n",
    "\n",
    "dtype_dict = {\n",
    "    'MSSubClass': ['category', 'nominal'],\n",
    "    'MSZoning': ['category', 'nominal'],\n",
    "    'LotFrontage': ['float32','numeric'],\n",
    "    'LotArea' : ['int32','numeric'],\n",
    "    'Street' : ['category', 'nominal'],\n",
    "    'Alley' : ['category', 'nominal'],\n",
    "    'LotShape' : ['category', 'nominal'],\n",
    "    'LandContour' : ['category', 'nominal'],\n",
    "    'Utilities' : ['category', 'ordinal'],\n",
    "    'LotConfig' : ['category', 'nominal'],\n",
    "    'LandSlope' : ['category', 'nominal'],\n",
    "    'Neighborhood' : ['category', 'nominal'],\n",
    "    'Condition1' : ['category', 'nominal'],\n",
    "    'Condition2' : ['category', 'nominal'],\n",
    "    'BldgType' : ['category', 'nominal'],\n",
    "    'HouseStyle' : ['category', 'nominal'],\n",
    "    'OverallQual' : ['category', 'ordinal'],\n",
    "    'OverallCond' : ['category', 'ordinal'],\n",
    "    'YearBuilt' : ['int32','numeric'],\n",
    "    'YearRemodAdd' : ['int32','numeric'],\n",
    "    'RoofStyle' : ['category', 'nominal'],\n",
    "    'RoofMatl' : ['category', 'nominal'],\n",
    "    'Exterior1st' : ['category', 'nominal'],\n",
    "    'Exterior2nd' : ['category', 'nominal'],\n",
    "    'MasVnrType' : ['category', 'nominal'],\n",
    "    'MasVnrArea' : ['float32','numeric'],\n",
    "    'ExterQual' : ['category', 'ordinal'],\n",
    "    'ExterCond' : ['category', 'ordinal'],\n",
    "    'Foundation' : ['category', 'nominal'],\n",
    "    'BsmtQual' : ['category', 'ordinal'],\n",
    "    'BsmtCond' : ['category', 'ordinal'],\n",
    "    'BsmtExposure' : ['category', 'ordinal'],\n",
    "    'BsmtFinType1' : ['category', 'ordinal'],\n",
    "    'BsmtFinSF1' : ['int32','numeric'],\n",
    "    'BsmtFinType2' : ['category', 'ordinal'],\n",
    "    'BsmtFinSF2' : ['int32','numeric'],\n",
    "    'BsmtUnfSF' : ['int32','numeric'],\n",
    "    'TotalBsmtSF' : ['int32','numeric'],\n",
    "    'Heating' : ['category', 'nominal'],\n",
    "    'HeatingQC' : ['category', 'ordinal'],\n",
    "    'CentralAir' : ['category','ordinal'],\n",
    "    'Electrical' : ['category', 'nominal'],\n",
    "    '1stFlrSF' : ['int32','numeric'],\n",
    "    '1stFlrSF' : ['int32','numeric'],\n",
    "    '2ndFlrSF' : ['int32','numeric'],\n",
    "    'LowQualFinSF' : ['int32','numeric'],\n",
    "    'GrLivArea' : ['int32','numeric'],\n",
    "    'BsmtFullBath' : ['int32','numeric'],\n",
    "    'BsmtHalfBath' : ['int32','numeric'],\n",
    "    'FullBath' : ['int32','numeric'],\n",
    "    'HalfBath' : ['int32','numeric'],\n",
    "    'BedroomAbvGr' : ['int32','numeric'],\n",
    "    'KitchenAbvGr' : ['int32','numeric'],\n",
    "    'KitchenQual' : ['category', 'ordinal'],\n",
    "    'TotRmsAbvGrd' : ['int32','numeric'],\n",
    "    'Functional' : ['category', 'ordinal'],\n",
    "    'Fireplaces' : ['int32','numeric'],\n",
    "    'FireplaceQu' : ['category', 'ordinal'],\n",
    "    'GarageType' : ['category', 'nominal'],\n",
    "    'GarageYrBlt' : ['int32','numeric'],\n",
    "    'GarageFinish' : ['category', 'ordinal'],\n",
    "    'GarageCars' : ['int32','numeric'],\n",
    "    'GarageArea' : ['int32','numeric'],\n",
    "    'GarageQual' : ['category', 'ordinal'],\n",
    "    'GarageCond' : ['category', 'ordinal'],\n",
    "    'PavedDrive' : ['category', 'nominal'],\n",
    "    'WoodDeckSF' : ['int32','numeric'],\n",
    "    'OpenPorchSF' : ['int32','numeric'],\n",
    "    'EnclosedPorch' : ['int32','numeric'],\n",
    "    '3SsnPorch' : ['int32','numeric'],\n",
    "    'ScreenPorch' : ['int32','numeric'],\n",
    "    'PoolArea' : ['int32','numeric'],\n",
    "    'PoolQC' : ['category', 'ordinal'],\n",
    "    'Fence' : ['category', 'nominal'],\n",
    "    'MiscFeature' : ['category', 'nominal'],\n",
    "    'MiscVal' : ['int32','numeric'],\n",
    "    'MoSold' : ['int32','numeric'],\n",
    "    'YrSold' : ['int32','numeric'],\n",
    "    'SaleType' : ['category', 'nominal'],\n",
    "    'SaleCondition' : ['category', 'nominal'],\n",
    "    'SalePrice' : ['int32','numeric']\n",
    "}"
   ]
  },
  {
   "cell_type": "code",
   "execution_count": 66,
   "id": "f376efe9",
   "metadata": {},
   "outputs": [
    {
     "data": {
      "text/plain": [
       "80"
      ]
     },
     "execution_count": 66,
     "metadata": {},
     "output_type": "execute_result"
    }
   ],
   "source": [
    "len(dtype_dict)"
   ]
  },
  {
   "cell_type": "code",
   "execution_count": 67,
   "id": "a5fd211b",
   "metadata": {
    "scrolled": true
   },
   "outputs": [],
   "source": [
    "overview_table = pd.DataFrame({\n",
    "    'feature': list(data.columns),\n",
    "    'dtype_current': [str(data[col].dtype) for col in data.columns],\n",
    "    'dtype_actual': [dtype_dict[col][0] for col in data.columns],\n",
    "    'nan_count' : [data[col].isna().sum() for col in data.columns],\n",
    "    'na_strategy': ['fill_na' if col in na_strategy_fill else 'impute' if col in na_strategy_impute else None for col in data.columns],\n",
    "    'preprocessing_type': [dtype_dict[col][1] for col in data.columns],\n",
    "    \n",
    "})"
   ]
  },
  {
   "cell_type": "code",
   "execution_count": 68,
   "id": "c68d35de",
   "metadata": {
    "scrolled": true
   },
   "outputs": [
    {
     "data": {
      "text/html": [
       "<div>\n",
       "<style scoped>\n",
       "    .dataframe tbody tr th:only-of-type {\n",
       "        vertical-align: middle;\n",
       "    }\n",
       "\n",
       "    .dataframe tbody tr th {\n",
       "        vertical-align: top;\n",
       "    }\n",
       "\n",
       "    .dataframe thead th {\n",
       "        text-align: right;\n",
       "    }\n",
       "</style>\n",
       "<table border=\"1\" class=\"dataframe\">\n",
       "  <thead>\n",
       "    <tr style=\"text-align: right;\">\n",
       "      <th></th>\n",
       "      <th>feature</th>\n",
       "      <th>dtype_current</th>\n",
       "      <th>dtype_actual</th>\n",
       "      <th>nan_count</th>\n",
       "      <th>na_strategy</th>\n",
       "      <th>preprocessing_type</th>\n",
       "    </tr>\n",
       "  </thead>\n",
       "  <tbody>\n",
       "    <tr>\n",
       "      <th>0</th>\n",
       "      <td>MSSubClass</td>\n",
       "      <td>int64</td>\n",
       "      <td>category</td>\n",
       "      <td>0</td>\n",
       "      <td>None</td>\n",
       "      <td>nominal</td>\n",
       "    </tr>\n",
       "    <tr>\n",
       "      <th>1</th>\n",
       "      <td>MSZoning</td>\n",
       "      <td>object</td>\n",
       "      <td>category</td>\n",
       "      <td>0</td>\n",
       "      <td>None</td>\n",
       "      <td>nominal</td>\n",
       "    </tr>\n",
       "    <tr>\n",
       "      <th>2</th>\n",
       "      <td>LotFrontage</td>\n",
       "      <td>float64</td>\n",
       "      <td>float32</td>\n",
       "      <td>259</td>\n",
       "      <td>impute</td>\n",
       "      <td>numeric</td>\n",
       "    </tr>\n",
       "    <tr>\n",
       "      <th>3</th>\n",
       "      <td>LotArea</td>\n",
       "      <td>int64</td>\n",
       "      <td>int32</td>\n",
       "      <td>0</td>\n",
       "      <td>None</td>\n",
       "      <td>numeric</td>\n",
       "    </tr>\n",
       "    <tr>\n",
       "      <th>4</th>\n",
       "      <td>Street</td>\n",
       "      <td>object</td>\n",
       "      <td>category</td>\n",
       "      <td>0</td>\n",
       "      <td>None</td>\n",
       "      <td>nominal</td>\n",
       "    </tr>\n",
       "    <tr>\n",
       "      <th>5</th>\n",
       "      <td>Alley</td>\n",
       "      <td>object</td>\n",
       "      <td>category</td>\n",
       "      <td>1369</td>\n",
       "      <td>fill_na</td>\n",
       "      <td>nominal</td>\n",
       "    </tr>\n",
       "    <tr>\n",
       "      <th>6</th>\n",
       "      <td>LotShape</td>\n",
       "      <td>object</td>\n",
       "      <td>category</td>\n",
       "      <td>0</td>\n",
       "      <td>None</td>\n",
       "      <td>nominal</td>\n",
       "    </tr>\n",
       "    <tr>\n",
       "      <th>7</th>\n",
       "      <td>LandContour</td>\n",
       "      <td>object</td>\n",
       "      <td>category</td>\n",
       "      <td>0</td>\n",
       "      <td>None</td>\n",
       "      <td>nominal</td>\n",
       "    </tr>\n",
       "    <tr>\n",
       "      <th>8</th>\n",
       "      <td>Utilities</td>\n",
       "      <td>object</td>\n",
       "      <td>category</td>\n",
       "      <td>0</td>\n",
       "      <td>None</td>\n",
       "      <td>ordinal</td>\n",
       "    </tr>\n",
       "    <tr>\n",
       "      <th>9</th>\n",
       "      <td>LotConfig</td>\n",
       "      <td>object</td>\n",
       "      <td>category</td>\n",
       "      <td>0</td>\n",
       "      <td>None</td>\n",
       "      <td>nominal</td>\n",
       "    </tr>\n",
       "    <tr>\n",
       "      <th>10</th>\n",
       "      <td>LandSlope</td>\n",
       "      <td>object</td>\n",
       "      <td>category</td>\n",
       "      <td>0</td>\n",
       "      <td>None</td>\n",
       "      <td>nominal</td>\n",
       "    </tr>\n",
       "    <tr>\n",
       "      <th>11</th>\n",
       "      <td>Neighborhood</td>\n",
       "      <td>object</td>\n",
       "      <td>category</td>\n",
       "      <td>0</td>\n",
       "      <td>None</td>\n",
       "      <td>nominal</td>\n",
       "    </tr>\n",
       "    <tr>\n",
       "      <th>12</th>\n",
       "      <td>Condition1</td>\n",
       "      <td>object</td>\n",
       "      <td>category</td>\n",
       "      <td>0</td>\n",
       "      <td>None</td>\n",
       "      <td>nominal</td>\n",
       "    </tr>\n",
       "    <tr>\n",
       "      <th>13</th>\n",
       "      <td>Condition2</td>\n",
       "      <td>object</td>\n",
       "      <td>category</td>\n",
       "      <td>0</td>\n",
       "      <td>None</td>\n",
       "      <td>nominal</td>\n",
       "    </tr>\n",
       "    <tr>\n",
       "      <th>14</th>\n",
       "      <td>BldgType</td>\n",
       "      <td>object</td>\n",
       "      <td>category</td>\n",
       "      <td>0</td>\n",
       "      <td>None</td>\n",
       "      <td>nominal</td>\n",
       "    </tr>\n",
       "    <tr>\n",
       "      <th>15</th>\n",
       "      <td>HouseStyle</td>\n",
       "      <td>object</td>\n",
       "      <td>category</td>\n",
       "      <td>0</td>\n",
       "      <td>None</td>\n",
       "      <td>nominal</td>\n",
       "    </tr>\n",
       "    <tr>\n",
       "      <th>16</th>\n",
       "      <td>OverallQual</td>\n",
       "      <td>int64</td>\n",
       "      <td>category</td>\n",
       "      <td>0</td>\n",
       "      <td>None</td>\n",
       "      <td>ordinal</td>\n",
       "    </tr>\n",
       "    <tr>\n",
       "      <th>17</th>\n",
       "      <td>OverallCond</td>\n",
       "      <td>int64</td>\n",
       "      <td>category</td>\n",
       "      <td>0</td>\n",
       "      <td>None</td>\n",
       "      <td>ordinal</td>\n",
       "    </tr>\n",
       "    <tr>\n",
       "      <th>18</th>\n",
       "      <td>YearBuilt</td>\n",
       "      <td>int64</td>\n",
       "      <td>int32</td>\n",
       "      <td>0</td>\n",
       "      <td>None</td>\n",
       "      <td>numeric</td>\n",
       "    </tr>\n",
       "    <tr>\n",
       "      <th>19</th>\n",
       "      <td>YearRemodAdd</td>\n",
       "      <td>int64</td>\n",
       "      <td>int32</td>\n",
       "      <td>0</td>\n",
       "      <td>None</td>\n",
       "      <td>numeric</td>\n",
       "    </tr>\n",
       "    <tr>\n",
       "      <th>20</th>\n",
       "      <td>RoofStyle</td>\n",
       "      <td>object</td>\n",
       "      <td>category</td>\n",
       "      <td>0</td>\n",
       "      <td>None</td>\n",
       "      <td>nominal</td>\n",
       "    </tr>\n",
       "    <tr>\n",
       "      <th>21</th>\n",
       "      <td>RoofMatl</td>\n",
       "      <td>object</td>\n",
       "      <td>category</td>\n",
       "      <td>0</td>\n",
       "      <td>None</td>\n",
       "      <td>nominal</td>\n",
       "    </tr>\n",
       "    <tr>\n",
       "      <th>22</th>\n",
       "      <td>Exterior1st</td>\n",
       "      <td>object</td>\n",
       "      <td>category</td>\n",
       "      <td>0</td>\n",
       "      <td>None</td>\n",
       "      <td>nominal</td>\n",
       "    </tr>\n",
       "    <tr>\n",
       "      <th>23</th>\n",
       "      <td>Exterior2nd</td>\n",
       "      <td>object</td>\n",
       "      <td>category</td>\n",
       "      <td>0</td>\n",
       "      <td>None</td>\n",
       "      <td>nominal</td>\n",
       "    </tr>\n",
       "    <tr>\n",
       "      <th>24</th>\n",
       "      <td>MasVnrType</td>\n",
       "      <td>object</td>\n",
       "      <td>category</td>\n",
       "      <td>8</td>\n",
       "      <td>impute</td>\n",
       "      <td>nominal</td>\n",
       "    </tr>\n",
       "    <tr>\n",
       "      <th>25</th>\n",
       "      <td>MasVnrArea</td>\n",
       "      <td>float64</td>\n",
       "      <td>float32</td>\n",
       "      <td>8</td>\n",
       "      <td>impute</td>\n",
       "      <td>numeric</td>\n",
       "    </tr>\n",
       "    <tr>\n",
       "      <th>26</th>\n",
       "      <td>ExterQual</td>\n",
       "      <td>object</td>\n",
       "      <td>category</td>\n",
       "      <td>0</td>\n",
       "      <td>None</td>\n",
       "      <td>ordinal</td>\n",
       "    </tr>\n",
       "    <tr>\n",
       "      <th>27</th>\n",
       "      <td>ExterCond</td>\n",
       "      <td>object</td>\n",
       "      <td>category</td>\n",
       "      <td>0</td>\n",
       "      <td>None</td>\n",
       "      <td>ordinal</td>\n",
       "    </tr>\n",
       "    <tr>\n",
       "      <th>28</th>\n",
       "      <td>Foundation</td>\n",
       "      <td>object</td>\n",
       "      <td>category</td>\n",
       "      <td>0</td>\n",
       "      <td>None</td>\n",
       "      <td>nominal</td>\n",
       "    </tr>\n",
       "    <tr>\n",
       "      <th>29</th>\n",
       "      <td>BsmtQual</td>\n",
       "      <td>object</td>\n",
       "      <td>category</td>\n",
       "      <td>37</td>\n",
       "      <td>fill_na</td>\n",
       "      <td>ordinal</td>\n",
       "    </tr>\n",
       "    <tr>\n",
       "      <th>30</th>\n",
       "      <td>BsmtCond</td>\n",
       "      <td>object</td>\n",
       "      <td>category</td>\n",
       "      <td>37</td>\n",
       "      <td>fill_na</td>\n",
       "      <td>ordinal</td>\n",
       "    </tr>\n",
       "    <tr>\n",
       "      <th>31</th>\n",
       "      <td>BsmtExposure</td>\n",
       "      <td>object</td>\n",
       "      <td>category</td>\n",
       "      <td>38</td>\n",
       "      <td>fill_na</td>\n",
       "      <td>ordinal</td>\n",
       "    </tr>\n",
       "    <tr>\n",
       "      <th>32</th>\n",
       "      <td>BsmtFinType1</td>\n",
       "      <td>object</td>\n",
       "      <td>category</td>\n",
       "      <td>37</td>\n",
       "      <td>fill_na</td>\n",
       "      <td>ordinal</td>\n",
       "    </tr>\n",
       "    <tr>\n",
       "      <th>33</th>\n",
       "      <td>BsmtFinSF1</td>\n",
       "      <td>int64</td>\n",
       "      <td>int32</td>\n",
       "      <td>0</td>\n",
       "      <td>None</td>\n",
       "      <td>numeric</td>\n",
       "    </tr>\n",
       "    <tr>\n",
       "      <th>34</th>\n",
       "      <td>BsmtFinType2</td>\n",
       "      <td>object</td>\n",
       "      <td>category</td>\n",
       "      <td>38</td>\n",
       "      <td>fill_na</td>\n",
       "      <td>ordinal</td>\n",
       "    </tr>\n",
       "    <tr>\n",
       "      <th>35</th>\n",
       "      <td>BsmtFinSF2</td>\n",
       "      <td>int64</td>\n",
       "      <td>int32</td>\n",
       "      <td>0</td>\n",
       "      <td>None</td>\n",
       "      <td>numeric</td>\n",
       "    </tr>\n",
       "    <tr>\n",
       "      <th>36</th>\n",
       "      <td>BsmtUnfSF</td>\n",
       "      <td>int64</td>\n",
       "      <td>int32</td>\n",
       "      <td>0</td>\n",
       "      <td>None</td>\n",
       "      <td>numeric</td>\n",
       "    </tr>\n",
       "    <tr>\n",
       "      <th>37</th>\n",
       "      <td>TotalBsmtSF</td>\n",
       "      <td>int64</td>\n",
       "      <td>int32</td>\n",
       "      <td>0</td>\n",
       "      <td>None</td>\n",
       "      <td>numeric</td>\n",
       "    </tr>\n",
       "    <tr>\n",
       "      <th>38</th>\n",
       "      <td>Heating</td>\n",
       "      <td>object</td>\n",
       "      <td>category</td>\n",
       "      <td>0</td>\n",
       "      <td>None</td>\n",
       "      <td>nominal</td>\n",
       "    </tr>\n",
       "    <tr>\n",
       "      <th>39</th>\n",
       "      <td>HeatingQC</td>\n",
       "      <td>object</td>\n",
       "      <td>category</td>\n",
       "      <td>0</td>\n",
       "      <td>None</td>\n",
       "      <td>ordinal</td>\n",
       "    </tr>\n",
       "    <tr>\n",
       "      <th>40</th>\n",
       "      <td>CentralAir</td>\n",
       "      <td>object</td>\n",
       "      <td>category</td>\n",
       "      <td>0</td>\n",
       "      <td>None</td>\n",
       "      <td>ordinal</td>\n",
       "    </tr>\n",
       "    <tr>\n",
       "      <th>41</th>\n",
       "      <td>Electrical</td>\n",
       "      <td>object</td>\n",
       "      <td>category</td>\n",
       "      <td>1</td>\n",
       "      <td>impute</td>\n",
       "      <td>nominal</td>\n",
       "    </tr>\n",
       "    <tr>\n",
       "      <th>42</th>\n",
       "      <td>1stFlrSF</td>\n",
       "      <td>int64</td>\n",
       "      <td>int32</td>\n",
       "      <td>0</td>\n",
       "      <td>None</td>\n",
       "      <td>numeric</td>\n",
       "    </tr>\n",
       "    <tr>\n",
       "      <th>43</th>\n",
       "      <td>2ndFlrSF</td>\n",
       "      <td>int64</td>\n",
       "      <td>int32</td>\n",
       "      <td>0</td>\n",
       "      <td>None</td>\n",
       "      <td>numeric</td>\n",
       "    </tr>\n",
       "    <tr>\n",
       "      <th>44</th>\n",
       "      <td>LowQualFinSF</td>\n",
       "      <td>int64</td>\n",
       "      <td>int32</td>\n",
       "      <td>0</td>\n",
       "      <td>None</td>\n",
       "      <td>numeric</td>\n",
       "    </tr>\n",
       "    <tr>\n",
       "      <th>45</th>\n",
       "      <td>GrLivArea</td>\n",
       "      <td>int64</td>\n",
       "      <td>int32</td>\n",
       "      <td>0</td>\n",
       "      <td>None</td>\n",
       "      <td>numeric</td>\n",
       "    </tr>\n",
       "    <tr>\n",
       "      <th>46</th>\n",
       "      <td>BsmtFullBath</td>\n",
       "      <td>int64</td>\n",
       "      <td>int32</td>\n",
       "      <td>0</td>\n",
       "      <td>None</td>\n",
       "      <td>numeric</td>\n",
       "    </tr>\n",
       "    <tr>\n",
       "      <th>47</th>\n",
       "      <td>BsmtHalfBath</td>\n",
       "      <td>int64</td>\n",
       "      <td>int32</td>\n",
       "      <td>0</td>\n",
       "      <td>None</td>\n",
       "      <td>numeric</td>\n",
       "    </tr>\n",
       "    <tr>\n",
       "      <th>48</th>\n",
       "      <td>FullBath</td>\n",
       "      <td>int64</td>\n",
       "      <td>int32</td>\n",
       "      <td>0</td>\n",
       "      <td>None</td>\n",
       "      <td>numeric</td>\n",
       "    </tr>\n",
       "    <tr>\n",
       "      <th>49</th>\n",
       "      <td>HalfBath</td>\n",
       "      <td>int64</td>\n",
       "      <td>int32</td>\n",
       "      <td>0</td>\n",
       "      <td>None</td>\n",
       "      <td>numeric</td>\n",
       "    </tr>\n",
       "  </tbody>\n",
       "</table>\n",
       "</div>"
      ],
      "text/plain": [
       "         feature dtype_current dtype_actual  nan_count na_strategy  \\\n",
       "0     MSSubClass         int64     category          0        None   \n",
       "1       MSZoning        object     category          0        None   \n",
       "2    LotFrontage       float64      float32        259      impute   \n",
       "3        LotArea         int64        int32          0        None   \n",
       "4         Street        object     category          0        None   \n",
       "5          Alley        object     category       1369     fill_na   \n",
       "6       LotShape        object     category          0        None   \n",
       "7    LandContour        object     category          0        None   \n",
       "8      Utilities        object     category          0        None   \n",
       "9      LotConfig        object     category          0        None   \n",
       "10     LandSlope        object     category          0        None   \n",
       "11  Neighborhood        object     category          0        None   \n",
       "12    Condition1        object     category          0        None   \n",
       "13    Condition2        object     category          0        None   \n",
       "14      BldgType        object     category          0        None   \n",
       "15    HouseStyle        object     category          0        None   \n",
       "16   OverallQual         int64     category          0        None   \n",
       "17   OverallCond         int64     category          0        None   \n",
       "18     YearBuilt         int64        int32          0        None   \n",
       "19  YearRemodAdd         int64        int32          0        None   \n",
       "20     RoofStyle        object     category          0        None   \n",
       "21      RoofMatl        object     category          0        None   \n",
       "22   Exterior1st        object     category          0        None   \n",
       "23   Exterior2nd        object     category          0        None   \n",
       "24    MasVnrType        object     category          8      impute   \n",
       "25    MasVnrArea       float64      float32          8      impute   \n",
       "26     ExterQual        object     category          0        None   \n",
       "27     ExterCond        object     category          0        None   \n",
       "28    Foundation        object     category          0        None   \n",
       "29      BsmtQual        object     category         37     fill_na   \n",
       "30      BsmtCond        object     category         37     fill_na   \n",
       "31  BsmtExposure        object     category         38     fill_na   \n",
       "32  BsmtFinType1        object     category         37     fill_na   \n",
       "33    BsmtFinSF1         int64        int32          0        None   \n",
       "34  BsmtFinType2        object     category         38     fill_na   \n",
       "35    BsmtFinSF2         int64        int32          0        None   \n",
       "36     BsmtUnfSF         int64        int32          0        None   \n",
       "37   TotalBsmtSF         int64        int32          0        None   \n",
       "38       Heating        object     category          0        None   \n",
       "39     HeatingQC        object     category          0        None   \n",
       "40    CentralAir        object     category          0        None   \n",
       "41    Electrical        object     category          1      impute   \n",
       "42      1stFlrSF         int64        int32          0        None   \n",
       "43      2ndFlrSF         int64        int32          0        None   \n",
       "44  LowQualFinSF         int64        int32          0        None   \n",
       "45     GrLivArea         int64        int32          0        None   \n",
       "46  BsmtFullBath         int64        int32          0        None   \n",
       "47  BsmtHalfBath         int64        int32          0        None   \n",
       "48      FullBath         int64        int32          0        None   \n",
       "49      HalfBath         int64        int32          0        None   \n",
       "\n",
       "   preprocessing_type  \n",
       "0             nominal  \n",
       "1             nominal  \n",
       "2             numeric  \n",
       "3             numeric  \n",
       "4             nominal  \n",
       "5             nominal  \n",
       "6             nominal  \n",
       "7             nominal  \n",
       "8             ordinal  \n",
       "9             nominal  \n",
       "10            nominal  \n",
       "11            nominal  \n",
       "12            nominal  \n",
       "13            nominal  \n",
       "14            nominal  \n",
       "15            nominal  \n",
       "16            ordinal  \n",
       "17            ordinal  \n",
       "18            numeric  \n",
       "19            numeric  \n",
       "20            nominal  \n",
       "21            nominal  \n",
       "22            nominal  \n",
       "23            nominal  \n",
       "24            nominal  \n",
       "25            numeric  \n",
       "26            ordinal  \n",
       "27            ordinal  \n",
       "28            nominal  \n",
       "29            ordinal  \n",
       "30            ordinal  \n",
       "31            ordinal  \n",
       "32            ordinal  \n",
       "33            numeric  \n",
       "34            ordinal  \n",
       "35            numeric  \n",
       "36            numeric  \n",
       "37            numeric  \n",
       "38            nominal  \n",
       "39            ordinal  \n",
       "40            ordinal  \n",
       "41            nominal  \n",
       "42            numeric  \n",
       "43            numeric  \n",
       "44            numeric  \n",
       "45            numeric  \n",
       "46            numeric  \n",
       "47            numeric  \n",
       "48            numeric  \n",
       "49            numeric  "
      ]
     },
     "execution_count": 68,
     "metadata": {},
     "output_type": "execute_result"
    }
   ],
   "source": [
    "overview_table.head(50)"
   ]
  },
  {
   "cell_type": "markdown",
   "id": "2af4601d",
   "metadata": {},
   "source": [
    "### Define order for ordinal variables"
   ]
  },
  {
   "cell_type": "markdown",
   "id": "2004ba01",
   "metadata": {
    "heading_collapsed": true
   },
   "source": [
    "#### Setup"
   ]
  },
  {
   "cell_type": "code",
   "execution_count": 69,
   "id": "6de67eb5",
   "metadata": {
    "hidden": true
   },
   "outputs": [
    {
     "data": {
      "text/plain": [
       "8        Utilities\n",
       "16     OverallQual\n",
       "17     OverallCond\n",
       "26       ExterQual\n",
       "27       ExterCond\n",
       "29        BsmtQual\n",
       "30        BsmtCond\n",
       "31    BsmtExposure\n",
       "32    BsmtFinType1\n",
       "34    BsmtFinType2\n",
       "39       HeatingQC\n",
       "40      CentralAir\n",
       "52     KitchenQual\n",
       "54      Functional\n",
       "56     FireplaceQu\n",
       "59    GarageFinish\n",
       "62      GarageQual\n",
       "63      GarageCond\n",
       "71          PoolQC\n",
       "Name: feature, dtype: object"
      ]
     },
     "execution_count": 69,
     "metadata": {},
     "output_type": "execute_result"
    }
   ],
   "source": [
    "ordinal_features = overview_table['feature'][overview_table['preprocessing_type'] == 'ordinal']\n",
    "ordinal_features"
   ]
  },
  {
   "cell_type": "code",
   "execution_count": 74,
   "id": "49235af3",
   "metadata": {
    "hidden": true
   },
   "outputs": [],
   "source": [
    "dict_ordinal_ordering = {}"
   ]
  },
  {
   "cell_type": "code",
   "execution_count": 71,
   "id": "9e43ea3e",
   "metadata": {
    "hidden": true,
    "scrolled": true
   },
   "outputs": [
    {
     "name": "stdout",
     "output_type": "stream",
     "text": [
      "MSSubClass: Identifies the type of dwelling involved in the sale.\t\n",
      "\n",
      "        20\t1-STORY 1946 & NEWER ALL STYLES\n",
      "        30\t1-STORY 1945 & OLDER\n",
      "        40\t1-STORY W/FINISHED ATTIC ALL AGES\n",
      "        45\t1-1/2 STORY - UNFINISHED ALL AGES\n",
      "        50\t1-1/2 STORY FINISHED ALL AGES\n",
      "        60\t2-STORY 1946 & NEWER\n",
      "        70\t2-STORY 1945 & OLDER\n",
      "        75\t2-1/2 STORY ALL AGES\n",
      "        80\tSPLIT OR MULTI-LEVEL\n",
      "        85\tSPLIT FOYER\n",
      "        90\tDUPLEX - ALL STYLES AND AGES\n",
      "       120\t1-STORY PUD (Planned Unit Development) - 1946 & NEWER\n",
      "       150\t1-1/2 STORY PUD - ALL AGES\n",
      "       160\t2-STORY PUD - 1946 & NEWER\n",
      "       180\tPUD - MULTILEVEL - INCL SPLIT LEV/FOYER\n",
      "       190\t2 FAMILY CONVERSION - ALL STYLES AND AGES\n",
      "\n",
      "MSZoning: Identifies the general zoning classification of the sale.\n",
      "\t\t\n",
      "       A\tAgriculture\n",
      "       C\tCommercial\n",
      "       FV\tFloating Village Residential\n",
      "       I\tIndustrial\n",
      "       RH\tResidential High Density\n",
      "       RL\tResidential Low Density\n",
      "       RP\tResidential Low Density Park \n",
      "       RM\tResidential Medium Density\n",
      "\t\n",
      "LotFrontage: Linear feet of street connected to property\n",
      "\n",
      "LotArea: Lot size in square feet\n",
      "\n",
      "Street: Type of road access to property\n",
      "\n",
      "       Grvl\tGravel\t\n",
      "       Pave\tPaved\n",
      "       \t\n",
      "Alley: Type of alley access to property\n",
      "\n",
      "       Grvl\tGravel\n",
      "       Pave\tPaved\n",
      "       NA \tNo alley access\n",
      "\t\t\n",
      "LotShape: General shape of property\n",
      "\n",
      "       Reg\tRegular\t\n",
      "       IR1\tSlightly irregular\n",
      "       IR2\tModerately Irregular\n",
      "       IR3\tIrregular\n",
      "       \n",
      "LandContour: Flatness of the property\n",
      "\n",
      "       Lvl\tNear Flat/Level\t\n",
      "       Bnk\tBanked - Quick and significant rise from street grade to building\n",
      "       HLS\tHillside - Significant slope from side to side\n",
      "       Low\tDepression\n",
      "\t\t\n",
      "Utilities: Type of utilities available\n",
      "\t\t\n",
      "       AllPub\tAll public Utilities (E,G,W,& S)\t\n",
      "       NoSewr\tElectricity, Gas, and Water (Septic Tank)\n",
      "       NoSeWa\tElectricity and Gas Only\n",
      "       ELO\tElectricity only\t\n",
      "\t\n",
      "LotConfig: Lot configuration\n",
      "\n",
      "       Inside\tInside lot\n",
      "       Corner\tCorner lot\n",
      "       CulDSac\tCul-de-sac\n",
      "       FR2\tFrontage on 2 sides of property\n",
      "       FR3\tFrontage on 3 sides of property\n",
      "\t\n",
      "LandSlope: Slope of property\n",
      "\t\t\n",
      "       Gtl\tGentle slope\n",
      "       Mod\tModerate Slope\t\n",
      "       Sev\tSevere Slope\n",
      "\t\n",
      "Neighborhood: Physical locations within Ames city limits\n",
      "\n",
      "       Blmngtn\tBloomington Heights\n",
      "       Blueste\tBluestem\n",
      "       BrDale\tBriardale\n",
      "       BrkSide\tBrookside\n",
      "       ClearCr\tClear Creek\n",
      "       CollgCr\tCollege Creek\n",
      "       Crawfor\tCrawford\n",
      "       Edwards\tEdwards\n",
      "       Gilbert\tGilbert\n",
      "       IDOTRR\tIowa DOT and Rail Road\n",
      "       MeadowV\tMeadow Village\n",
      "       Mitchel\tMitchell\n",
      "       Names\tNorth Ames\n",
      "       NoRidge\tNorthridge\n",
      "       NPkVill\tNorthpark Villa\n",
      "       NridgHt\tNorthridge Heights\n",
      "       NWAmes\tNorthwest Ames\n",
      "       OldTown\tOld Town\n",
      "       SWISU\tSouth & West of Iowa State University\n",
      "       Sawyer\tSawyer\n",
      "       SawyerW\tSawyer West\n",
      "       Somerst\tSomerset\n",
      "       StoneBr\tStone Brook\n",
      "       Timber\tTimberland\n",
      "       Veenker\tVeenker\n",
      "\t\t\t\n",
      "Condition1: Proximity to various conditions\n",
      "\t\n",
      "       Artery\tAdjacent to arterial street\n",
      "       Feedr\tAdjacent to feeder street\t\n",
      "       Norm\tNormal\t\n",
      "       RRNn\tWithin 200' of North-South Railroad\n",
      "       RRAn\tAdjacent to North-South Railroad\n",
      "       PosN\tNear positive off-site feature--park, greenbelt, etc.\n",
      "       PosA\tAdjacent to postive off-site feature\n",
      "       RRNe\tWithin 200' of East-West Railroad\n",
      "       RRAe\tAdjacent to East-West Railroad\n",
      "\t\n",
      "Condition2: Proximity to various conditions (if more than one is present)\n",
      "\t\t\n",
      "       Artery\tAdjacent to arterial street\n",
      "       Feedr\tAdjacent to feeder street\t\n",
      "       Norm\tNormal\t\n",
      "       RRNn\tWithin 200' of North-South Railroad\n",
      "       RRAn\tAdjacent to North-South Railroad\n",
      "       PosN\tNear positive off-site feature--park, greenbelt, etc.\n",
      "       PosA\tAdjacent to postive off-site feature\n",
      "       RRNe\tWithin 200' of East-West Railroad\n",
      "       RRAe\tAdjacent to East-West Railroad\n",
      "\t\n",
      "BldgType: Type of dwelling\n",
      "\t\t\n",
      "       1Fam\tSingle-family Detached\t\n",
      "       2FmCon\tTwo-family Conversion; originally built as one-family dwelling\n",
      "       Duplx\tDuplex\n",
      "       TwnhsE\tTownhouse End Unit\n",
      "       TwnhsI\tTownhouse Inside Unit\n",
      "\t\n",
      "HouseStyle: Style of dwelling\n",
      "\t\n",
      "       1Story\tOne story\n",
      "       1.5Fin\tOne and one-half story: 2nd level finished\n",
      "       1.5Unf\tOne and one-half story: 2nd level unfinished\n",
      "       2Story\tTwo story\n",
      "       2.5Fin\tTwo and one-half story: 2nd level finished\n",
      "       2.5Unf\tTwo and one-half story: 2nd level unfinished\n",
      "       SFoyer\tSplit Foyer\n",
      "       SLvl\tSplit Level\n",
      "\t\n",
      "OverallQual: Rates the overall material and finish of the house\n",
      "\n",
      "       10\tVery Excellent\n",
      "       9\tExcellent\n",
      "       8\tVery Good\n",
      "       7\tGood\n",
      "       6\tAbove Average\n",
      "       5\tAverage\n",
      "       4\tBelow Average\n",
      "       3\tFair\n",
      "       2\tPoor\n",
      "       1\tVery Poor\n",
      "\t\n",
      "OverallCond: Rates the overall condition of the house\n",
      "\n",
      "       10\tVery Excellent\n",
      "       9\tExcellent\n",
      "       8\tVery Good\n",
      "       7\tGood\n",
      "       6\tAbove Average\t\n",
      "       5\tAverage\n",
      "       4\tBelow Average\t\n",
      "       3\tFair\n",
      "       2\tPoor\n",
      "       1\tVery Poor\n",
      "\t\t\n",
      "YearBuilt: Original construction date\n",
      "\n",
      "YearRemodAdd: Remodel date (same as construction date if no remodeling or additions)\n",
      "\n",
      "RoofStyle: Type of roof\n",
      "\n",
      "       Flat\tFlat\n",
      "       Gable\tGable\n",
      "       Gambrel\tGabrel (Barn)\n",
      "       Hip\tHip\n",
      "       Mansard\tMansard\n",
      "       Shed\tShed\n",
      "\t\t\n",
      "RoofMatl: Roof material\n",
      "\n",
      "       ClyTile\tClay or Tile\n",
      "       CompShg\tStandard (Composite) Shingle\n",
      "       Membran\tMembrane\n",
      "       Metal\tMetal\n",
      "       Roll\tRoll\n",
      "       Tar&Grv\tGravel & Tar\n",
      "       WdShake\tWood Shakes\n",
      "       WdShngl\tWood Shingles\n",
      "\t\t\n",
      "Exterior1st: Exterior covering on house\n",
      "\n",
      "       AsbShng\tAsbestos Shingles\n",
      "       AsphShn\tAsphalt Shingles\n",
      "       BrkComm\tBrick Common\n",
      "       BrkFace\tBrick Face\n",
      "       CBlock\tCinder Block\n",
      "       CemntBd\tCement Board\n",
      "       HdBoard\tHard Board\n",
      "       ImStucc\tImitation Stucco\n",
      "       MetalSd\tMetal Siding\n",
      "       Other\tOther\n",
      "       Plywood\tPlywood\n",
      "       PreCast\tPreCast\t\n",
      "       Stone\tStone\n",
      "       Stucco\tStucco\n",
      "       VinylSd\tVinyl Siding\n",
      "       Wd Sdng\tWood Siding\n",
      "       WdShing\tWood Shingles\n",
      "\t\n",
      "Exterior2nd: Exterior covering on house (if more than one material)\n",
      "\n",
      "       AsbShng\tAsbestos Shingles\n",
      "       AsphShn\tAsphalt Shingles\n",
      "       BrkComm\tBrick Common\n",
      "       BrkFace\tBrick Face\n",
      "       CBlock\tCinder Block\n",
      "       CemntBd\tCement Board\n",
      "       HdBoard\tHard Board\n",
      "       ImStucc\tImitation Stucco\n",
      "       MetalSd\tMetal Siding\n",
      "       Other\tOther\n",
      "       Plywood\tPlywood\n",
      "       PreCast\tPreCast\n",
      "       Stone\tStone\n",
      "       Stucco\tStucco\n",
      "       VinylSd\tVinyl Siding\n",
      "       Wd Sdng\tWood Siding\n",
      "       WdShing\tWood Shingles\n",
      "\t\n",
      "MasVnrType: Masonry veneer type\n",
      "\n",
      "       BrkCmn\tBrick Common\n",
      "       BrkFace\tBrick Face\n",
      "       CBlock\tCinder Block\n",
      "       None\tNone\n",
      "       Stone\tStone\n",
      "\t\n",
      "MasVnrArea: Masonry veneer area in square feet\n",
      "\n",
      "ExterQual: Evaluates the quality of the material on the exterior \n",
      "\t\t\n",
      "       Ex\tExcellent\n",
      "       Gd\tGood\n",
      "       TA\tAverage/Typical\n",
      "       Fa\tFair\n",
      "       Po\tPoor\n",
      "\t\t\n",
      "ExterCond: Evaluates the present condition of the material on the exterior\n",
      "\t\t\n",
      "       Ex\tExcellent\n",
      "       Gd\tGood\n",
      "       TA\tAverage/Typical\n",
      "       Fa\tFair\n",
      "       Po\tPoor\n",
      "\t\t\n",
      "Foundation: Type of foundation\n",
      "\t\t\n",
      "       BrkTil\tBrick & Tile\n",
      "       CBlock\tCinder Block\n",
      "       PConc\tPoured Contrete\t\n",
      "       Slab\tSlab\n",
      "       Stone\tStone\n",
      "       Wood\tWood\n",
      "\t\t\n",
      "BsmtQual: Evaluates the height of the basement\n",
      "\n",
      "       Ex\tExcellent (100+ inches)\t\n",
      "       Gd\tGood (90-99 inches)\n",
      "       TA\tTypical (80-89 inches)\n",
      "       Fa\tFair (70-79 inches)\n",
      "       Po\tPoor (<70 inches\n",
      "       NA\tNo Basement\n",
      "\t\t\n",
      "BsmtCond: Evaluates the general condition of the basement\n",
      "\n",
      "       Ex\tExcellent\n",
      "       Gd\tGood\n",
      "       TA\tTypical - slight dampness allowed\n",
      "       Fa\tFair - dampness or some cracking or settling\n",
      "       Po\tPoor - Severe cracking, settling, or wetness\n",
      "       NA\tNo Basement\n",
      "\t\n",
      "BsmtExposure: Refers to walkout or garden level walls\n",
      "\n",
      "       Gd\tGood Exposure\n",
      "       Av\tAverage Exposure (split levels or foyers typically score average or above)\t\n",
      "       Mn\tMimimum Exposure\n",
      "       No\tNo Exposure\n",
      "       NA\tNo Basement\n",
      "\t\n",
      "BsmtFinType1: Rating of basement finished area\n",
      "\n",
      "       GLQ\tGood Living Quarters\n",
      "       ALQ\tAverage Living Quarters\n",
      "       BLQ\tBelow Average Living Quarters\t\n",
      "       Rec\tAverage Rec Room\n",
      "       LwQ\tLow Quality\n",
      "       Unf\tUnfinshed\n",
      "       NA\tNo Basement\n",
      "\t\t\n",
      "BsmtFinSF1: Type 1 finished square feet\n",
      "\n",
      "BsmtFinType2: Rating of basement finished area (if multiple types)\n",
      "\n",
      "       GLQ\tGood Living Quarters\n",
      "       ALQ\tAverage Living Quarters\n",
      "       BLQ\tBelow Average Living Quarters\t\n",
      "       Rec\tAverage Rec Room\n",
      "       LwQ\tLow Quality\n",
      "       Unf\tUnfinshed\n",
      "       NA\tNo Basement\n",
      "\n",
      "BsmtFinSF2: Type 2 finished square feet\n",
      "\n",
      "BsmtUnfSF: Unfinished square feet of basement area\n",
      "\n",
      "TotalBsmtSF: Total square feet of basement area\n",
      "\n",
      "Heating: Type of heating\n",
      "\t\t\n",
      "       Floor\tFloor Furnace\n",
      "       GasA\tGas forced warm air furnace\n",
      "       GasW\tGas hot water or steam heat\n",
      "       Grav\tGravity furnace\t\n",
      "       OthW\tHot water or steam heat other than gas\n",
      "       Wall\tWall furnace\n",
      "\t\t\n",
      "HeatingQC: Heating quality and condition\n",
      "\n",
      "       Ex\tExcellent\n",
      "       Gd\tGood\n",
      "       TA\tAverage/Typical\n",
      "       Fa\tFair\n",
      "       Po\tPoor\n",
      "\t\t\n",
      "CentralAir: Central air conditioning\n",
      "\n",
      "       N\tNo\n",
      "       Y\tYes\n",
      "\t\t\n",
      "Electrical: Electrical system\n",
      "\n",
      "       SBrkr\tStandard Circuit Breakers & Romex\n",
      "       FuseA\tFuse Box over 60 AMP and all Romex wiring (Average)\t\n",
      "       FuseF\t60 AMP Fuse Box and mostly Romex wiring (Fair)\n",
      "       FuseP\t60 AMP Fuse Box and mostly knob & tube wiring (poor)\n",
      "       Mix\tMixed\n",
      "\t\t\n",
      "1stFlrSF: First Floor square feet\n",
      " \n",
      "2ndFlrSF: Second floor square feet\n",
      "\n",
      "LowQualFinSF: Low quality finished square feet (all floors)\n",
      "\n",
      "GrLivArea: Above grade (ground) living area square feet\n",
      "\n",
      "BsmtFullBath: Basement full bathrooms\n",
      "\n",
      "BsmtHalfBath: Basement half bathrooms\n",
      "\n",
      "FullBath: Full bathrooms above grade\n",
      "\n",
      "HalfBath: Half baths above grade\n",
      "\n",
      "Bedroom: Bedrooms above grade (does NOT include basement bedrooms)\n",
      "\n",
      "Kitchen: Kitchens above grade\n",
      "\n",
      "KitchenQual: Kitchen quality\n",
      "\n",
      "       Ex\tExcellent\n",
      "       Gd\tGood\n",
      "       TA\tTypical/Average\n",
      "       Fa\tFair\n",
      "       Po\tPoor\n",
      "       \t\n",
      "TotRmsAbvGrd: Total rooms above grade (does not include bathrooms)\n",
      "\n",
      "Functional: Home functionality (Assume typical unless deductions are warranted)\n",
      "\n",
      "       Typ\tTypical Functionality\n",
      "       Min1\tMinor Deductions 1\n",
      "       Min2\tMinor Deductions 2\n",
      "       Mod\tModerate Deductions\n",
      "       Maj1\tMajor Deductions 1\n",
      "       Maj2\tMajor Deductions 2\n",
      "       Sev\tSeverely Damaged\n",
      "       Sal\tSalvage only\n",
      "\t\t\n",
      "Fireplaces: Number of fireplaces\n",
      "\n",
      "FireplaceQu: Fireplace quality\n",
      "\n",
      "       Ex\tExcellent - Exceptional Masonry Fireplace\n",
      "       Gd\tGood - Masonry Fireplace in main level\n",
      "       TA\tAverage - Prefabricated Fireplace in main living area or Masonry Fireplace in basement\n",
      "       Fa\tFair - Prefabricated Fireplace in basement\n",
      "       Po\tPoor - Ben Franklin Stove\n",
      "       NA\tNo Fireplace\n",
      "\t\t\n",
      "GarageType: Garage location\n",
      "\t\t\n",
      "       2Types\tMore than one type of garage\n",
      "       Attchd\tAttached to home\n",
      "       Basment\tBasement Garage\n",
      "       BuiltIn\tBuilt-In (Garage part of house - typically has room above garage)\n",
      "       CarPort\tCar Port\n",
      "       Detchd\tDetached from home\n",
      "       NA\tNo Garage\n",
      "\t\t\n",
      "GarageYrBlt: Year garage was built\n",
      "\t\t\n",
      "GarageFinish: Interior finish of the garage\n",
      "\n",
      "       Fin\tFinished\n",
      "       RFn\tRough Finished\t\n",
      "       Unf\tUnfinished\n",
      "       NA\tNo Garage\n",
      "\t\t\n",
      "GarageCars: Size of garage in car capacity\n",
      "\n",
      "GarageArea: Size of garage in square feet\n",
      "\n",
      "GarageQual: Garage quality\n",
      "\n",
      "       Ex\tExcellent\n",
      "       Gd\tGood\n",
      "       TA\tTypical/Average\n",
      "       Fa\tFair\n",
      "       Po\tPoor\n",
      "       NA\tNo Garage\n",
      "\t\t\n",
      "GarageCond: Garage condition\n",
      "\n",
      "       Ex\tExcellent\n",
      "       Gd\tGood\n",
      "       TA\tTypical/Average\n",
      "       Fa\tFair\n",
      "       Po\tPoor\n",
      "       NA\tNo Garage\n",
      "\t\t\n",
      "PavedDrive: Paved driveway\n",
      "\n",
      "       Y\tPaved \n",
      "       P\tPartial Pavement\n",
      "       N\tDirt/Gravel\n",
      "\t\t\n",
      "WoodDeckSF: Wood deck area in square feet\n",
      "\n",
      "OpenPorchSF: Open porch area in square feet\n",
      "\n",
      "EnclosedPorch: Enclosed porch area in square feet\n",
      "\n",
      "3SsnPorch: Three season porch area in square feet\n",
      "\n",
      "ScreenPorch: Screen porch area in square feet\n",
      "\n",
      "PoolArea: Pool area in square feet\n",
      "\n",
      "PoolQC: Pool quality\n",
      "\t\t\n",
      "       Ex\tExcellent\n",
      "       Gd\tGood\n",
      "       TA\tAverage/Typical\n",
      "       Fa\tFair\n",
      "       NA\tNo Pool\n",
      "\t\t\n",
      "Fence: Fence quality\n",
      "\t\t\n",
      "       GdPrv\tGood Privacy\n",
      "       MnPrv\tMinimum Privacy\n",
      "       GdWo\tGood Wood\n",
      "       MnWw\tMinimum Wood/Wire\n",
      "       NA\tNo Fence\n",
      "\t\n",
      "MiscFeature: Miscellaneous feature not covered in other categories\n",
      "\t\t\n",
      "       Elev\tElevator\n",
      "       Gar2\t2nd Garage (if not described in garage section)\n",
      "       Othr\tOther\n",
      "       Shed\tShed (over 100 SF)\n",
      "       TenC\tTennis Court\n",
      "       NA\tNone\n",
      "\t\t\n",
      "MiscVal: $Value of miscellaneous feature\n",
      "\n",
      "MoSold: Month Sold (MM)\n",
      "\n",
      "YrSold: Year Sold (YYYY)\n",
      "\n",
      "SaleType: Type of sale\n",
      "\t\t\n",
      "       WD \tWarranty Deed - Conventional\n",
      "       CWD\tWarranty Deed - Cash\n",
      "       VWD\tWarranty Deed - VA Loan\n",
      "       New\tHome just constructed and sold\n",
      "       COD\tCourt Officer Deed/Estate\n",
      "       Con\tContract 15% Down payment regular terms\n",
      "       ConLw\tContract Low Down payment and low interest\n",
      "       ConLI\tContract Low Interest\n",
      "       ConLD\tContract Low Down\n",
      "       Oth\tOther\n",
      "\t\t\n",
      "SaleCondition: Condition of sale\n",
      "\n",
      "       Normal\tNormal Sale\n",
      "       Abnorml\tAbnormal Sale -  trade, foreclosure, short sale\n",
      "       AdjLand\tAdjoining Land Purchase\n",
      "       Alloca\tAllocation - two linked properties with separate deeds, typically condo with a garage unit\t\n",
      "       Family\tSale between family members\n",
      "       Partial\tHome was not completed when last assessed (associated with New Homes)\n",
      "\n"
     ]
    }
   ],
   "source": [
    "show_documentation()"
   ]
  },
  {
   "cell_type": "markdown",
   "id": "b77c9527",
   "metadata": {
    "heading_collapsed": true
   },
   "source": [
    "#### Utilities"
   ]
  },
  {
   "cell_type": "code",
   "execution_count": 80,
   "id": "318c7c4a",
   "metadata": {
    "hidden": true
   },
   "outputs": [
    {
     "data": {
      "text/plain": [
       "{'Utilities': ['ELO', 'NoSeWa', 'NoSewr', 'AllPub']}"
      ]
     },
     "execution_count": 80,
     "metadata": {},
     "output_type": "execute_result"
    }
   ],
   "source": [
    "dict_ordinal_ordering['Utilities'] = ['ELO', 'NoSeWa', 'NoSewr', 'AllPub',]\n",
    "dict_ordinal_ordering"
   ]
  },
  {
   "cell_type": "markdown",
   "id": "91785c6b",
   "metadata": {
    "heading_collapsed": true
   },
   "source": [
    "#### OverallQual"
   ]
  },
  {
   "cell_type": "code",
   "execution_count": 81,
   "id": "84251950",
   "metadata": {
    "hidden": true
   },
   "outputs": [
    {
     "data": {
      "text/plain": [
       "{'Utilities': ['ELO', 'NoSeWa', 'NoSewr', 'AllPub'],\n",
       " 'OverallQual': [1, 2, 3, 4, 5, 6, 7, 9, 10]}"
      ]
     },
     "execution_count": 81,
     "metadata": {},
     "output_type": "execute_result"
    }
   ],
   "source": [
    "dict_ordinal_ordering['OverallQual'] = [1,2,3,4,5,6,7,9,10]\n",
    "dict_ordinal_ordering"
   ]
  },
  {
   "cell_type": "markdown",
   "id": "b328f5d7",
   "metadata": {
    "heading_collapsed": true
   },
   "source": [
    "#### OverallCond"
   ]
  },
  {
   "cell_type": "code",
   "execution_count": 82,
   "id": "3ca453fa",
   "metadata": {
    "hidden": true
   },
   "outputs": [
    {
     "data": {
      "text/plain": [
       "{'Utilities': ['ELO', 'NoSeWa', 'NoSewr', 'AllPub'],\n",
       " 'OverallQual': [1, 2, 3, 4, 5, 6, 7, 9, 10],\n",
       " 'OverallCond': [1, 2, 3, 4, 5, 6, 7, 9, 10]}"
      ]
     },
     "execution_count": 82,
     "metadata": {},
     "output_type": "execute_result"
    }
   ],
   "source": [
    "dict_ordinal_ordering['OverallCond'] = [1,2,3,4,5,6,7,9,10]\n",
    "dict_ordinal_ordering"
   ]
  },
  {
   "cell_type": "markdown",
   "id": "ca8cbac4",
   "metadata": {
    "heading_collapsed": true
   },
   "source": [
    "#### ExterQual"
   ]
  },
  {
   "cell_type": "code",
   "execution_count": 85,
   "id": "affd0cfb",
   "metadata": {
    "hidden": true
   },
   "outputs": [
    {
     "data": {
      "text/plain": [
       "{'Utilities': ['ELO', 'NoSeWa', 'NoSewr', 'AllPub'],\n",
       " 'OverallQual': [1, 2, 3, 4, 5, 6, 7, 9, 10],\n",
       " 'OverallCond': [1, 2, 3, 4, 5, 6, 7, 9, 10],\n",
       " 'ExterQual': ['Po', 'Fa', 'TA', 'Gd', 'Ex']}"
      ]
     },
     "execution_count": 85,
     "metadata": {},
     "output_type": "execute_result"
    }
   ],
   "source": [
    "dict_ordinal_ordering['ExterQual'] = ['Po','Fa','TA','Gd','Ex']\n",
    "dict_ordinal_ordering"
   ]
  },
  {
   "cell_type": "markdown",
   "id": "ccb5fbd9",
   "metadata": {
    "heading_collapsed": true
   },
   "source": [
    "#### ExterCond"
   ]
  },
  {
   "cell_type": "code",
   "execution_count": 86,
   "id": "bc1b2ac0",
   "metadata": {
    "hidden": true
   },
   "outputs": [
    {
     "data": {
      "text/plain": [
       "{'Utilities': ['ELO', 'NoSeWa', 'NoSewr', 'AllPub'],\n",
       " 'OverallQual': [1, 2, 3, 4, 5, 6, 7, 9, 10],\n",
       " 'OverallCond': [1, 2, 3, 4, 5, 6, 7, 9, 10],\n",
       " 'ExterQual': ['Po', 'Fa', 'TA', 'Gd', 'Ex'],\n",
       " 'ExterCond': ['Po', 'Fa', 'TA', 'Gd', 'Ex']}"
      ]
     },
     "execution_count": 86,
     "metadata": {},
     "output_type": "execute_result"
    }
   ],
   "source": [
    "dict_ordinal_ordering['ExterCond'] = ['Po','Fa','TA','Gd','Ex']\n",
    "dict_ordinal_ordering"
   ]
  },
  {
   "cell_type": "markdown",
   "id": "33692662",
   "metadata": {
    "heading_collapsed": true
   },
   "source": [
    "#### BsmtQual"
   ]
  },
  {
   "cell_type": "code",
   "execution_count": 88,
   "id": "47072aa1",
   "metadata": {
    "hidden": true
   },
   "outputs": [
    {
     "data": {
      "text/plain": [
       "{'Utilities': ['ELO', 'NoSeWa', 'NoSewr', 'AllPub'],\n",
       " 'OverallQual': [1, 2, 3, 4, 5, 6, 7, 9, 10],\n",
       " 'OverallCond': [1, 2, 3, 4, 5, 6, 7, 9, 10],\n",
       " 'ExterQual': ['Po', 'Fa', 'TA', 'Gd', 'Ex'],\n",
       " 'ExterCond': ['Po', 'Fa', 'TA', 'Gd', 'Ex'],\n",
       " 'BsmtQual': ['Po', 'Fa', 'TA', 'Gd', 'Ex']}"
      ]
     },
     "execution_count": 88,
     "metadata": {},
     "output_type": "execute_result"
    }
   ],
   "source": [
    "dict_ordinal_ordering['BsmtQual'] = ['Po','Fa','TA','Gd','Ex']\n",
    "dict_ordinal_ordering"
   ]
  },
  {
   "cell_type": "markdown",
   "id": "8d9f7689",
   "metadata": {
    "heading_collapsed": true
   },
   "source": [
    "#### BsmtExposure"
   ]
  },
  {
   "cell_type": "code",
   "execution_count": 91,
   "id": "05be8208",
   "metadata": {
    "hidden": true
   },
   "outputs": [
    {
     "data": {
      "text/plain": [
       "{'Utilities': ['ELO', 'NoSeWa', 'NoSewr', 'AllPub'],\n",
       " 'OverallQual': [1, 2, 3, 4, 5, 6, 7, 9, 10],\n",
       " 'OverallCond': [1, 2, 3, 4, 5, 6, 7, 9, 10],\n",
       " 'ExterQual': ['Po', 'Fa', 'TA', 'Gd', 'Ex'],\n",
       " 'ExterCond': ['Po', 'Fa', 'TA', 'Gd', 'Ex'],\n",
       " 'BsmtQual': ['Po', 'Fa', 'TA', 'Gd', 'Ex'],\n",
       " 'BsmtExposure': ['No', 'Mn', 'Av', 'Gd']}"
      ]
     },
     "execution_count": 91,
     "metadata": {},
     "output_type": "execute_result"
    }
   ],
   "source": [
    "dict_ordinal_ordering['BsmtExposure'] = ['No','Mn','Av','Gd']\n",
    "dict_ordinal_ordering"
   ]
  },
  {
   "cell_type": "markdown",
   "id": "c8784713",
   "metadata": {
    "heading_collapsed": true
   },
   "source": [
    "#### BsmtFinType1"
   ]
  },
  {
   "cell_type": "code",
   "execution_count": 92,
   "id": "841dfe65",
   "metadata": {
    "hidden": true
   },
   "outputs": [
    {
     "data": {
      "text/plain": [
       "{'Utilities': ['ELO', 'NoSeWa', 'NoSewr', 'AllPub'],\n",
       " 'OverallQual': [1, 2, 3, 4, 5, 6, 7, 9, 10],\n",
       " 'OverallCond': [1, 2, 3, 4, 5, 6, 7, 9, 10],\n",
       " 'ExterQual': ['Po', 'Fa', 'TA', 'Gd', 'Ex'],\n",
       " 'ExterCond': ['Po', 'Fa', 'TA', 'Gd', 'Ex'],\n",
       " 'BsmtQual': ['Po', 'Fa', 'TA', 'Gd', 'Ex'],\n",
       " 'BsmtExposure': ['No', 'Mn', 'Av', 'Gd'],\n",
       " 'BsmtFinType1': ['Unf', 'LwQ', 'Rec', 'BLQ', 'ALQ', 'GLQ']}"
      ]
     },
     "execution_count": 92,
     "metadata": {},
     "output_type": "execute_result"
    }
   ],
   "source": [
    "dict_ordinal_ordering['BsmtFinType1'] = ['Unf','LwQ','Rec','BLQ', 'ALQ', 'GLQ']\n",
    "dict_ordinal_ordering"
   ]
  },
  {
   "cell_type": "markdown",
   "id": "94cec05e",
   "metadata": {
    "heading_collapsed": true
   },
   "source": [
    "#### BsmtFinType2"
   ]
  },
  {
   "cell_type": "code",
   "execution_count": 93,
   "id": "01d6c342",
   "metadata": {
    "hidden": true
   },
   "outputs": [
    {
     "data": {
      "text/plain": [
       "{'Utilities': ['ELO', 'NoSeWa', 'NoSewr', 'AllPub'],\n",
       " 'OverallQual': [1, 2, 3, 4, 5, 6, 7, 9, 10],\n",
       " 'OverallCond': [1, 2, 3, 4, 5, 6, 7, 9, 10],\n",
       " 'ExterQual': ['Po', 'Fa', 'TA', 'Gd', 'Ex'],\n",
       " 'ExterCond': ['Po', 'Fa', 'TA', 'Gd', 'Ex'],\n",
       " 'BsmtQual': ['Po', 'Fa', 'TA', 'Gd', 'Ex'],\n",
       " 'BsmtExposure': ['No', 'Mn', 'Av', 'Gd'],\n",
       " 'BsmtFinType1': ['Unf', 'LwQ', 'Rec', 'BLQ', 'ALQ', 'GLQ'],\n",
       " 'BsmtFinType2': ['Unf', 'LwQ', 'Rec', 'BLQ', 'ALQ', 'GLQ']}"
      ]
     },
     "execution_count": 93,
     "metadata": {},
     "output_type": "execute_result"
    }
   ],
   "source": [
    "dict_ordinal_ordering['BsmtFinType2'] = ['Unf','LwQ','Rec','BLQ', 'ALQ', 'GLQ']\n",
    "dict_ordinal_ordering"
   ]
  },
  {
   "cell_type": "markdown",
   "id": "7cf6ff05",
   "metadata": {
    "heading_collapsed": true
   },
   "source": [
    "#### HeatingQC"
   ]
  },
  {
   "cell_type": "code",
   "execution_count": 95,
   "id": "cab07bf1",
   "metadata": {
    "hidden": true
   },
   "outputs": [
    {
     "data": {
      "text/plain": [
       "{'Utilities': ['ELO', 'NoSeWa', 'NoSewr', 'AllPub'],\n",
       " 'OverallQual': [1, 2, 3, 4, 5, 6, 7, 9, 10],\n",
       " 'OverallCond': [1, 2, 3, 4, 5, 6, 7, 9, 10],\n",
       " 'ExterQual': ['Po', 'Fa', 'TA', 'Gd', 'Ex'],\n",
       " 'ExterCond': ['Po', 'Fa', 'TA', 'Gd', 'Ex'],\n",
       " 'BsmtQual': ['Po', 'Fa', 'TA', 'Gd', 'Ex'],\n",
       " 'BsmtExposure': ['No', 'Mn', 'Av', 'Gd'],\n",
       " 'BsmtFinType1': ['Unf', 'LwQ', 'Rec', 'BLQ', 'ALQ', 'GLQ'],\n",
       " 'BsmtFinType2': ['Unf', 'LwQ', 'Rec', 'BLQ', 'ALQ', 'GLQ'],\n",
       " 'HeatingQC': ['Po', 'Fa', 'TA', 'Gd', 'Ex']}"
      ]
     },
     "execution_count": 95,
     "metadata": {},
     "output_type": "execute_result"
    }
   ],
   "source": [
    "dict_ordinal_ordering['HeatingQC'] = ['Po', 'Fa', 'TA', 'Gd', 'Ex']\n",
    "dict_ordinal_ordering"
   ]
  },
  {
   "cell_type": "markdown",
   "id": "77a79493",
   "metadata": {
    "heading_collapsed": true
   },
   "source": [
    "#### CentralAir"
   ]
  },
  {
   "cell_type": "code",
   "execution_count": 96,
   "id": "63d611fc",
   "metadata": {
    "hidden": true
   },
   "outputs": [
    {
     "data": {
      "text/plain": [
       "{'Utilities': ['ELO', 'NoSeWa', 'NoSewr', 'AllPub'],\n",
       " 'OverallQual': [1, 2, 3, 4, 5, 6, 7, 9, 10],\n",
       " 'OverallCond': [1, 2, 3, 4, 5, 6, 7, 9, 10],\n",
       " 'ExterQual': ['Po', 'Fa', 'TA', 'Gd', 'Ex'],\n",
       " 'ExterCond': ['Po', 'Fa', 'TA', 'Gd', 'Ex'],\n",
       " 'BsmtQual': ['Po', 'Fa', 'TA', 'Gd', 'Ex'],\n",
       " 'BsmtExposure': ['No', 'Mn', 'Av', 'Gd'],\n",
       " 'BsmtFinType1': ['Unf', 'LwQ', 'Rec', 'BLQ', 'ALQ', 'GLQ'],\n",
       " 'BsmtFinType2': ['Unf', 'LwQ', 'Rec', 'BLQ', 'ALQ', 'GLQ'],\n",
       " 'HeatingQC': ['Po', 'Fa', 'TA', 'Gd', 'Ex'],\n",
       " 'CentralAir': ['N', 'Y']}"
      ]
     },
     "execution_count": 96,
     "metadata": {},
     "output_type": "execute_result"
    }
   ],
   "source": [
    "dict_ordinal_ordering['CentralAir'] = ['N', 'Y']\n",
    "dict_ordinal_ordering"
   ]
  },
  {
   "cell_type": "markdown",
   "id": "c8b12055",
   "metadata": {
    "heading_collapsed": true
   },
   "source": [
    "#### KitchenQual"
   ]
  },
  {
   "cell_type": "code",
   "execution_count": 97,
   "id": "98da48ad",
   "metadata": {
    "hidden": true
   },
   "outputs": [
    {
     "data": {
      "text/plain": [
       "{'Utilities': ['ELO', 'NoSeWa', 'NoSewr', 'AllPub'],\n",
       " 'OverallQual': [1, 2, 3, 4, 5, 6, 7, 9, 10],\n",
       " 'OverallCond': [1, 2, 3, 4, 5, 6, 7, 9, 10],\n",
       " 'ExterQual': ['Po', 'Fa', 'TA', 'Gd', 'Ex'],\n",
       " 'ExterCond': ['Po', 'Fa', 'TA', 'Gd', 'Ex'],\n",
       " 'BsmtQual': ['Po', 'Fa', 'TA', 'Gd', 'Ex'],\n",
       " 'BsmtExposure': ['No', 'Mn', 'Av', 'Gd'],\n",
       " 'BsmtFinType1': ['Unf', 'LwQ', 'Rec', 'BLQ', 'ALQ', 'GLQ'],\n",
       " 'BsmtFinType2': ['Unf', 'LwQ', 'Rec', 'BLQ', 'ALQ', 'GLQ'],\n",
       " 'HeatingQC': ['Po', 'Fa', 'TA', 'Gd', 'Ex'],\n",
       " 'CentralAir': ['N', 'Y'],\n",
       " 'KitchenQual': ['Po', 'Fa', 'TA', 'Gd', 'Ex']}"
      ]
     },
     "execution_count": 97,
     "metadata": {},
     "output_type": "execute_result"
    }
   ],
   "source": [
    "dict_ordinal_ordering['KitchenQual'] = ['Po', 'Fa', 'TA', 'Gd', 'Ex']\n",
    "dict_ordinal_ordering"
   ]
  },
  {
   "cell_type": "markdown",
   "id": "939a1f0b",
   "metadata": {
    "heading_collapsed": true
   },
   "source": [
    "#### Functional"
   ]
  },
  {
   "cell_type": "code",
   "execution_count": 98,
   "id": "b482f32d",
   "metadata": {
    "hidden": true
   },
   "outputs": [
    {
     "data": {
      "text/plain": [
       "{'Utilities': ['ELO', 'NoSeWa', 'NoSewr', 'AllPub'],\n",
       " 'OverallQual': [1, 2, 3, 4, 5, 6, 7, 9, 10],\n",
       " 'OverallCond': [1, 2, 3, 4, 5, 6, 7, 9, 10],\n",
       " 'ExterQual': ['Po', 'Fa', 'TA', 'Gd', 'Ex'],\n",
       " 'ExterCond': ['Po', 'Fa', 'TA', 'Gd', 'Ex'],\n",
       " 'BsmtQual': ['Po', 'Fa', 'TA', 'Gd', 'Ex'],\n",
       " 'BsmtExposure': ['No', 'Mn', 'Av', 'Gd'],\n",
       " 'BsmtFinType1': ['Unf', 'LwQ', 'Rec', 'BLQ', 'ALQ', 'GLQ'],\n",
       " 'BsmtFinType2': ['Unf', 'LwQ', 'Rec', 'BLQ', 'ALQ', 'GLQ'],\n",
       " 'HeatingQC': ['Po', 'Fa', 'TA', 'Gd', 'Ex'],\n",
       " 'CentralAir': ['N', 'Y'],\n",
       " 'KitchenQual': ['Po', 'Fa', 'TA', 'Gd', 'Ex'],\n",
       " 'Functional': ['Sal', 'Sev', 'Maj2', 'Maj1', 'Mod', 'Min2', 'Min1', 'Typ']}"
      ]
     },
     "execution_count": 98,
     "metadata": {},
     "output_type": "execute_result"
    }
   ],
   "source": [
    "dict_ordinal_ordering['Functional'] = ['Sal', 'Sev', 'Maj2', 'Maj1', 'Mod', 'Min2', 'Min1', 'Typ']\n",
    "dict_ordinal_ordering"
   ]
  },
  {
   "cell_type": "markdown",
   "id": "61367b80",
   "metadata": {
    "heading_collapsed": true
   },
   "source": [
    "#### FireplaceQu"
   ]
  },
  {
   "cell_type": "code",
   "execution_count": 99,
   "id": "a180c69a",
   "metadata": {
    "hidden": true
   },
   "outputs": [
    {
     "data": {
      "text/plain": [
       "{'Utilities': ['ELO', 'NoSeWa', 'NoSewr', 'AllPub'],\n",
       " 'OverallQual': [1, 2, 3, 4, 5, 6, 7, 9, 10],\n",
       " 'OverallCond': [1, 2, 3, 4, 5, 6, 7, 9, 10],\n",
       " 'ExterQual': ['Po', 'Fa', 'TA', 'Gd', 'Ex'],\n",
       " 'ExterCond': ['Po', 'Fa', 'TA', 'Gd', 'Ex'],\n",
       " 'BsmtQual': ['Po', 'Fa', 'TA', 'Gd', 'Ex'],\n",
       " 'BsmtExposure': ['No', 'Mn', 'Av', 'Gd'],\n",
       " 'BsmtFinType1': ['Unf', 'LwQ', 'Rec', 'BLQ', 'ALQ', 'GLQ'],\n",
       " 'BsmtFinType2': ['Unf', 'LwQ', 'Rec', 'BLQ', 'ALQ', 'GLQ'],\n",
       " 'HeatingQC': ['Po', 'Fa', 'TA', 'Gd', 'Ex'],\n",
       " 'CentralAir': ['N', 'Y'],\n",
       " 'KitchenQual': ['Po', 'Fa', 'TA', 'Gd', 'Ex'],\n",
       " 'Functional': ['Sal', 'Sev', 'Maj2', 'Maj1', 'Mod', 'Min2', 'Min1', 'Typ'],\n",
       " 'FireplaceQu': ['Po', 'Fa', 'TA', 'Gd', 'Ex']}"
      ]
     },
     "execution_count": 99,
     "metadata": {},
     "output_type": "execute_result"
    }
   ],
   "source": [
    "dict_ordinal_ordering['FireplaceQu'] = ['Po', 'Fa', 'TA', 'Gd', 'Ex']\n",
    "dict_ordinal_ordering"
   ]
  },
  {
   "cell_type": "markdown",
   "id": "1d556bbb",
   "metadata": {
    "heading_collapsed": true
   },
   "source": [
    "#### GarageFinish"
   ]
  },
  {
   "cell_type": "code",
   "execution_count": 100,
   "id": "813a7ad4",
   "metadata": {
    "hidden": true
   },
   "outputs": [
    {
     "data": {
      "text/plain": [
       "{'Utilities': ['ELO', 'NoSeWa', 'NoSewr', 'AllPub'],\n",
       " 'OverallQual': [1, 2, 3, 4, 5, 6, 7, 9, 10],\n",
       " 'OverallCond': [1, 2, 3, 4, 5, 6, 7, 9, 10],\n",
       " 'ExterQual': ['Po', 'Fa', 'TA', 'Gd', 'Ex'],\n",
       " 'ExterCond': ['Po', 'Fa', 'TA', 'Gd', 'Ex'],\n",
       " 'BsmtQual': ['Po', 'Fa', 'TA', 'Gd', 'Ex'],\n",
       " 'BsmtExposure': ['No', 'Mn', 'Av', 'Gd'],\n",
       " 'BsmtFinType1': ['Unf', 'LwQ', 'Rec', 'BLQ', 'ALQ', 'GLQ'],\n",
       " 'BsmtFinType2': ['Unf', 'LwQ', 'Rec', 'BLQ', 'ALQ', 'GLQ'],\n",
       " 'HeatingQC': ['Po', 'Fa', 'TA', 'Gd', 'Ex'],\n",
       " 'CentralAir': ['N', 'Y'],\n",
       " 'KitchenQual': ['Po', 'Fa', 'TA', 'Gd', 'Ex'],\n",
       " 'Functional': ['Sal', 'Sev', 'Maj2', 'Maj1', 'Mod', 'Min2', 'Min1', 'Typ'],\n",
       " 'FireplaceQu': ['Po', 'Fa', 'TA', 'Gd', 'Ex'],\n",
       " 'GarageFinish': ['Unf', 'RFn', 'Fin']}"
      ]
     },
     "execution_count": 100,
     "metadata": {},
     "output_type": "execute_result"
    }
   ],
   "source": [
    "dict_ordinal_ordering['GarageFinish'] = ['Unf', 'RFn', 'Fin']\n",
    "dict_ordinal_ordering"
   ]
  },
  {
   "cell_type": "markdown",
   "id": "4b91f2f4",
   "metadata": {
    "heading_collapsed": true
   },
   "source": [
    "#### GarageQual"
   ]
  },
  {
   "cell_type": "code",
   "execution_count": 101,
   "id": "d15fd21f",
   "metadata": {
    "hidden": true
   },
   "outputs": [
    {
     "data": {
      "text/plain": [
       "{'Utilities': ['ELO', 'NoSeWa', 'NoSewr', 'AllPub'],\n",
       " 'OverallQual': [1, 2, 3, 4, 5, 6, 7, 9, 10],\n",
       " 'OverallCond': [1, 2, 3, 4, 5, 6, 7, 9, 10],\n",
       " 'ExterQual': ['Po', 'Fa', 'TA', 'Gd', 'Ex'],\n",
       " 'ExterCond': ['Po', 'Fa', 'TA', 'Gd', 'Ex'],\n",
       " 'BsmtQual': ['Po', 'Fa', 'TA', 'Gd', 'Ex'],\n",
       " 'BsmtExposure': ['No', 'Mn', 'Av', 'Gd'],\n",
       " 'BsmtFinType1': ['Unf', 'LwQ', 'Rec', 'BLQ', 'ALQ', 'GLQ'],\n",
       " 'BsmtFinType2': ['Unf', 'LwQ', 'Rec', 'BLQ', 'ALQ', 'GLQ'],\n",
       " 'HeatingQC': ['Po', 'Fa', 'TA', 'Gd', 'Ex'],\n",
       " 'CentralAir': ['N', 'Y'],\n",
       " 'KitchenQual': ['Po', 'Fa', 'TA', 'Gd', 'Ex'],\n",
       " 'Functional': ['Sal', 'Sev', 'Maj2', 'Maj1', 'Mod', 'Min2', 'Min1', 'Typ'],\n",
       " 'FireplaceQu': ['Po', 'Fa', 'TA', 'Gd', 'Ex'],\n",
       " 'GarageFinish': ['Unf', 'RFn', 'Fin'],\n",
       " 'GarageQual': ['Po', 'Fa', 'TA', 'Gd', 'Ex']}"
      ]
     },
     "execution_count": 101,
     "metadata": {},
     "output_type": "execute_result"
    }
   ],
   "source": [
    "dict_ordinal_ordering['GarageQual'] = ['Po', 'Fa', 'TA', 'Gd', 'Ex']\n",
    "dict_ordinal_ordering"
   ]
  },
  {
   "cell_type": "markdown",
   "id": "4bcdae8e",
   "metadata": {
    "heading_collapsed": true
   },
   "source": [
    "#### GarageCond"
   ]
  },
  {
   "cell_type": "code",
   "execution_count": 102,
   "id": "ff5ea523",
   "metadata": {
    "hidden": true
   },
   "outputs": [
    {
     "data": {
      "text/plain": [
       "{'Utilities': ['ELO', 'NoSeWa', 'NoSewr', 'AllPub'],\n",
       " 'OverallQual': [1, 2, 3, 4, 5, 6, 7, 9, 10],\n",
       " 'OverallCond': [1, 2, 3, 4, 5, 6, 7, 9, 10],\n",
       " 'ExterQual': ['Po', 'Fa', 'TA', 'Gd', 'Ex'],\n",
       " 'ExterCond': ['Po', 'Fa', 'TA', 'Gd', 'Ex'],\n",
       " 'BsmtQual': ['Po', 'Fa', 'TA', 'Gd', 'Ex'],\n",
       " 'BsmtExposure': ['No', 'Mn', 'Av', 'Gd'],\n",
       " 'BsmtFinType1': ['Unf', 'LwQ', 'Rec', 'BLQ', 'ALQ', 'GLQ'],\n",
       " 'BsmtFinType2': ['Unf', 'LwQ', 'Rec', 'BLQ', 'ALQ', 'GLQ'],\n",
       " 'HeatingQC': ['Po', 'Fa', 'TA', 'Gd', 'Ex'],\n",
       " 'CentralAir': ['N', 'Y'],\n",
       " 'KitchenQual': ['Po', 'Fa', 'TA', 'Gd', 'Ex'],\n",
       " 'Functional': ['Sal', 'Sev', 'Maj2', 'Maj1', 'Mod', 'Min2', 'Min1', 'Typ'],\n",
       " 'FireplaceQu': ['Po', 'Fa', 'TA', 'Gd', 'Ex'],\n",
       " 'GarageFinish': ['Unf', 'RFn', 'Fin'],\n",
       " 'GarageQual': ['Po', 'Fa', 'TA', 'Gd', 'Ex'],\n",
       " 'GarageCond': ['Po', 'Fa', 'TA', 'Gd', 'Ex']}"
      ]
     },
     "execution_count": 102,
     "metadata": {},
     "output_type": "execute_result"
    }
   ],
   "source": [
    "dict_ordinal_ordering['GarageCond'] = ['Po', 'Fa', 'TA', 'Gd', 'Ex']\n",
    "dict_ordinal_ordering"
   ]
  },
  {
   "cell_type": "markdown",
   "id": "0bda5186",
   "metadata": {
    "heading_collapsed": true
   },
   "source": [
    "#### PoolQC"
   ]
  },
  {
   "cell_type": "code",
   "execution_count": 103,
   "id": "33ecb3dd",
   "metadata": {
    "hidden": true
   },
   "outputs": [
    {
     "data": {
      "text/plain": [
       "{'Utilities': ['ELO', 'NoSeWa', 'NoSewr', 'AllPub'],\n",
       " 'OverallQual': [1, 2, 3, 4, 5, 6, 7, 9, 10],\n",
       " 'OverallCond': [1, 2, 3, 4, 5, 6, 7, 9, 10],\n",
       " 'ExterQual': ['Po', 'Fa', 'TA', 'Gd', 'Ex'],\n",
       " 'ExterCond': ['Po', 'Fa', 'TA', 'Gd', 'Ex'],\n",
       " 'BsmtQual': ['Po', 'Fa', 'TA', 'Gd', 'Ex'],\n",
       " 'BsmtExposure': ['No', 'Mn', 'Av', 'Gd'],\n",
       " 'BsmtFinType1': ['Unf', 'LwQ', 'Rec', 'BLQ', 'ALQ', 'GLQ'],\n",
       " 'BsmtFinType2': ['Unf', 'LwQ', 'Rec', 'BLQ', 'ALQ', 'GLQ'],\n",
       " 'HeatingQC': ['Po', 'Fa', 'TA', 'Gd', 'Ex'],\n",
       " 'CentralAir': ['N', 'Y'],\n",
       " 'KitchenQual': ['Po', 'Fa', 'TA', 'Gd', 'Ex'],\n",
       " 'Functional': ['Sal', 'Sev', 'Maj2', 'Maj1', 'Mod', 'Min2', 'Min1', 'Typ'],\n",
       " 'FireplaceQu': ['Po', 'Fa', 'TA', 'Gd', 'Ex'],\n",
       " 'GarageFinish': ['Unf', 'RFn', 'Fin'],\n",
       " 'GarageQual': ['Po', 'Fa', 'TA', 'Gd', 'Ex'],\n",
       " 'GarageCond': ['Po', 'Fa', 'TA', 'Gd', 'Ex'],\n",
       " 'PoolQC': ['Fa', 'TA', 'Gd', 'Ex']}"
      ]
     },
     "execution_count": 103,
     "metadata": {},
     "output_type": "execute_result"
    }
   ],
   "source": [
    "dict_ordinal_ordering['PoolQC'] = ['Fa', 'TA', 'Gd', 'Ex']\n",
    "dict_ordinal_ordering"
   ]
  },
  {
   "cell_type": "markdown",
   "id": "a2f96388",
   "metadata": {
    "heading_collapsed": true
   },
   "source": [
    "#### Overview"
   ]
  },
  {
   "cell_type": "code",
   "execution_count": 104,
   "id": "3144af61",
   "metadata": {
    "hidden": true
   },
   "outputs": [
    {
     "data": {
      "text/plain": [
       "{'Utilities': ['ELO', 'NoSeWa', 'NoSewr', 'AllPub'],\n",
       " 'OverallQual': [1, 2, 3, 4, 5, 6, 7, 9, 10],\n",
       " 'OverallCond': [1, 2, 3, 4, 5, 6, 7, 9, 10],\n",
       " 'ExterQual': ['Po', 'Fa', 'TA', 'Gd', 'Ex'],\n",
       " 'ExterCond': ['Po', 'Fa', 'TA', 'Gd', 'Ex'],\n",
       " 'BsmtQual': ['Po', 'Fa', 'TA', 'Gd', 'Ex'],\n",
       " 'BsmtExposure': ['No', 'Mn', 'Av', 'Gd'],\n",
       " 'BsmtFinType1': ['Unf', 'LwQ', 'Rec', 'BLQ', 'ALQ', 'GLQ'],\n",
       " 'BsmtFinType2': ['Unf', 'LwQ', 'Rec', 'BLQ', 'ALQ', 'GLQ'],\n",
       " 'HeatingQC': ['Po', 'Fa', 'TA', 'Gd', 'Ex'],\n",
       " 'CentralAir': ['N', 'Y'],\n",
       " 'KitchenQual': ['Po', 'Fa', 'TA', 'Gd', 'Ex'],\n",
       " 'Functional': ['Sal', 'Sev', 'Maj2', 'Maj1', 'Mod', 'Min2', 'Min1', 'Typ'],\n",
       " 'FireplaceQu': ['Po', 'Fa', 'TA', 'Gd', 'Ex'],\n",
       " 'GarageFinish': ['Unf', 'RFn', 'Fin'],\n",
       " 'GarageQual': ['Po', 'Fa', 'TA', 'Gd', 'Ex'],\n",
       " 'GarageCond': ['Po', 'Fa', 'TA', 'Gd', 'Ex'],\n",
       " 'PoolQC': ['Fa', 'TA', 'Gd', 'Ex']}"
      ]
     },
     "execution_count": 104,
     "metadata": {},
     "output_type": "execute_result"
    }
   ],
   "source": [
    "dict_ordinal_ordering"
   ]
  },
  {
   "cell_type": "markdown",
   "id": "de70e5a9",
   "metadata": {},
   "source": [
    "### Explore scaling for numerical variables"
   ]
  },
  {
   "cell_type": "code",
   "execution_count": 107,
   "id": "b312eba1",
   "metadata": {},
   "outputs": [
    {
     "data": {
      "text/html": [
       "<div>\n",
       "<style scoped>\n",
       "    .dataframe tbody tr th:only-of-type {\n",
       "        vertical-align: middle;\n",
       "    }\n",
       "\n",
       "    .dataframe tbody tr th {\n",
       "        vertical-align: top;\n",
       "    }\n",
       "\n",
       "    .dataframe thead th {\n",
       "        text-align: right;\n",
       "    }\n",
       "</style>\n",
       "<table border=\"1\" class=\"dataframe\">\n",
       "  <thead>\n",
       "    <tr style=\"text-align: right;\">\n",
       "      <th></th>\n",
       "      <th>feature</th>\n",
       "      <th>dtype_current</th>\n",
       "      <th>dtype_actual</th>\n",
       "      <th>nan_count</th>\n",
       "      <th>na_strategy</th>\n",
       "      <th>preprocessing_type</th>\n",
       "    </tr>\n",
       "  </thead>\n",
       "  <tbody>\n",
       "    <tr>\n",
       "      <th>2</th>\n",
       "      <td>LotFrontage</td>\n",
       "      <td>float64</td>\n",
       "      <td>float32</td>\n",
       "      <td>259</td>\n",
       "      <td>impute</td>\n",
       "      <td>numeric</td>\n",
       "    </tr>\n",
       "    <tr>\n",
       "      <th>3</th>\n",
       "      <td>LotArea</td>\n",
       "      <td>int64</td>\n",
       "      <td>int32</td>\n",
       "      <td>0</td>\n",
       "      <td>None</td>\n",
       "      <td>numeric</td>\n",
       "    </tr>\n",
       "    <tr>\n",
       "      <th>18</th>\n",
       "      <td>YearBuilt</td>\n",
       "      <td>int64</td>\n",
       "      <td>int32</td>\n",
       "      <td>0</td>\n",
       "      <td>None</td>\n",
       "      <td>numeric</td>\n",
       "    </tr>\n",
       "    <tr>\n",
       "      <th>19</th>\n",
       "      <td>YearRemodAdd</td>\n",
       "      <td>int64</td>\n",
       "      <td>int32</td>\n",
       "      <td>0</td>\n",
       "      <td>None</td>\n",
       "      <td>numeric</td>\n",
       "    </tr>\n",
       "    <tr>\n",
       "      <th>25</th>\n",
       "      <td>MasVnrArea</td>\n",
       "      <td>float64</td>\n",
       "      <td>float32</td>\n",
       "      <td>8</td>\n",
       "      <td>impute</td>\n",
       "      <td>numeric</td>\n",
       "    </tr>\n",
       "    <tr>\n",
       "      <th>33</th>\n",
       "      <td>BsmtFinSF1</td>\n",
       "      <td>int64</td>\n",
       "      <td>int32</td>\n",
       "      <td>0</td>\n",
       "      <td>None</td>\n",
       "      <td>numeric</td>\n",
       "    </tr>\n",
       "    <tr>\n",
       "      <th>35</th>\n",
       "      <td>BsmtFinSF2</td>\n",
       "      <td>int64</td>\n",
       "      <td>int32</td>\n",
       "      <td>0</td>\n",
       "      <td>None</td>\n",
       "      <td>numeric</td>\n",
       "    </tr>\n",
       "    <tr>\n",
       "      <th>36</th>\n",
       "      <td>BsmtUnfSF</td>\n",
       "      <td>int64</td>\n",
       "      <td>int32</td>\n",
       "      <td>0</td>\n",
       "      <td>None</td>\n",
       "      <td>numeric</td>\n",
       "    </tr>\n",
       "    <tr>\n",
       "      <th>37</th>\n",
       "      <td>TotalBsmtSF</td>\n",
       "      <td>int64</td>\n",
       "      <td>int32</td>\n",
       "      <td>0</td>\n",
       "      <td>None</td>\n",
       "      <td>numeric</td>\n",
       "    </tr>\n",
       "    <tr>\n",
       "      <th>42</th>\n",
       "      <td>1stFlrSF</td>\n",
       "      <td>int64</td>\n",
       "      <td>int32</td>\n",
       "      <td>0</td>\n",
       "      <td>None</td>\n",
       "      <td>numeric</td>\n",
       "    </tr>\n",
       "    <tr>\n",
       "      <th>43</th>\n",
       "      <td>2ndFlrSF</td>\n",
       "      <td>int64</td>\n",
       "      <td>int32</td>\n",
       "      <td>0</td>\n",
       "      <td>None</td>\n",
       "      <td>numeric</td>\n",
       "    </tr>\n",
       "    <tr>\n",
       "      <th>44</th>\n",
       "      <td>LowQualFinSF</td>\n",
       "      <td>int64</td>\n",
       "      <td>int32</td>\n",
       "      <td>0</td>\n",
       "      <td>None</td>\n",
       "      <td>numeric</td>\n",
       "    </tr>\n",
       "    <tr>\n",
       "      <th>45</th>\n",
       "      <td>GrLivArea</td>\n",
       "      <td>int64</td>\n",
       "      <td>int32</td>\n",
       "      <td>0</td>\n",
       "      <td>None</td>\n",
       "      <td>numeric</td>\n",
       "    </tr>\n",
       "    <tr>\n",
       "      <th>46</th>\n",
       "      <td>BsmtFullBath</td>\n",
       "      <td>int64</td>\n",
       "      <td>int32</td>\n",
       "      <td>0</td>\n",
       "      <td>None</td>\n",
       "      <td>numeric</td>\n",
       "    </tr>\n",
       "    <tr>\n",
       "      <th>47</th>\n",
       "      <td>BsmtHalfBath</td>\n",
       "      <td>int64</td>\n",
       "      <td>int32</td>\n",
       "      <td>0</td>\n",
       "      <td>None</td>\n",
       "      <td>numeric</td>\n",
       "    </tr>\n",
       "    <tr>\n",
       "      <th>48</th>\n",
       "      <td>FullBath</td>\n",
       "      <td>int64</td>\n",
       "      <td>int32</td>\n",
       "      <td>0</td>\n",
       "      <td>None</td>\n",
       "      <td>numeric</td>\n",
       "    </tr>\n",
       "    <tr>\n",
       "      <th>49</th>\n",
       "      <td>HalfBath</td>\n",
       "      <td>int64</td>\n",
       "      <td>int32</td>\n",
       "      <td>0</td>\n",
       "      <td>None</td>\n",
       "      <td>numeric</td>\n",
       "    </tr>\n",
       "    <tr>\n",
       "      <th>50</th>\n",
       "      <td>BedroomAbvGr</td>\n",
       "      <td>int64</td>\n",
       "      <td>int32</td>\n",
       "      <td>0</td>\n",
       "      <td>None</td>\n",
       "      <td>numeric</td>\n",
       "    </tr>\n",
       "    <tr>\n",
       "      <th>51</th>\n",
       "      <td>KitchenAbvGr</td>\n",
       "      <td>int64</td>\n",
       "      <td>int32</td>\n",
       "      <td>0</td>\n",
       "      <td>None</td>\n",
       "      <td>numeric</td>\n",
       "    </tr>\n",
       "    <tr>\n",
       "      <th>53</th>\n",
       "      <td>TotRmsAbvGrd</td>\n",
       "      <td>int64</td>\n",
       "      <td>int32</td>\n",
       "      <td>0</td>\n",
       "      <td>None</td>\n",
       "      <td>numeric</td>\n",
       "    </tr>\n",
       "    <tr>\n",
       "      <th>55</th>\n",
       "      <td>Fireplaces</td>\n",
       "      <td>int64</td>\n",
       "      <td>int32</td>\n",
       "      <td>0</td>\n",
       "      <td>None</td>\n",
       "      <td>numeric</td>\n",
       "    </tr>\n",
       "    <tr>\n",
       "      <th>58</th>\n",
       "      <td>GarageYrBlt</td>\n",
       "      <td>float64</td>\n",
       "      <td>int32</td>\n",
       "      <td>81</td>\n",
       "      <td>impute</td>\n",
       "      <td>numeric</td>\n",
       "    </tr>\n",
       "    <tr>\n",
       "      <th>60</th>\n",
       "      <td>GarageCars</td>\n",
       "      <td>int64</td>\n",
       "      <td>int32</td>\n",
       "      <td>0</td>\n",
       "      <td>None</td>\n",
       "      <td>numeric</td>\n",
       "    </tr>\n",
       "    <tr>\n",
       "      <th>61</th>\n",
       "      <td>GarageArea</td>\n",
       "      <td>int64</td>\n",
       "      <td>int32</td>\n",
       "      <td>0</td>\n",
       "      <td>None</td>\n",
       "      <td>numeric</td>\n",
       "    </tr>\n",
       "    <tr>\n",
       "      <th>65</th>\n",
       "      <td>WoodDeckSF</td>\n",
       "      <td>int64</td>\n",
       "      <td>int32</td>\n",
       "      <td>0</td>\n",
       "      <td>None</td>\n",
       "      <td>numeric</td>\n",
       "    </tr>\n",
       "    <tr>\n",
       "      <th>66</th>\n",
       "      <td>OpenPorchSF</td>\n",
       "      <td>int64</td>\n",
       "      <td>int32</td>\n",
       "      <td>0</td>\n",
       "      <td>None</td>\n",
       "      <td>numeric</td>\n",
       "    </tr>\n",
       "    <tr>\n",
       "      <th>67</th>\n",
       "      <td>EnclosedPorch</td>\n",
       "      <td>int64</td>\n",
       "      <td>int32</td>\n",
       "      <td>0</td>\n",
       "      <td>None</td>\n",
       "      <td>numeric</td>\n",
       "    </tr>\n",
       "    <tr>\n",
       "      <th>68</th>\n",
       "      <td>3SsnPorch</td>\n",
       "      <td>int64</td>\n",
       "      <td>int32</td>\n",
       "      <td>0</td>\n",
       "      <td>None</td>\n",
       "      <td>numeric</td>\n",
       "    </tr>\n",
       "    <tr>\n",
       "      <th>69</th>\n",
       "      <td>ScreenPorch</td>\n",
       "      <td>int64</td>\n",
       "      <td>int32</td>\n",
       "      <td>0</td>\n",
       "      <td>None</td>\n",
       "      <td>numeric</td>\n",
       "    </tr>\n",
       "    <tr>\n",
       "      <th>70</th>\n",
       "      <td>PoolArea</td>\n",
       "      <td>int64</td>\n",
       "      <td>int32</td>\n",
       "      <td>0</td>\n",
       "      <td>None</td>\n",
       "      <td>numeric</td>\n",
       "    </tr>\n",
       "    <tr>\n",
       "      <th>74</th>\n",
       "      <td>MiscVal</td>\n",
       "      <td>int64</td>\n",
       "      <td>int32</td>\n",
       "      <td>0</td>\n",
       "      <td>None</td>\n",
       "      <td>numeric</td>\n",
       "    </tr>\n",
       "    <tr>\n",
       "      <th>75</th>\n",
       "      <td>MoSold</td>\n",
       "      <td>int64</td>\n",
       "      <td>int32</td>\n",
       "      <td>0</td>\n",
       "      <td>None</td>\n",
       "      <td>numeric</td>\n",
       "    </tr>\n",
       "    <tr>\n",
       "      <th>76</th>\n",
       "      <td>YrSold</td>\n",
       "      <td>int64</td>\n",
       "      <td>int32</td>\n",
       "      <td>0</td>\n",
       "      <td>None</td>\n",
       "      <td>numeric</td>\n",
       "    </tr>\n",
       "    <tr>\n",
       "      <th>79</th>\n",
       "      <td>SalePrice</td>\n",
       "      <td>int64</td>\n",
       "      <td>int32</td>\n",
       "      <td>0</td>\n",
       "      <td>None</td>\n",
       "      <td>numeric</td>\n",
       "    </tr>\n",
       "  </tbody>\n",
       "</table>\n",
       "</div>"
      ],
      "text/plain": [
       "          feature dtype_current dtype_actual  nan_count na_strategy  \\\n",
       "2     LotFrontage       float64      float32        259      impute   \n",
       "3         LotArea         int64        int32          0        None   \n",
       "18      YearBuilt         int64        int32          0        None   \n",
       "19   YearRemodAdd         int64        int32          0        None   \n",
       "25     MasVnrArea       float64      float32          8      impute   \n",
       "33     BsmtFinSF1         int64        int32          0        None   \n",
       "35     BsmtFinSF2         int64        int32          0        None   \n",
       "36      BsmtUnfSF         int64        int32          0        None   \n",
       "37    TotalBsmtSF         int64        int32          0        None   \n",
       "42       1stFlrSF         int64        int32          0        None   \n",
       "43       2ndFlrSF         int64        int32          0        None   \n",
       "44   LowQualFinSF         int64        int32          0        None   \n",
       "45      GrLivArea         int64        int32          0        None   \n",
       "46   BsmtFullBath         int64        int32          0        None   \n",
       "47   BsmtHalfBath         int64        int32          0        None   \n",
       "48       FullBath         int64        int32          0        None   \n",
       "49       HalfBath         int64        int32          0        None   \n",
       "50   BedroomAbvGr         int64        int32          0        None   \n",
       "51   KitchenAbvGr         int64        int32          0        None   \n",
       "53   TotRmsAbvGrd         int64        int32          0        None   \n",
       "55     Fireplaces         int64        int32          0        None   \n",
       "58    GarageYrBlt       float64        int32         81      impute   \n",
       "60     GarageCars         int64        int32          0        None   \n",
       "61     GarageArea         int64        int32          0        None   \n",
       "65     WoodDeckSF         int64        int32          0        None   \n",
       "66    OpenPorchSF         int64        int32          0        None   \n",
       "67  EnclosedPorch         int64        int32          0        None   \n",
       "68      3SsnPorch         int64        int32          0        None   \n",
       "69    ScreenPorch         int64        int32          0        None   \n",
       "70       PoolArea         int64        int32          0        None   \n",
       "74        MiscVal         int64        int32          0        None   \n",
       "75         MoSold         int64        int32          0        None   \n",
       "76         YrSold         int64        int32          0        None   \n",
       "79      SalePrice         int64        int32          0        None   \n",
       "\n",
       "   preprocessing_type  \n",
       "2             numeric  \n",
       "3             numeric  \n",
       "18            numeric  \n",
       "19            numeric  \n",
       "25            numeric  \n",
       "33            numeric  \n",
       "35            numeric  \n",
       "36            numeric  \n",
       "37            numeric  \n",
       "42            numeric  \n",
       "43            numeric  \n",
       "44            numeric  \n",
       "45            numeric  \n",
       "46            numeric  \n",
       "47            numeric  \n",
       "48            numeric  \n",
       "49            numeric  \n",
       "50            numeric  \n",
       "51            numeric  \n",
       "53            numeric  \n",
       "55            numeric  \n",
       "58            numeric  \n",
       "60            numeric  \n",
       "61            numeric  \n",
       "65            numeric  \n",
       "66            numeric  \n",
       "67            numeric  \n",
       "68            numeric  \n",
       "69            numeric  \n",
       "70            numeric  \n",
       "74            numeric  \n",
       "75            numeric  \n",
       "76            numeric  \n",
       "79            numeric  "
      ]
     },
     "execution_count": 107,
     "metadata": {},
     "output_type": "execute_result"
    }
   ],
   "source": [
    "overview_table[overview_table['preprocessing_type'] == 'numeric']"
   ]
  },
  {
   "cell_type": "code",
   "execution_count": 105,
   "id": "27c9e0e0",
   "metadata": {},
   "outputs": [
    {
     "data": {
      "text/plain": [
       "2       LotFrontage\n",
       "3           LotArea\n",
       "18        YearBuilt\n",
       "19     YearRemodAdd\n",
       "25       MasVnrArea\n",
       "33       BsmtFinSF1\n",
       "35       BsmtFinSF2\n",
       "36        BsmtUnfSF\n",
       "37      TotalBsmtSF\n",
       "42         1stFlrSF\n",
       "43         2ndFlrSF\n",
       "44     LowQualFinSF\n",
       "45        GrLivArea\n",
       "46     BsmtFullBath\n",
       "47     BsmtHalfBath\n",
       "48         FullBath\n",
       "49         HalfBath\n",
       "50     BedroomAbvGr\n",
       "51     KitchenAbvGr\n",
       "53     TotRmsAbvGrd\n",
       "55       Fireplaces\n",
       "58      GarageYrBlt\n",
       "60       GarageCars\n",
       "61       GarageArea\n",
       "65       WoodDeckSF\n",
       "66      OpenPorchSF\n",
       "67    EnclosedPorch\n",
       "68        3SsnPorch\n",
       "69      ScreenPorch\n",
       "70         PoolArea\n",
       "74          MiscVal\n",
       "75           MoSold\n",
       "76           YrSold\n",
       "79        SalePrice\n",
       "Name: feature, dtype: object"
      ]
     },
     "execution_count": 105,
     "metadata": {},
     "output_type": "execute_result"
    }
   ],
   "source": [
    "numerical_features = overview_table['feature'][overview_table['preprocessing_type'] == 'numeric']\n",
    "numerical_features"
   ]
  },
  {
   "cell_type": "code",
   "execution_count": null,
   "id": "0ac275f6",
   "metadata": {},
   "outputs": [],
   "source": [
    "todo"
   ]
  },
  {
   "cell_type": "code",
   "execution_count": 108,
   "id": "e3417502",
   "metadata": {},
   "outputs": [
    {
     "name": "stderr",
     "output_type": "stream",
     "text": [
      "/tmp/ipykernel_2455/438148047.py:22: FutureWarning: The frame.append method is deprecated and will be removed from pandas in a future version. Use pandas.concat instead.\n",
      "  results = results.append({\n",
      "/tmp/ipykernel_2455/438148047.py:22: FutureWarning: The frame.append method is deprecated and will be removed from pandas in a future version. Use pandas.concat instead.\n",
      "  results = results.append({\n",
      "/tmp/ipykernel_2455/438148047.py:22: FutureWarning: The frame.append method is deprecated and will be removed from pandas in a future version. Use pandas.concat instead.\n",
      "  results = results.append({\n",
      "/tmp/ipykernel_2455/438148047.py:22: FutureWarning: The frame.append method is deprecated and will be removed from pandas in a future version. Use pandas.concat instead.\n",
      "  results = results.append({\n",
      "/tmp/ipykernel_2455/438148047.py:22: FutureWarning: The frame.append method is deprecated and will be removed from pandas in a future version. Use pandas.concat instead.\n",
      "  results = results.append({\n",
      "/tmp/ipykernel_2455/438148047.py:22: FutureWarning: The frame.append method is deprecated and will be removed from pandas in a future version. Use pandas.concat instead.\n",
      "  results = results.append({\n",
      "/tmp/ipykernel_2455/438148047.py:22: FutureWarning: The frame.append method is deprecated and will be removed from pandas in a future version. Use pandas.concat instead.\n",
      "  results = results.append({\n",
      "/tmp/ipykernel_2455/438148047.py:22: FutureWarning: The frame.append method is deprecated and will be removed from pandas in a future version. Use pandas.concat instead.\n",
      "  results = results.append({\n",
      "/tmp/ipykernel_2455/438148047.py:22: FutureWarning: The frame.append method is deprecated and will be removed from pandas in a future version. Use pandas.concat instead.\n",
      "  results = results.append({\n",
      "/tmp/ipykernel_2455/438148047.py:22: FutureWarning: The frame.append method is deprecated and will be removed from pandas in a future version. Use pandas.concat instead.\n",
      "  results = results.append({\n",
      "/tmp/ipykernel_2455/438148047.py:22: FutureWarning: The frame.append method is deprecated and will be removed from pandas in a future version. Use pandas.concat instead.\n",
      "  results = results.append({\n",
      "/tmp/ipykernel_2455/438148047.py:22: FutureWarning: The frame.append method is deprecated and will be removed from pandas in a future version. Use pandas.concat instead.\n",
      "  results = results.append({\n",
      "/tmp/ipykernel_2455/438148047.py:22: FutureWarning: The frame.append method is deprecated and will be removed from pandas in a future version. Use pandas.concat instead.\n",
      "  results = results.append({\n",
      "/tmp/ipykernel_2455/438148047.py:22: FutureWarning: The frame.append method is deprecated and will be removed from pandas in a future version. Use pandas.concat instead.\n",
      "  results = results.append({\n",
      "/tmp/ipykernel_2455/438148047.py:22: FutureWarning: The frame.append method is deprecated and will be removed from pandas in a future version. Use pandas.concat instead.\n",
      "  results = results.append({\n",
      "/tmp/ipykernel_2455/438148047.py:22: FutureWarning: The frame.append method is deprecated and will be removed from pandas in a future version. Use pandas.concat instead.\n",
      "  results = results.append({\n",
      "/tmp/ipykernel_2455/438148047.py:22: FutureWarning: The frame.append method is deprecated and will be removed from pandas in a future version. Use pandas.concat instead.\n",
      "  results = results.append({\n",
      "/tmp/ipykernel_2455/438148047.py:22: FutureWarning: The frame.append method is deprecated and will be removed from pandas in a future version. Use pandas.concat instead.\n",
      "  results = results.append({\n",
      "/tmp/ipykernel_2455/438148047.py:22: FutureWarning: The frame.append method is deprecated and will be removed from pandas in a future version. Use pandas.concat instead.\n",
      "  results = results.append({\n",
      "/tmp/ipykernel_2455/438148047.py:22: FutureWarning: The frame.append method is deprecated and will be removed from pandas in a future version. Use pandas.concat instead.\n",
      "  results = results.append({\n",
      "/tmp/ipykernel_2455/438148047.py:22: FutureWarning: The frame.append method is deprecated and will be removed from pandas in a future version. Use pandas.concat instead.\n",
      "  results = results.append({\n",
      "/tmp/ipykernel_2455/438148047.py:22: FutureWarning: The frame.append method is deprecated and will be removed from pandas in a future version. Use pandas.concat instead.\n",
      "  results = results.append({\n",
      "/tmp/ipykernel_2455/438148047.py:22: FutureWarning: The frame.append method is deprecated and will be removed from pandas in a future version. Use pandas.concat instead.\n",
      "  results = results.append({\n",
      "/tmp/ipykernel_2455/438148047.py:22: FutureWarning: The frame.append method is deprecated and will be removed from pandas in a future version. Use pandas.concat instead.\n",
      "  results = results.append({\n",
      "/tmp/ipykernel_2455/438148047.py:22: FutureWarning: The frame.append method is deprecated and will be removed from pandas in a future version. Use pandas.concat instead.\n",
      "  results = results.append({\n",
      "/tmp/ipykernel_2455/438148047.py:22: FutureWarning: The frame.append method is deprecated and will be removed from pandas in a future version. Use pandas.concat instead.\n",
      "  results = results.append({\n",
      "/tmp/ipykernel_2455/438148047.py:22: FutureWarning: The frame.append method is deprecated and will be removed from pandas in a future version. Use pandas.concat instead.\n",
      "  results = results.append({\n",
      "/tmp/ipykernel_2455/438148047.py:22: FutureWarning: The frame.append method is deprecated and will be removed from pandas in a future version. Use pandas.concat instead.\n",
      "  results = results.append({\n",
      "/tmp/ipykernel_2455/438148047.py:22: FutureWarning: The frame.append method is deprecated and will be removed from pandas in a future version. Use pandas.concat instead.\n",
      "  results = results.append({\n",
      "/tmp/ipykernel_2455/438148047.py:22: FutureWarning: The frame.append method is deprecated and will be removed from pandas in a future version. Use pandas.concat instead.\n",
      "  results = results.append({\n",
      "/tmp/ipykernel_2455/438148047.py:22: FutureWarning: The frame.append method is deprecated and will be removed from pandas in a future version. Use pandas.concat instead.\n",
      "  results = results.append({\n",
      "/tmp/ipykernel_2455/438148047.py:22: FutureWarning: The frame.append method is deprecated and will be removed from pandas in a future version. Use pandas.concat instead.\n",
      "  results = results.append({\n",
      "/tmp/ipykernel_2455/438148047.py:22: FutureWarning: The frame.append method is deprecated and will be removed from pandas in a future version. Use pandas.concat instead.\n",
      "  results = results.append({\n",
      "/tmp/ipykernel_2455/438148047.py:22: FutureWarning: The frame.append method is deprecated and will be removed from pandas in a future version. Use pandas.concat instead.\n",
      "  results = results.append({\n"
     ]
    },
    {
     "data": {
      "text/html": [
       "<div>\n",
       "<style scoped>\n",
       "    .dataframe tbody tr th:only-of-type {\n",
       "        vertical-align: middle;\n",
       "    }\n",
       "\n",
       "    .dataframe tbody tr th {\n",
       "        vertical-align: top;\n",
       "    }\n",
       "\n",
       "    .dataframe thead th {\n",
       "        text-align: right;\n",
       "    }\n",
       "</style>\n",
       "<table border=\"1\" class=\"dataframe\">\n",
       "  <thead>\n",
       "    <tr style=\"text-align: right;\">\n",
       "      <th></th>\n",
       "      <th>Feature</th>\n",
       "      <th>Skewness</th>\n",
       "      <th>IQR Outliers</th>\n",
       "      <th>Z-score Outliers</th>\n",
       "    </tr>\n",
       "  </thead>\n",
       "  <tbody>\n",
       "    <tr>\n",
       "      <th>0</th>\n",
       "      <td>LotFrontage</td>\n",
       "      <td>2.160866</td>\n",
       "      <td>88</td>\n",
       "      <td>12</td>\n",
       "    </tr>\n",
       "    <tr>\n",
       "      <th>1</th>\n",
       "      <td>LotArea</td>\n",
       "      <td>12.195142</td>\n",
       "      <td>69</td>\n",
       "      <td>13</td>\n",
       "    </tr>\n",
       "    <tr>\n",
       "      <th>2</th>\n",
       "      <td>YearBuilt</td>\n",
       "      <td>-0.612831</td>\n",
       "      <td>7</td>\n",
       "      <td>6</td>\n",
       "    </tr>\n",
       "    <tr>\n",
       "      <th>3</th>\n",
       "      <td>YearRemodAdd</td>\n",
       "      <td>-0.503044</td>\n",
       "      <td>0</td>\n",
       "      <td>0</td>\n",
       "    </tr>\n",
       "    <tr>\n",
       "      <th>4</th>\n",
       "      <td>MasVnrArea</td>\n",
       "      <td>2.666326</td>\n",
       "      <td>96</td>\n",
       "      <td>32</td>\n",
       "    </tr>\n",
       "    <tr>\n",
       "      <th>5</th>\n",
       "      <td>BsmtFinSF1</td>\n",
       "      <td>1.683771</td>\n",
       "      <td>7</td>\n",
       "      <td>6</td>\n",
       "    </tr>\n",
       "    <tr>\n",
       "      <th>6</th>\n",
       "      <td>BsmtFinSF2</td>\n",
       "      <td>4.250888</td>\n",
       "      <td>167</td>\n",
       "      <td>50</td>\n",
       "    </tr>\n",
       "    <tr>\n",
       "      <th>7</th>\n",
       "      <td>BsmtUnfSF</td>\n",
       "      <td>0.919323</td>\n",
       "      <td>29</td>\n",
       "      <td>11</td>\n",
       "    </tr>\n",
       "    <tr>\n",
       "      <th>8</th>\n",
       "      <td>TotalBsmtSF</td>\n",
       "      <td>1.522688</td>\n",
       "      <td>61</td>\n",
       "      <td>10</td>\n",
       "    </tr>\n",
       "    <tr>\n",
       "      <th>9</th>\n",
       "      <td>1stFlrSF</td>\n",
       "      <td>1.375342</td>\n",
       "      <td>20</td>\n",
       "      <td>12</td>\n",
       "    </tr>\n",
       "    <tr>\n",
       "      <th>10</th>\n",
       "      <td>2ndFlrSF</td>\n",
       "      <td>0.812194</td>\n",
       "      <td>2</td>\n",
       "      <td>4</td>\n",
       "    </tr>\n",
       "    <tr>\n",
       "      <th>11</th>\n",
       "      <td>LowQualFinSF</td>\n",
       "      <td>9.002080</td>\n",
       "      <td>26</td>\n",
       "      <td>20</td>\n",
       "    </tr>\n",
       "    <tr>\n",
       "      <th>12</th>\n",
       "      <td>GrLivArea</td>\n",
       "      <td>1.365156</td>\n",
       "      <td>31</td>\n",
       "      <td>16</td>\n",
       "    </tr>\n",
       "    <tr>\n",
       "      <th>13</th>\n",
       "      <td>BsmtFullBath</td>\n",
       "      <td>0.595454</td>\n",
       "      <td>1</td>\n",
       "      <td>16</td>\n",
       "    </tr>\n",
       "    <tr>\n",
       "      <th>14</th>\n",
       "      <td>BsmtHalfBath</td>\n",
       "      <td>4.099186</td>\n",
       "      <td>82</td>\n",
       "      <td>82</td>\n",
       "    </tr>\n",
       "    <tr>\n",
       "      <th>15</th>\n",
       "      <td>FullBath</td>\n",
       "      <td>0.036524</td>\n",
       "      <td>0</td>\n",
       "      <td>0</td>\n",
       "    </tr>\n",
       "    <tr>\n",
       "      <th>16</th>\n",
       "      <td>HalfBath</td>\n",
       "      <td>0.675203</td>\n",
       "      <td>0</td>\n",
       "      <td>12</td>\n",
       "    </tr>\n",
       "    <tr>\n",
       "      <th>17</th>\n",
       "      <td>BedroomAbvGr</td>\n",
       "      <td>0.211572</td>\n",
       "      <td>35</td>\n",
       "      <td>14</td>\n",
       "    </tr>\n",
       "    <tr>\n",
       "      <th>18</th>\n",
       "      <td>KitchenAbvGr</td>\n",
       "      <td>4.483784</td>\n",
       "      <td>68</td>\n",
       "      <td>68</td>\n",
       "    </tr>\n",
       "    <tr>\n",
       "      <th>19</th>\n",
       "      <td>TotRmsAbvGrd</td>\n",
       "      <td>0.675646</td>\n",
       "      <td>30</td>\n",
       "      <td>12</td>\n",
       "    </tr>\n",
       "    <tr>\n",
       "      <th>20</th>\n",
       "      <td>Fireplaces</td>\n",
       "      <td>0.648898</td>\n",
       "      <td>5</td>\n",
       "      <td>5</td>\n",
       "    </tr>\n",
       "    <tr>\n",
       "      <th>21</th>\n",
       "      <td>GarageYrBlt</td>\n",
       "      <td>-0.648708</td>\n",
       "      <td>0</td>\n",
       "      <td>1</td>\n",
       "    </tr>\n",
       "    <tr>\n",
       "      <th>22</th>\n",
       "      <td>GarageCars</td>\n",
       "      <td>-0.342197</td>\n",
       "      <td>5</td>\n",
       "      <td>0</td>\n",
       "    </tr>\n",
       "    <tr>\n",
       "      <th>23</th>\n",
       "      <td>GarageArea</td>\n",
       "      <td>0.179796</td>\n",
       "      <td>21</td>\n",
       "      <td>7</td>\n",
       "    </tr>\n",
       "    <tr>\n",
       "      <th>24</th>\n",
       "      <td>WoodDeckSF</td>\n",
       "      <td>1.539792</td>\n",
       "      <td>32</td>\n",
       "      <td>22</td>\n",
       "    </tr>\n",
       "    <tr>\n",
       "      <th>25</th>\n",
       "      <td>OpenPorchSF</td>\n",
       "      <td>2.361912</td>\n",
       "      <td>77</td>\n",
       "      <td>27</td>\n",
       "    </tr>\n",
       "    <tr>\n",
       "      <th>26</th>\n",
       "      <td>EnclosedPorch</td>\n",
       "      <td>3.086696</td>\n",
       "      <td>208</td>\n",
       "      <td>51</td>\n",
       "    </tr>\n",
       "    <tr>\n",
       "      <th>27</th>\n",
       "      <td>3SsnPorch</td>\n",
       "      <td>10.293752</td>\n",
       "      <td>24</td>\n",
       "      <td>23</td>\n",
       "    </tr>\n",
       "    <tr>\n",
       "      <th>28</th>\n",
       "      <td>ScreenPorch</td>\n",
       "      <td>4.117977</td>\n",
       "      <td>116</td>\n",
       "      <td>55</td>\n",
       "    </tr>\n",
       "    <tr>\n",
       "      <th>29</th>\n",
       "      <td>PoolArea</td>\n",
       "      <td>14.813135</td>\n",
       "      <td>7</td>\n",
       "      <td>7</td>\n",
       "    </tr>\n",
       "    <tr>\n",
       "      <th>30</th>\n",
       "      <td>MiscVal</td>\n",
       "      <td>24.451640</td>\n",
       "      <td>52</td>\n",
       "      <td>8</td>\n",
       "    </tr>\n",
       "    <tr>\n",
       "      <th>31</th>\n",
       "      <td>MoSold</td>\n",
       "      <td>0.211835</td>\n",
       "      <td>0</td>\n",
       "      <td>0</td>\n",
       "    </tr>\n",
       "    <tr>\n",
       "      <th>32</th>\n",
       "      <td>YrSold</td>\n",
       "      <td>0.096170</td>\n",
       "      <td>0</td>\n",
       "      <td>0</td>\n",
       "    </tr>\n",
       "    <tr>\n",
       "      <th>33</th>\n",
       "      <td>SalePrice</td>\n",
       "      <td>1.880941</td>\n",
       "      <td>61</td>\n",
       "      <td>22</td>\n",
       "    </tr>\n",
       "  </tbody>\n",
       "</table>\n",
       "</div>"
      ],
      "text/plain": [
       "          Feature   Skewness IQR Outliers Z-score Outliers\n",
       "0     LotFrontage   2.160866           88               12\n",
       "1         LotArea  12.195142           69               13\n",
       "2       YearBuilt  -0.612831            7                6\n",
       "3    YearRemodAdd  -0.503044            0                0\n",
       "4      MasVnrArea   2.666326           96               32\n",
       "5      BsmtFinSF1   1.683771            7                6\n",
       "6      BsmtFinSF2   4.250888          167               50\n",
       "7       BsmtUnfSF   0.919323           29               11\n",
       "8     TotalBsmtSF   1.522688           61               10\n",
       "9        1stFlrSF   1.375342           20               12\n",
       "10       2ndFlrSF   0.812194            2                4\n",
       "11   LowQualFinSF   9.002080           26               20\n",
       "12      GrLivArea   1.365156           31               16\n",
       "13   BsmtFullBath   0.595454            1               16\n",
       "14   BsmtHalfBath   4.099186           82               82\n",
       "15       FullBath   0.036524            0                0\n",
       "16       HalfBath   0.675203            0               12\n",
       "17   BedroomAbvGr   0.211572           35               14\n",
       "18   KitchenAbvGr   4.483784           68               68\n",
       "19   TotRmsAbvGrd   0.675646           30               12\n",
       "20     Fireplaces   0.648898            5                5\n",
       "21    GarageYrBlt  -0.648708            0                1\n",
       "22     GarageCars  -0.342197            5                0\n",
       "23     GarageArea   0.179796           21                7\n",
       "24     WoodDeckSF   1.539792           32               22\n",
       "25    OpenPorchSF   2.361912           77               27\n",
       "26  EnclosedPorch   3.086696          208               51\n",
       "27      3SsnPorch  10.293752           24               23\n",
       "28    ScreenPorch   4.117977          116               55\n",
       "29       PoolArea  14.813135            7                7\n",
       "30        MiscVal  24.451640           52                8\n",
       "31         MoSold   0.211835            0                0\n",
       "32         YrSold   0.096170            0                0\n",
       "33      SalePrice   1.880941           61               22"
      ]
     },
     "execution_count": 108,
     "metadata": {},
     "output_type": "execute_result"
    }
   ],
   "source": [
    "# Create a table to store skewness, outlier count (IQR method), and Z-score based outliers\n",
    "results = pd.DataFrame(columns=[\"Feature\", \"Skewness\", \"IQR Outliers\", \"Z-score Outliers\"])\n",
    "\n",
    "# Loop over each numerical feature to calculate the metrics\n",
    "for feature in numerical_features:\n",
    "    feature_data = data[feature].dropna()  # Exclude NaNs for calculations\n",
    "    \n",
    "    # Calculate skewness\n",
    "    skewness_value = skew(feature_data)\n",
    "    \n",
    "    # Calculate IQR outliers\n",
    "    Q1 = feature_data.quantile(0.25)\n",
    "    Q3 = feature_data.quantile(0.75)\n",
    "    IQR = Q3 - Q1\n",
    "    iqr_outliers = ((feature_data < (Q1 - 1.5 * IQR)) | (feature_data > (Q3 + 1.5 * IQR))).sum()\n",
    "    \n",
    "    # Calculate Z-score based outliers\n",
    "    z_scores = zscore(feature_data)\n",
    "    z_score_outliers = (abs(z_scores) > 3).sum()\n",
    "    \n",
    "    # Append results to the DataFrame\n",
    "    results = results.append({\n",
    "        \"Feature\": feature,\n",
    "        \"Skewness\": skewness_value,\n",
    "        \"IQR Outliers\": iqr_outliers,\n",
    "        \"Z-score Outliers\": z_score_outliers\n",
    "    }, ignore_index=True)\n",
    "\n",
    "# Display the results\n",
    "results\n"
   ]
  },
  {
   "cell_type": "code",
   "execution_count": 132,
   "id": "e259bc13",
   "metadata": {},
   "outputs": [
    {
     "data": {
      "text/html": [
       "<div>\n",
       "<style scoped>\n",
       "    .dataframe tbody tr th:only-of-type {\n",
       "        vertical-align: middle;\n",
       "    }\n",
       "\n",
       "    .dataframe tbody tr th {\n",
       "        vertical-align: top;\n",
       "    }\n",
       "\n",
       "    .dataframe thead th {\n",
       "        text-align: right;\n",
       "    }\n",
       "</style>\n",
       "<table border=\"1\" class=\"dataframe\">\n",
       "  <thead>\n",
       "    <tr style=\"text-align: right;\">\n",
       "      <th></th>\n",
       "      <th>Feature</th>\n",
       "      <th>Skewness</th>\n",
       "      <th>IQR Outliers</th>\n",
       "      <th>Z-score Outliers</th>\n",
       "    </tr>\n",
       "  </thead>\n",
       "  <tbody>\n",
       "    <tr>\n",
       "      <th>0</th>\n",
       "      <td>LotFrontage</td>\n",
       "      <td>2.160866</td>\n",
       "      <td>88</td>\n",
       "      <td>12</td>\n",
       "    </tr>\n",
       "    <tr>\n",
       "      <th>1</th>\n",
       "      <td>LotArea</td>\n",
       "      <td>12.195142</td>\n",
       "      <td>69</td>\n",
       "      <td>13</td>\n",
       "    </tr>\n",
       "    <tr>\n",
       "      <th>4</th>\n",
       "      <td>MasVnrArea</td>\n",
       "      <td>2.666326</td>\n",
       "      <td>96</td>\n",
       "      <td>32</td>\n",
       "    </tr>\n",
       "    <tr>\n",
       "      <th>5</th>\n",
       "      <td>BsmtFinSF1</td>\n",
       "      <td>1.683771</td>\n",
       "      <td>7</td>\n",
       "      <td>6</td>\n",
       "    </tr>\n",
       "    <tr>\n",
       "      <th>6</th>\n",
       "      <td>BsmtFinSF2</td>\n",
       "      <td>4.250888</td>\n",
       "      <td>167</td>\n",
       "      <td>50</td>\n",
       "    </tr>\n",
       "    <tr>\n",
       "      <th>7</th>\n",
       "      <td>BsmtUnfSF</td>\n",
       "      <td>0.919323</td>\n",
       "      <td>29</td>\n",
       "      <td>11</td>\n",
       "    </tr>\n",
       "    <tr>\n",
       "      <th>8</th>\n",
       "      <td>TotalBsmtSF</td>\n",
       "      <td>1.522688</td>\n",
       "      <td>61</td>\n",
       "      <td>10</td>\n",
       "    </tr>\n",
       "    <tr>\n",
       "      <th>9</th>\n",
       "      <td>1stFlrSF</td>\n",
       "      <td>1.375342</td>\n",
       "      <td>20</td>\n",
       "      <td>12</td>\n",
       "    </tr>\n",
       "    <tr>\n",
       "      <th>10</th>\n",
       "      <td>2ndFlrSF</td>\n",
       "      <td>0.812194</td>\n",
       "      <td>2</td>\n",
       "      <td>4</td>\n",
       "    </tr>\n",
       "    <tr>\n",
       "      <th>11</th>\n",
       "      <td>LowQualFinSF</td>\n",
       "      <td>9.002080</td>\n",
       "      <td>26</td>\n",
       "      <td>20</td>\n",
       "    </tr>\n",
       "    <tr>\n",
       "      <th>12</th>\n",
       "      <td>GrLivArea</td>\n",
       "      <td>1.365156</td>\n",
       "      <td>31</td>\n",
       "      <td>16</td>\n",
       "    </tr>\n",
       "    <tr>\n",
       "      <th>14</th>\n",
       "      <td>BsmtHalfBath</td>\n",
       "      <td>4.099186</td>\n",
       "      <td>82</td>\n",
       "      <td>82</td>\n",
       "    </tr>\n",
       "    <tr>\n",
       "      <th>18</th>\n",
       "      <td>KitchenAbvGr</td>\n",
       "      <td>4.483784</td>\n",
       "      <td>68</td>\n",
       "      <td>68</td>\n",
       "    </tr>\n",
       "    <tr>\n",
       "      <th>24</th>\n",
       "      <td>WoodDeckSF</td>\n",
       "      <td>1.539792</td>\n",
       "      <td>32</td>\n",
       "      <td>22</td>\n",
       "    </tr>\n",
       "    <tr>\n",
       "      <th>25</th>\n",
       "      <td>OpenPorchSF</td>\n",
       "      <td>2.361912</td>\n",
       "      <td>77</td>\n",
       "      <td>27</td>\n",
       "    </tr>\n",
       "    <tr>\n",
       "      <th>26</th>\n",
       "      <td>EnclosedPorch</td>\n",
       "      <td>3.086696</td>\n",
       "      <td>208</td>\n",
       "      <td>51</td>\n",
       "    </tr>\n",
       "    <tr>\n",
       "      <th>27</th>\n",
       "      <td>3SsnPorch</td>\n",
       "      <td>10.293752</td>\n",
       "      <td>24</td>\n",
       "      <td>23</td>\n",
       "    </tr>\n",
       "    <tr>\n",
       "      <th>28</th>\n",
       "      <td>ScreenPorch</td>\n",
       "      <td>4.117977</td>\n",
       "      <td>116</td>\n",
       "      <td>55</td>\n",
       "    </tr>\n",
       "    <tr>\n",
       "      <th>29</th>\n",
       "      <td>PoolArea</td>\n",
       "      <td>14.813135</td>\n",
       "      <td>7</td>\n",
       "      <td>7</td>\n",
       "    </tr>\n",
       "    <tr>\n",
       "      <th>30</th>\n",
       "      <td>MiscVal</td>\n",
       "      <td>24.451640</td>\n",
       "      <td>52</td>\n",
       "      <td>8</td>\n",
       "    </tr>\n",
       "    <tr>\n",
       "      <th>33</th>\n",
       "      <td>SalePrice</td>\n",
       "      <td>1.880941</td>\n",
       "      <td>61</td>\n",
       "      <td>22</td>\n",
       "    </tr>\n",
       "  </tbody>\n",
       "</table>\n",
       "</div>"
      ],
      "text/plain": [
       "          Feature   Skewness IQR Outliers Z-score Outliers\n",
       "0     LotFrontage   2.160866           88               12\n",
       "1         LotArea  12.195142           69               13\n",
       "4      MasVnrArea   2.666326           96               32\n",
       "5      BsmtFinSF1   1.683771            7                6\n",
       "6      BsmtFinSF2   4.250888          167               50\n",
       "7       BsmtUnfSF   0.919323           29               11\n",
       "8     TotalBsmtSF   1.522688           61               10\n",
       "9        1stFlrSF   1.375342           20               12\n",
       "10       2ndFlrSF   0.812194            2                4\n",
       "11   LowQualFinSF   9.002080           26               20\n",
       "12      GrLivArea   1.365156           31               16\n",
       "14   BsmtHalfBath   4.099186           82               82\n",
       "18   KitchenAbvGr   4.483784           68               68\n",
       "24     WoodDeckSF   1.539792           32               22\n",
       "25    OpenPorchSF   2.361912           77               27\n",
       "26  EnclosedPorch   3.086696          208               51\n",
       "27      3SsnPorch  10.293752           24               23\n",
       "28    ScreenPorch   4.117977          116               55\n",
       "29       PoolArea  14.813135            7                7\n",
       "30        MiscVal  24.451640           52                8\n",
       "33      SalePrice   1.880941           61               22"
      ]
     },
     "execution_count": 132,
     "metadata": {},
     "output_type": "execute_result"
    }
   ],
   "source": [
    "results[results['Skewness'] >= 0.8]"
   ]
  },
  {
   "cell_type": "code",
   "execution_count": 133,
   "id": "7fba4569",
   "metadata": {},
   "outputs": [
    {
     "data": {
      "text/html": [
       "<div>\n",
       "<style scoped>\n",
       "    .dataframe tbody tr th:only-of-type {\n",
       "        vertical-align: middle;\n",
       "    }\n",
       "\n",
       "    .dataframe tbody tr th {\n",
       "        vertical-align: top;\n",
       "    }\n",
       "\n",
       "    .dataframe thead th {\n",
       "        text-align: right;\n",
       "    }\n",
       "</style>\n",
       "<table border=\"1\" class=\"dataframe\">\n",
       "  <thead>\n",
       "    <tr style=\"text-align: right;\">\n",
       "      <th></th>\n",
       "      <th>Feature</th>\n",
       "      <th>Skewness</th>\n",
       "      <th>IQR Outliers</th>\n",
       "      <th>Z-score Outliers</th>\n",
       "    </tr>\n",
       "  </thead>\n",
       "  <tbody>\n",
       "    <tr>\n",
       "      <th>2</th>\n",
       "      <td>YearBuilt</td>\n",
       "      <td>-0.612831</td>\n",
       "      <td>7</td>\n",
       "      <td>6</td>\n",
       "    </tr>\n",
       "    <tr>\n",
       "      <th>3</th>\n",
       "      <td>YearRemodAdd</td>\n",
       "      <td>-0.503044</td>\n",
       "      <td>0</td>\n",
       "      <td>0</td>\n",
       "    </tr>\n",
       "    <tr>\n",
       "      <th>13</th>\n",
       "      <td>BsmtFullBath</td>\n",
       "      <td>0.595454</td>\n",
       "      <td>1</td>\n",
       "      <td>16</td>\n",
       "    </tr>\n",
       "    <tr>\n",
       "      <th>15</th>\n",
       "      <td>FullBath</td>\n",
       "      <td>0.036524</td>\n",
       "      <td>0</td>\n",
       "      <td>0</td>\n",
       "    </tr>\n",
       "    <tr>\n",
       "      <th>16</th>\n",
       "      <td>HalfBath</td>\n",
       "      <td>0.675203</td>\n",
       "      <td>0</td>\n",
       "      <td>12</td>\n",
       "    </tr>\n",
       "    <tr>\n",
       "      <th>17</th>\n",
       "      <td>BedroomAbvGr</td>\n",
       "      <td>0.211572</td>\n",
       "      <td>35</td>\n",
       "      <td>14</td>\n",
       "    </tr>\n",
       "    <tr>\n",
       "      <th>19</th>\n",
       "      <td>TotRmsAbvGrd</td>\n",
       "      <td>0.675646</td>\n",
       "      <td>30</td>\n",
       "      <td>12</td>\n",
       "    </tr>\n",
       "    <tr>\n",
       "      <th>20</th>\n",
       "      <td>Fireplaces</td>\n",
       "      <td>0.648898</td>\n",
       "      <td>5</td>\n",
       "      <td>5</td>\n",
       "    </tr>\n",
       "    <tr>\n",
       "      <th>21</th>\n",
       "      <td>GarageYrBlt</td>\n",
       "      <td>-0.648708</td>\n",
       "      <td>0</td>\n",
       "      <td>1</td>\n",
       "    </tr>\n",
       "    <tr>\n",
       "      <th>22</th>\n",
       "      <td>GarageCars</td>\n",
       "      <td>-0.342197</td>\n",
       "      <td>5</td>\n",
       "      <td>0</td>\n",
       "    </tr>\n",
       "    <tr>\n",
       "      <th>23</th>\n",
       "      <td>GarageArea</td>\n",
       "      <td>0.179796</td>\n",
       "      <td>21</td>\n",
       "      <td>7</td>\n",
       "    </tr>\n",
       "    <tr>\n",
       "      <th>31</th>\n",
       "      <td>MoSold</td>\n",
       "      <td>0.211835</td>\n",
       "      <td>0</td>\n",
       "      <td>0</td>\n",
       "    </tr>\n",
       "    <tr>\n",
       "      <th>32</th>\n",
       "      <td>YrSold</td>\n",
       "      <td>0.096170</td>\n",
       "      <td>0</td>\n",
       "      <td>0</td>\n",
       "    </tr>\n",
       "  </tbody>\n",
       "</table>\n",
       "</div>"
      ],
      "text/plain": [
       "         Feature  Skewness IQR Outliers Z-score Outliers\n",
       "2      YearBuilt -0.612831            7                6\n",
       "3   YearRemodAdd -0.503044            0                0\n",
       "13  BsmtFullBath  0.595454            1               16\n",
       "15      FullBath  0.036524            0                0\n",
       "16      HalfBath  0.675203            0               12\n",
       "17  BedroomAbvGr  0.211572           35               14\n",
       "19  TotRmsAbvGrd  0.675646           30               12\n",
       "20    Fireplaces  0.648898            5                5\n",
       "21   GarageYrBlt -0.648708            0                1\n",
       "22    GarageCars -0.342197            5                0\n",
       "23    GarageArea  0.179796           21                7\n",
       "31        MoSold  0.211835            0                0\n",
       "32        YrSold  0.096170            0                0"
      ]
     },
     "execution_count": 133,
     "metadata": {},
     "output_type": "execute_result"
    }
   ],
   "source": [
    "results[results['Skewness'] <= 0.8]"
   ]
  },
  {
   "cell_type": "code",
   "execution_count": null,
   "id": "ca72da79",
   "metadata": {},
   "outputs": [],
   "source": [
    "Next steps:\n",
    "1. All remaining count variables should be treated as categorical and removed here.\n",
    "2. Log scale all features with skewness >0.8\n",
    "4. Circular transformation for month\n",
    "5. Calc age for all year columns\n",
    "3. Standard scall all numerical features \n"
   ]
  },
  {
   "cell_type": "code",
   "execution_count": null,
   "id": "59b28bf3",
   "metadata": {},
   "outputs": [],
   "source": []
  },
  {
   "cell_type": "code",
   "execution_count": null,
   "id": "2ea711c1",
   "metadata": {},
   "outputs": [],
   "source": []
  },
  {
   "cell_type": "markdown",
   "id": "935d3d35",
   "metadata": {
    "heading_collapsed": true
   },
   "source": [
    "# Notes"
   ]
  },
  {
   "cell_type": "code",
   "execution_count": null,
   "id": "e75d5ef9",
   "metadata": {
    "hidden": true
   },
   "outputs": [],
   "source": [
    "data_new1 = data.astype(dtype_dict)\n",
    "\n",
    "data_new = pd.DataFrame()\n",
    "\n",
    "for column, dtype in dtype_dict.items():\n",
    "    try:\n",
    "        data_new[column] = data[column].astype(dtype)\n",
    "        print(f\"Successfully converted column '{column}' to {dtype}\")\n",
    "    except Exception as e:\n",
    "        print(f\"Failed to convert column '{column}' to {dtype}: {e}\")\n"
   ]
  }
 ],
 "metadata": {
  "kernelspec": {
   "display_name": "Python 3 (ipykernel)",
   "language": "python",
   "name": "python3"
  },
  "language_info": {
   "codemirror_mode": {
    "name": "ipython",
    "version": 3
   },
   "file_extension": ".py",
   "mimetype": "text/x-python",
   "name": "python",
   "nbconvert_exporter": "python",
   "pygments_lexer": "ipython3",
   "version": "3.10.6"
  },
  "toc": {
   "base_numbering": 1,
   "nav_menu": {},
   "number_sections": true,
   "sideBar": true,
   "skip_h1_title": false,
   "title_cell": "Table of Contents",
   "title_sidebar": "Contents",
   "toc_cell": false,
   "toc_position": {},
   "toc_section_display": true,
   "toc_window_display": false
  }
 },
 "nbformat": 4,
 "nbformat_minor": 5
}
